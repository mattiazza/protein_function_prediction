{
 "cells": [
  {
   "cell_type": "markdown",
   "metadata": {},
   "source": [
    "### Libraries"
   ]
  },
  {
   "cell_type": "code",
   "execution_count": 6,
   "metadata": {},
   "outputs": [
    {
     "name": "stderr",
     "output_type": "stream",
     "text": [
      "c:\\ProgramData\\anaconda3\\Lib\\site-packages\\Bio\\pairwise2.py:278: BiopythonDeprecationWarning: Bio.pairwise2 has been deprecated, and we intend to remove it in a future release of Biopython. As an alternative, please consider using Bio.Align.PairwiseAligner as a replacement, and contact the Biopython developers if you still need the Bio.pairwise2 module.\n",
      "  warnings.warn(\n"
     ]
    }
   ],
   "source": [
    "import pandas as pd \n",
    "import numpy as np\n",
    "import matplotlib.pyplot as plt\n",
    "\n",
    "from Bio.Seq import Seq\n",
    "from Bio import SeqIO\n",
    "from Bio import Align\n",
    "from Bio import AlignIO\n",
    "from Bio.Align import substitution_matrices\n",
    "from Bio.Data import IUPACData\n",
    "from Bio.Blast import NCBIWWW, NCBIXML\n",
    "from Bio.SeqRecord import SeqRecord\n",
    "from Bio import pairwise2\n",
    "from Bio.pairwise2 import format_alignment\n",
    "\n",
    "import cafaeval\n",
    "from cafaeval.evaluation import cafa_eval\n",
    "from cafaeval.parser import obo_parser, gt_parser\n",
    "\n",
    "from pathlib import Path\n",
    "import os\n",
    "\n",
    "import h5py"
   ]
  },
  {
   "cell_type": "markdown",
   "metadata": {},
   "source": [
    "Creating the path to the main folder we are going to use to create our datasets"
   ]
  },
  {
   "cell_type": "code",
   "execution_count": 7,
   "metadata": {},
   "outputs": [],
   "source": [
    "# Path to train data\n",
    "training_data_path = Path('../data/train')\n",
    "\n",
    "# Path to test data\n",
    "test_data_path = Path('../data/test')\n",
    "\n",
    "# Path to baseline data\n",
    "baseline_data_path = Path('../data/baseline')\n"
   ]
  },
  {
   "cell_type": "markdown",
   "metadata": {},
   "source": [
    "# Training Set\n",
    "\n",
    "In this section we are **creating the Training Set**, fusing togheter the data from:\n",
    "- _train_set.tsv_\n",
    "- _train_ids.txt_\n",
    "- _train.fasta_\n",
    "- _train_embeddings.h5_\n",
    "- _train_protein2ipr.dat_\n",
    "- _go-basic.obo_"
   ]
  },
  {
   "cell_type": "markdown",
   "metadata": {},
   "source": [
    "### Extracting `train_set.tsv`"
   ]
  },
  {
   "cell_type": "code",
   "execution_count": 8,
   "metadata": {},
   "outputs": [
    {
     "data": {
      "text/html": [
       "<div>\n",
       "<style scoped>\n",
       "    .dataframe tbody tr th:only-of-type {\n",
       "        vertical-align: middle;\n",
       "    }\n",
       "\n",
       "    .dataframe tbody tr th {\n",
       "        vertical-align: top;\n",
       "    }\n",
       "\n",
       "    .dataframe thead th {\n",
       "        text-align: right;\n",
       "    }\n",
       "</style>\n",
       "<table border=\"1\" class=\"dataframe\">\n",
       "  <thead>\n",
       "    <tr style=\"text-align: right;\">\n",
       "      <th></th>\n",
       "      <th>ID</th>\n",
       "      <th>sub_ontology</th>\n",
       "      <th>GO_term</th>\n",
       "    </tr>\n",
       "  </thead>\n",
       "  <tbody>\n",
       "    <tr>\n",
       "      <th>0</th>\n",
       "      <td>P91124</td>\n",
       "      <td>cellular_component</td>\n",
       "      <td>GO:0005575</td>\n",
       "    </tr>\n",
       "    <tr>\n",
       "      <th>1</th>\n",
       "      <td>P91124</td>\n",
       "      <td>cellular_component</td>\n",
       "      <td>GO:0110165</td>\n",
       "    </tr>\n",
       "    <tr>\n",
       "      <th>2</th>\n",
       "      <td>P91124</td>\n",
       "      <td>cellular_component</td>\n",
       "      <td>GO:0005737</td>\n",
       "    </tr>\n",
       "    <tr>\n",
       "      <th>3</th>\n",
       "      <td>P91124</td>\n",
       "      <td>cellular_component</td>\n",
       "      <td>GO:0005622</td>\n",
       "    </tr>\n",
       "    <tr>\n",
       "      <th>4</th>\n",
       "      <td>P91124</td>\n",
       "      <td>cellular_component</td>\n",
       "      <td>GO:0043226</td>\n",
       "    </tr>\n",
       "  </tbody>\n",
       "</table>\n",
       "</div>"
      ],
      "text/plain": [
       "       ID        sub_ontology     GO_term\n",
       "0  P91124  cellular_component  GO:0005575\n",
       "1  P91124  cellular_component  GO:0110165\n",
       "2  P91124  cellular_component  GO:0005737\n",
       "3  P91124  cellular_component  GO:0005622\n",
       "4  P91124  cellular_component  GO:0043226"
      ]
     },
     "execution_count": 8,
     "metadata": {},
     "output_type": "execute_result"
    }
   ],
   "source": [
    "train_set = pd.read_csv(training_data_path / 'train_set.tsv', sep='\\t')\n",
    "\n",
    "# Rename Protein_ID and aspect columns\n",
    "train_set.rename(columns={'Protein_ID': 'ID', 'aspect' : 'sub_ontology'}, inplace=True)\n",
    "\n",
    "# Display the first few rows of the train set\n",
    "train_set.head()"
   ]
  },
  {
   "cell_type": "markdown",
   "metadata": {},
   "source": [
    "### Extracting `train_ids.txt`"
   ]
  },
  {
   "cell_type": "code",
   "execution_count": 9,
   "metadata": {},
   "outputs": [
    {
     "name": "stdout",
     "output_type": "stream",
     "text": [
      "['P91124', 'Q55DL5', 'O81027', 'Q04418', 'Q8IXT2']\n"
     ]
    }
   ],
   "source": [
    "# Extracting train_ids.txt\n",
    "with open(training_data_path / 'train_ids.txt', 'r') as file:\n",
    "    train_ids = file.read().splitlines()\n",
    "\n",
    "# Display the first few IDs to verify\n",
    "print(train_ids[:5])"
   ]
  },
  {
   "cell_type": "code",
   "execution_count": 10,
   "metadata": {},
   "outputs": [
    {
     "name": "stdout",
     "output_type": "stream",
     "text": [
      "The number of IDs in train_ids.txt is equal to the number of unique IDs in the train set (123969).\n",
      "Proceeding with the analysis.\n"
     ]
    }
   ],
   "source": [
    "if len(train_ids) == len(train_set['ID'].unique()):\n",
    "    print(f\"The number of IDs in train_ids.txt is equal to the number of unique IDs in the train set ({len(train_ids)}).\\n\"\n",
    "          \"Proceeding with the analysis.\")"
   ]
  },
  {
   "cell_type": "markdown",
   "metadata": {},
   "source": [
    "### Extracting `train.fasta`"
   ]
  },
  {
   "cell_type": "code",
   "execution_count": 11,
   "metadata": {},
   "outputs": [
    {
     "name": "stdout",
     "output_type": "stream",
     "text": [
      "ID: P91124\n",
      "Name: P91124\n",
      "Description: P91124\n",
      "Number of features: 0\n",
      "Seq('MAAQFYERNTSGMNADRFMTRLTDESTVNTMQRHYWTARQFIRTKLGKKEDEHL...NLL')\n"
     ]
    }
   ],
   "source": [
    "train_fasta_list = list(SeqIO.parse(training_data_path / 'train.fasta', 'fasta'))\n",
    "\n",
    "# Print the first sequence to verify\n",
    "print(train_fasta_list[0])"
   ]
  },
  {
   "cell_type": "markdown",
   "metadata": {},
   "source": [
    "Let's transform it into a DataFrame"
   ]
  },
  {
   "cell_type": "code",
   "execution_count": 12,
   "metadata": {},
   "outputs": [
    {
     "data": {
      "text/html": [
       "<div>\n",
       "<style scoped>\n",
       "    .dataframe tbody tr th:only-of-type {\n",
       "        vertical-align: middle;\n",
       "    }\n",
       "\n",
       "    .dataframe tbody tr th {\n",
       "        vertical-align: top;\n",
       "    }\n",
       "\n",
       "    .dataframe thead th {\n",
       "        text-align: right;\n",
       "    }\n",
       "</style>\n",
       "<table border=\"1\" class=\"dataframe\">\n",
       "  <thead>\n",
       "    <tr style=\"text-align: right;\">\n",
       "      <th></th>\n",
       "      <th>id</th>\n",
       "      <th>name</th>\n",
       "      <th>description</th>\n",
       "      <th>num_features</th>\n",
       "      <th>sequence</th>\n",
       "    </tr>\n",
       "  </thead>\n",
       "  <tbody>\n",
       "    <tr>\n",
       "      <th>0</th>\n",
       "      <td>P91124</td>\n",
       "      <td>P91124</td>\n",
       "      <td>P91124</td>\n",
       "      <td>0</td>\n",
       "      <td>(M, A, A, Q, F, Y, E, R, N, T, S, G, M, N, A, ...</td>\n",
       "    </tr>\n",
       "    <tr>\n",
       "      <th>1</th>\n",
       "      <td>Q55DL5</td>\n",
       "      <td>Q55DL5</td>\n",
       "      <td>Q55DL5</td>\n",
       "      <td>0</td>\n",
       "      <td>(M, S, E, I, L, I, D, S, E, L, L, S, C, P, I, ...</td>\n",
       "    </tr>\n",
       "    <tr>\n",
       "      <th>2</th>\n",
       "      <td>O81027</td>\n",
       "      <td>O81027</td>\n",
       "      <td>O81027</td>\n",
       "      <td>0</td>\n",
       "      <td>(M, Q, W, N, G, V, R, R, A, H, S, I, W, C, K, ...</td>\n",
       "    </tr>\n",
       "    <tr>\n",
       "      <th>3</th>\n",
       "      <td>Q04418</td>\n",
       "      <td>Q04418</td>\n",
       "      <td>Q04418</td>\n",
       "      <td>0</td>\n",
       "      <td>(M, D, L, L, G, D, I, V, E, K, D, T, S, D, S, ...</td>\n",
       "    </tr>\n",
       "    <tr>\n",
       "      <th>4</th>\n",
       "      <td>Q8IXT2</td>\n",
       "      <td>Q8IXT2</td>\n",
       "      <td>Q8IXT2</td>\n",
       "      <td>0</td>\n",
       "      <td>(M, E, P, S, D, M, P, A, G, Y, H, C, P, L, D, ...</td>\n",
       "    </tr>\n",
       "  </tbody>\n",
       "</table>\n",
       "</div>"
      ],
      "text/plain": [
       "       id    name description  num_features  \\\n",
       "0  P91124  P91124      P91124             0   \n",
       "1  Q55DL5  Q55DL5      Q55DL5             0   \n",
       "2  O81027  O81027      O81027             0   \n",
       "3  Q04418  Q04418      Q04418             0   \n",
       "4  Q8IXT2  Q8IXT2      Q8IXT2             0   \n",
       "\n",
       "                                            sequence  \n",
       "0  (M, A, A, Q, F, Y, E, R, N, T, S, G, M, N, A, ...  \n",
       "1  (M, S, E, I, L, I, D, S, E, L, L, S, C, P, I, ...  \n",
       "2  (M, Q, W, N, G, V, R, R, A, H, S, I, W, C, K, ...  \n",
       "3  (M, D, L, L, G, D, I, V, E, K, D, T, S, D, S, ...  \n",
       "4  (M, E, P, S, D, M, P, A, G, Y, H, C, P, L, D, ...  "
      ]
     },
     "execution_count": 12,
     "metadata": {},
     "output_type": "execute_result"
    }
   ],
   "source": [
    "# Extract relevant information from SeqRecord\n",
    "train_fasta_dict = [{\n",
    "    'id': record.id,\n",
    "    'name': record.name,\n",
    "    'description': record.description,\n",
    "    'num_features': len(record.features),\n",
    "    'sequence': record.seq,\n",
    "} for record in train_fasta_list]\n",
    "\n",
    "# Create a DataFrame from the extracted data\n",
    "train_fasta = pd.DataFrame(train_fasta_dict)\n",
    "\n",
    "# Display the DataFrame\n",
    "train_fasta.head()"
   ]
  },
  {
   "cell_type": "markdown",
   "metadata": {},
   "source": [
    "Checking if `id`, `name` and `description` have the same information"
   ]
  },
  {
   "cell_type": "code",
   "execution_count": 13,
   "metadata": {},
   "outputs": [
    {
     "name": "stdout",
     "output_type": "stream",
     "text": [
      "We have a total of 0 differences between the id and name columns.\n",
      "We have a total of 0 differences between the id and description columns.\n"
     ]
    }
   ],
   "source": [
    "# Checking for differences between the id and name columns\n",
    "diff_id_name = sum(train_fasta['id'] != train_fasta['name'])\n",
    "\n",
    "# Checking for differences between the id and description columns\n",
    "diff_id_description = sum(train_fasta['id'] != train_fasta['description'])\n",
    "\n",
    "print(f\"We have a total of {diff_id_name} differences between the id and name columns.\\nWe have a total of {diff_id_description} differences between the id and description columns.\")"
   ]
  },
  {
   "cell_type": "markdown",
   "metadata": {},
   "source": [
    "Checking if `num_features` has value different from 0"
   ]
  },
  {
   "cell_type": "code",
   "execution_count": 14,
   "metadata": {},
   "outputs": [
    {
     "name": "stdout",
     "output_type": "stream",
     "text": [
      "We have a total of 0 sequences with features.\n"
     ]
    }
   ],
   "source": [
    "num_features_values = sum(train_fasta['num_features'] != 0)\n",
    "\n",
    "print(f\"We have a total of {num_features_values} sequences with features.\")"
   ]
  },
  {
   "cell_type": "markdown",
   "metadata": {},
   "source": [
    "**Nice!**\n",
    "\n",
    "We found that `id`, `name` and `description` columns are the same. We can remove two of them (`name`, `descritpion`). \n",
    "\n",
    "In the same way we saw that `num_features` is not very informative since it has only 0, let's remove it as well\n",
    "\n"
   ]
  },
  {
   "cell_type": "code",
   "execution_count": 15,
   "metadata": {},
   "outputs": [
    {
     "data": {
      "text/html": [
       "<div>\n",
       "<style scoped>\n",
       "    .dataframe tbody tr th:only-of-type {\n",
       "        vertical-align: middle;\n",
       "    }\n",
       "\n",
       "    .dataframe tbody tr th {\n",
       "        vertical-align: top;\n",
       "    }\n",
       "\n",
       "    .dataframe thead th {\n",
       "        text-align: right;\n",
       "    }\n",
       "</style>\n",
       "<table border=\"1\" class=\"dataframe\">\n",
       "  <thead>\n",
       "    <tr style=\"text-align: right;\">\n",
       "      <th></th>\n",
       "      <th>id</th>\n",
       "      <th>sequence</th>\n",
       "    </tr>\n",
       "  </thead>\n",
       "  <tbody>\n",
       "    <tr>\n",
       "      <th>0</th>\n",
       "      <td>P91124</td>\n",
       "      <td>(M, A, A, Q, F, Y, E, R, N, T, S, G, M, N, A, ...</td>\n",
       "    </tr>\n",
       "    <tr>\n",
       "      <th>1</th>\n",
       "      <td>Q55DL5</td>\n",
       "      <td>(M, S, E, I, L, I, D, S, E, L, L, S, C, P, I, ...</td>\n",
       "    </tr>\n",
       "    <tr>\n",
       "      <th>2</th>\n",
       "      <td>O81027</td>\n",
       "      <td>(M, Q, W, N, G, V, R, R, A, H, S, I, W, C, K, ...</td>\n",
       "    </tr>\n",
       "    <tr>\n",
       "      <th>3</th>\n",
       "      <td>Q04418</td>\n",
       "      <td>(M, D, L, L, G, D, I, V, E, K, D, T, S, D, S, ...</td>\n",
       "    </tr>\n",
       "    <tr>\n",
       "      <th>4</th>\n",
       "      <td>Q8IXT2</td>\n",
       "      <td>(M, E, P, S, D, M, P, A, G, Y, H, C, P, L, D, ...</td>\n",
       "    </tr>\n",
       "  </tbody>\n",
       "</table>\n",
       "</div>"
      ],
      "text/plain": [
       "       id                                           sequence\n",
       "0  P91124  (M, A, A, Q, F, Y, E, R, N, T, S, G, M, N, A, ...\n",
       "1  Q55DL5  (M, S, E, I, L, I, D, S, E, L, L, S, C, P, I, ...\n",
       "2  O81027  (M, Q, W, N, G, V, R, R, A, H, S, I, W, C, K, ...\n",
       "3  Q04418  (M, D, L, L, G, D, I, V, E, K, D, T, S, D, S, ...\n",
       "4  Q8IXT2  (M, E, P, S, D, M, P, A, G, Y, H, C, P, L, D, ..."
      ]
     },
     "execution_count": 15,
     "metadata": {},
     "output_type": "execute_result"
    }
   ],
   "source": [
    "train_fasta.drop(columns=['name', 'description', 'num_features'], inplace=True)\n",
    "\n",
    "\n",
    "train_fasta.head()"
   ]
  },
  {
   "cell_type": "markdown",
   "metadata": {},
   "source": [
    "### Extracting `train_embeddings.h5`"
   ]
  },
  {
   "cell_type": "code",
   "execution_count": 16,
   "metadata": {},
   "outputs": [
    {
     "data": {
      "text/html": [
       "<div>\n",
       "<style scoped>\n",
       "    .dataframe tbody tr th:only-of-type {\n",
       "        vertical-align: middle;\n",
       "    }\n",
       "\n",
       "    .dataframe tbody tr th {\n",
       "        vertical-align: top;\n",
       "    }\n",
       "\n",
       "    .dataframe thead th {\n",
       "        text-align: right;\n",
       "    }\n",
       "</style>\n",
       "<table border=\"1\" class=\"dataframe\">\n",
       "  <thead>\n",
       "    <tr style=\"text-align: right;\">\n",
       "      <th></th>\n",
       "      <th>id</th>\n",
       "      <th>embeddings</th>\n",
       "    </tr>\n",
       "  </thead>\n",
       "  <tbody>\n",
       "    <tr>\n",
       "      <th>0</th>\n",
       "      <td>A0A009IHW8</td>\n",
       "      <td>[0.0682, -0.04648, 0.001752, -0.00858, 0.00376...</td>\n",
       "    </tr>\n",
       "    <tr>\n",
       "      <th>1</th>\n",
       "      <td>A0A021WW32</td>\n",
       "      <td>[-0.01643, -0.001583, 0.00389, 0.0734, 0.01243...</td>\n",
       "    </tr>\n",
       "    <tr>\n",
       "      <th>2</th>\n",
       "      <td>A0A021WZA4</td>\n",
       "      <td>[0.007904, 0.0877, -0.001715, 0.03766, 0.01788...</td>\n",
       "    </tr>\n",
       "    <tr>\n",
       "      <th>3</th>\n",
       "      <td>A0A023FBW4</td>\n",
       "      <td>[0.002447, 0.007053, 0.06445, 0.00727, -0.0335...</td>\n",
       "    </tr>\n",
       "    <tr>\n",
       "      <th>4</th>\n",
       "      <td>A0A023FBW7</td>\n",
       "      <td>[0.04932, 0.02069, 0.10864, 0.01634, -0.05106,...</td>\n",
       "    </tr>\n",
       "  </tbody>\n",
       "</table>\n",
       "</div>"
      ],
      "text/plain": [
       "           id                                         embeddings\n",
       "0  A0A009IHW8  [0.0682, -0.04648, 0.001752, -0.00858, 0.00376...\n",
       "1  A0A021WW32  [-0.01643, -0.001583, 0.00389, 0.0734, 0.01243...\n",
       "2  A0A021WZA4  [0.007904, 0.0877, -0.001715, 0.03766, 0.01788...\n",
       "3  A0A023FBW4  [0.002447, 0.007053, 0.06445, 0.00727, -0.0335...\n",
       "4  A0A023FBW7  [0.04932, 0.02069, 0.10864, 0.01634, -0.05106,..."
      ]
     },
     "execution_count": 16,
     "metadata": {},
     "output_type": "execute_result"
    }
   ],
   "source": [
    "filename = \"train_embeddings.h5\"\n",
    "\n",
    "data_list = []\n",
    "\n",
    "with h5py.File(training_data_path / filename, \"r\") as f:\n",
    "    for dataset_name in f.keys():\n",
    "        dataset = f[dataset_name][:]\n",
    "        data_list.append([dataset_name, dataset])\n",
    "\n",
    "train_embeddings = pd.DataFrame(data_list, columns=[\"id\", \"embeddings\"])\n",
    "\n",
    "train_embeddings.head()"
   ]
  },
  {
   "cell_type": "markdown",
   "metadata": {},
   "source": [
    "### Extracting `train_protein2ipr.dat`"
   ]
  },
  {
   "cell_type": "code",
   "execution_count": 17,
   "metadata": {},
   "outputs": [
    {
     "data": {
      "text/html": [
       "<div>\n",
       "<style scoped>\n",
       "    .dataframe tbody tr th:only-of-type {\n",
       "        vertical-align: middle;\n",
       "    }\n",
       "\n",
       "    .dataframe tbody tr th {\n",
       "        vertical-align: top;\n",
       "    }\n",
       "\n",
       "    .dataframe thead th {\n",
       "        text-align: right;\n",
       "    }\n",
       "</style>\n",
       "<table border=\"1\" class=\"dataframe\">\n",
       "  <thead>\n",
       "    <tr style=\"text-align: right;\">\n",
       "      <th></th>\n",
       "      <th>id</th>\n",
       "      <th>ipr</th>\n",
       "      <th>domain</th>\n",
       "      <th>familyID</th>\n",
       "      <th>start</th>\n",
       "      <th>end</th>\n",
       "    </tr>\n",
       "  </thead>\n",
       "  <tbody>\n",
       "    <tr>\n",
       "      <th>0</th>\n",
       "      <td>A0A009IHW8</td>\n",
       "      <td>IPR000157</td>\n",
       "      <td>Toll/interleukin-1 receptor homology (TIR) domain</td>\n",
       "      <td>PS50104</td>\n",
       "      <td>133</td>\n",
       "      <td>266</td>\n",
       "    </tr>\n",
       "    <tr>\n",
       "      <th>1</th>\n",
       "      <td>A0A009IHW8</td>\n",
       "      <td>IPR000157</td>\n",
       "      <td>Toll/interleukin-1 receptor homology (TIR) domain</td>\n",
       "      <td>SM00255</td>\n",
       "      <td>134</td>\n",
       "      <td>258</td>\n",
       "    </tr>\n",
       "    <tr>\n",
       "      <th>2</th>\n",
       "      <td>A0A009IHW8</td>\n",
       "      <td>IPR035897</td>\n",
       "      <td>Toll/interleukin-1 receptor homology (TIR) dom...</td>\n",
       "      <td>G3DSA:3.40.50.10140</td>\n",
       "      <td>80</td>\n",
       "      <td>266</td>\n",
       "    </tr>\n",
       "    <tr>\n",
       "      <th>3</th>\n",
       "      <td>A0A009IHW8</td>\n",
       "      <td>IPR035897</td>\n",
       "      <td>Toll/interleukin-1 receptor homology (TIR) dom...</td>\n",
       "      <td>SSF52200</td>\n",
       "      <td>128</td>\n",
       "      <td>249</td>\n",
       "    </tr>\n",
       "    <tr>\n",
       "      <th>4</th>\n",
       "      <td>A0A021WW32</td>\n",
       "      <td>IPR006910</td>\n",
       "      <td>Rad21/Rec8-like protein, N-terminal</td>\n",
       "      <td>PF04825</td>\n",
       "      <td>1</td>\n",
       "      <td>103</td>\n",
       "    </tr>\n",
       "  </tbody>\n",
       "</table>\n",
       "</div>"
      ],
      "text/plain": [
       "           id        ipr                                             domain  \\\n",
       "0  A0A009IHW8  IPR000157  Toll/interleukin-1 receptor homology (TIR) domain   \n",
       "1  A0A009IHW8  IPR000157  Toll/interleukin-1 receptor homology (TIR) domain   \n",
       "2  A0A009IHW8  IPR035897  Toll/interleukin-1 receptor homology (TIR) dom...   \n",
       "3  A0A009IHW8  IPR035897  Toll/interleukin-1 receptor homology (TIR) dom...   \n",
       "4  A0A021WW32  IPR006910                Rad21/Rec8-like protein, N-terminal   \n",
       "\n",
       "              familyID  start  end  \n",
       "0              PS50104    133  266  \n",
       "1              SM00255    134  258  \n",
       "2  G3DSA:3.40.50.10140     80  266  \n",
       "3             SSF52200    128  249  \n",
       "4              PF04825      1  103  "
      ]
     },
     "execution_count": 17,
     "metadata": {},
     "output_type": "execute_result"
    }
   ],
   "source": [
    "train_protein2ipr = pd.read_csv(training_data_path / 'train_protein2ipr.dat', sep='\\t')\n",
    "\n",
    "# Rename Protein_ID and aspect columns\n",
    "train_protein2ipr.columns = ['id', 'ipr', 'domain', 'familyID', 'start', 'end']\n",
    "\n",
    "# Display the first few rows of the train set\n",
    "train_protein2ipr.head()"
   ]
  },
  {
   "cell_type": "markdown",
   "metadata": {},
   "source": [
    "Still have to understand what *tizio, caio, sempronio* are."
   ]
  },
  {
   "cell_type": "markdown",
   "metadata": {},
   "source": [
    "### Extracting `go-basic.obo`"
   ]
  },
  {
   "cell_type": "code",
   "execution_count": 18,
   "metadata": {},
   "outputs": [
    {
     "name": "stdout",
     "output_type": "stream",
     "text": [
      "All IDs with namespaces:\n"
     ]
    },
    {
     "data": {
      "text/html": [
       "<div>\n",
       "<style scoped>\n",
       "    .dataframe tbody tr th:only-of-type {\n",
       "        vertical-align: middle;\n",
       "    }\n",
       "\n",
       "    .dataframe tbody tr th {\n",
       "        vertical-align: top;\n",
       "    }\n",
       "\n",
       "    .dataframe thead th {\n",
       "        text-align: right;\n",
       "    }\n",
       "</style>\n",
       "<table border=\"1\" class=\"dataframe\">\n",
       "  <thead>\n",
       "    <tr style=\"text-align: right;\">\n",
       "      <th></th>\n",
       "      <th>id</th>\n",
       "      <th>name</th>\n",
       "      <th>namespace</th>\n",
       "      <th>is_a</th>\n",
       "      <th>part_of</th>\n",
       "    </tr>\n",
       "  </thead>\n",
       "  <tbody>\n",
       "    <tr>\n",
       "      <th>0</th>\n",
       "      <td>GO:0000001</td>\n",
       "      <td>mitochondrion inheritance</td>\n",
       "      <td>biological_process</td>\n",
       "      <td>[GO:0048308, GO:0048311]</td>\n",
       "      <td>[]</td>\n",
       "    </tr>\n",
       "    <tr>\n",
       "      <th>1</th>\n",
       "      <td>GO:0000002</td>\n",
       "      <td>mitochondrial genome maintenance</td>\n",
       "      <td>biological_process</td>\n",
       "      <td>[GO:0007005]</td>\n",
       "      <td>[]</td>\n",
       "    </tr>\n",
       "    <tr>\n",
       "      <th>2</th>\n",
       "      <td>GO:0000003</td>\n",
       "      <td>reproduction</td>\n",
       "      <td>biological_process</td>\n",
       "      <td>[GO:0008150]</td>\n",
       "      <td>[]</td>\n",
       "    </tr>\n",
       "    <tr>\n",
       "      <th>3</th>\n",
       "      <td>GO:0019952</td>\n",
       "      <td>reproduction</td>\n",
       "      <td>biological_process</td>\n",
       "      <td>[GO:0008150]</td>\n",
       "      <td>[]</td>\n",
       "    </tr>\n",
       "    <tr>\n",
       "      <th>4</th>\n",
       "      <td>GO:0050876</td>\n",
       "      <td>reproduction</td>\n",
       "      <td>biological_process</td>\n",
       "      <td>[GO:0008150]</td>\n",
       "      <td>[]</td>\n",
       "    </tr>\n",
       "  </tbody>\n",
       "</table>\n",
       "</div>"
      ],
      "text/plain": [
       "           id                              name           namespace  \\\n",
       "0  GO:0000001         mitochondrion inheritance  biological_process   \n",
       "1  GO:0000002  mitochondrial genome maintenance  biological_process   \n",
       "2  GO:0000003                      reproduction  biological_process   \n",
       "3  GO:0019952                      reproduction  biological_process   \n",
       "4  GO:0050876                      reproduction  biological_process   \n",
       "\n",
       "                       is_a part_of  \n",
       "0  [GO:0048308, GO:0048311]      []  \n",
       "1              [GO:0007005]      []  \n",
       "2              [GO:0008150]      []  \n",
       "3              [GO:0008150]      []  \n",
       "4              [GO:0008150]      []  "
      ]
     },
     "execution_count": 18,
     "metadata": {},
     "output_type": "execute_result"
    }
   ],
   "source": [
    "import re\n",
    "\n",
    "file_path = \"../data/train/go-basic.obo\"  # Replace with your file path\n",
    "\n",
    "# Step 1: Initialize storage for GO terms\n",
    "go_terms = []\n",
    "\n",
    "# Step 2: Parse the .obo file\n",
    "with open(file_path, 'r') as file:\n",
    "    current_term = {}\n",
    "    for line in file:\n",
    "        line = line.strip()\n",
    "        \n",
    "        # Start of a new term\n",
    "        if line == \"[Term]\":\n",
    "            if current_term:  # Save the previous term\n",
    "                go_terms.append(current_term)\n",
    "            current_term = {}  # Start a new term\n",
    "            \n",
    "        elif line.startswith(\"id:\"):\n",
    "            current_term['id'] = line.split(\"id: \")[1]\n",
    "            \n",
    "        elif line.startswith(\"alt_id:\"):\n",
    "            alt_id = line.split(\"alt_id: \")[1]\n",
    "            current_term.setdefault('alt_ids', []).append(alt_id)\n",
    "            \n",
    "        elif line.startswith(\"name:\"):\n",
    "            current_term['name'] = line.split(\"name: \")[1]\n",
    "            \n",
    "        elif line.startswith(\"namespace:\"):\n",
    "            current_term['namespace'] = line.split(\"namespace: \")[1]\n",
    "            \n",
    "        elif line.startswith(\"is_a\"):\n",
    "            match = re.search(r\"GO:\\d+\", line)  # Search for GO ID\n",
    "            if match:  # Check if a match was found\n",
    "                is_a_id = match.group()\n",
    "                current_term.setdefault('is_a', []).append(is_a_id)\n",
    "                \n",
    "        elif line.startswith(\"relationship: part_of\"):\n",
    "            match = re.search(r\"GO:\\d+\", line)  # Search for GO ID\n",
    "            if match:  # Check if a match was found\n",
    "                part_of_id = match.group()\n",
    "                current_term.setdefault('part_of', []).append(part_of_id)\n",
    "\n",
    "            \n",
    "    # Add the last term\n",
    "    if current_term:\n",
    "        go_terms.append(current_term)\n",
    "\n",
    "# Step 3: Create a unified list of all IDs (primary and alt_ids)\n",
    "expanded_terms = []\n",
    "for term in go_terms:\n",
    "    primary_id = term['id']\n",
    "    alt_ids = term.get('alt_ids', [])\n",
    "    all_ids = [primary_id] + alt_ids\n",
    "    \n",
    "    for term_id in all_ids:\n",
    "        expanded_terms.append({\n",
    "            'id': term_id,\n",
    "            'name': term.get('name'),\n",
    "            'namespace': term.get('namespace'),\n",
    "            'is_a': term.get('is_a', []),\n",
    "            'part_of': term.get('part_of', [])\n",
    "        })\n",
    "\n",
    "# Step 4: Convert to a DataFrame\n",
    "df = pd.DataFrame(expanded_terms)\n",
    "\n",
    "# Step 5: Filter by namespace and explode relationships\n",
    "df_is_a = df.explode('is_a').dropna(subset=['is_a'])\n",
    "df_part_of = df.explode('part_of').dropna(subset=['part_of'])\n",
    "\n",
    "\n",
    "print(\"All IDs with namespaces:\")\n",
    "df.head()"
   ]
  },
  {
   "cell_type": "code",
   "execution_count": 19,
   "metadata": {},
   "outputs": [
    {
     "name": "stdout",
     "output_type": "stream",
     "text": [
      "'is_a' relationships:\n"
     ]
    },
    {
     "data": {
      "text/html": [
       "<div>\n",
       "<style scoped>\n",
       "    .dataframe tbody tr th:only-of-type {\n",
       "        vertical-align: middle;\n",
       "    }\n",
       "\n",
       "    .dataframe tbody tr th {\n",
       "        vertical-align: top;\n",
       "    }\n",
       "\n",
       "    .dataframe thead th {\n",
       "        text-align: right;\n",
       "    }\n",
       "</style>\n",
       "<table border=\"1\" class=\"dataframe\">\n",
       "  <thead>\n",
       "    <tr style=\"text-align: right;\">\n",
       "      <th></th>\n",
       "      <th>id</th>\n",
       "      <th>name</th>\n",
       "      <th>namespace</th>\n",
       "      <th>is_a</th>\n",
       "      <th>part_of</th>\n",
       "    </tr>\n",
       "  </thead>\n",
       "  <tbody>\n",
       "    <tr>\n",
       "      <th>0</th>\n",
       "      <td>GO:0000001</td>\n",
       "      <td>mitochondrion inheritance</td>\n",
       "      <td>biological_process</td>\n",
       "      <td>GO:0048308</td>\n",
       "      <td>[]</td>\n",
       "    </tr>\n",
       "    <tr>\n",
       "      <th>0</th>\n",
       "      <td>GO:0000001</td>\n",
       "      <td>mitochondrion inheritance</td>\n",
       "      <td>biological_process</td>\n",
       "      <td>GO:0048311</td>\n",
       "      <td>[]</td>\n",
       "    </tr>\n",
       "    <tr>\n",
       "      <th>1</th>\n",
       "      <td>GO:0000002</td>\n",
       "      <td>mitochondrial genome maintenance</td>\n",
       "      <td>biological_process</td>\n",
       "      <td>GO:0007005</td>\n",
       "      <td>[]</td>\n",
       "    </tr>\n",
       "    <tr>\n",
       "      <th>2</th>\n",
       "      <td>GO:0000003</td>\n",
       "      <td>reproduction</td>\n",
       "      <td>biological_process</td>\n",
       "      <td>GO:0008150</td>\n",
       "      <td>[]</td>\n",
       "    </tr>\n",
       "    <tr>\n",
       "      <th>3</th>\n",
       "      <td>GO:0019952</td>\n",
       "      <td>reproduction</td>\n",
       "      <td>biological_process</td>\n",
       "      <td>GO:0008150</td>\n",
       "      <td>[]</td>\n",
       "    </tr>\n",
       "  </tbody>\n",
       "</table>\n",
       "</div>"
      ],
      "text/plain": [
       "           id                              name           namespace  \\\n",
       "0  GO:0000001         mitochondrion inheritance  biological_process   \n",
       "0  GO:0000001         mitochondrion inheritance  biological_process   \n",
       "1  GO:0000002  mitochondrial genome maintenance  biological_process   \n",
       "2  GO:0000003                      reproduction  biological_process   \n",
       "3  GO:0019952                      reproduction  biological_process   \n",
       "\n",
       "         is_a part_of  \n",
       "0  GO:0048308      []  \n",
       "0  GO:0048311      []  \n",
       "1  GO:0007005      []  \n",
       "2  GO:0008150      []  \n",
       "3  GO:0008150      []  "
      ]
     },
     "execution_count": 19,
     "metadata": {},
     "output_type": "execute_result"
    }
   ],
   "source": [
    "print(\"'is_a' relationships:\")\n",
    "df_is_a.head()"
   ]
  },
  {
   "cell_type": "code",
   "execution_count": 20,
   "metadata": {},
   "outputs": [
    {
     "name": "stdout",
     "output_type": "stream",
     "text": [
      "'part_of' relationships:\n"
     ]
    },
    {
     "data": {
      "text/html": [
       "<div>\n",
       "<style scoped>\n",
       "    .dataframe tbody tr th:only-of-type {\n",
       "        vertical-align: middle;\n",
       "    }\n",
       "\n",
       "    .dataframe tbody tr th {\n",
       "        vertical-align: top;\n",
       "    }\n",
       "\n",
       "    .dataframe thead th {\n",
       "        text-align: right;\n",
       "    }\n",
       "</style>\n",
       "<table border=\"1\" class=\"dataframe\">\n",
       "  <thead>\n",
       "    <tr style=\"text-align: right;\">\n",
       "      <th></th>\n",
       "      <th>id</th>\n",
       "      <th>name</th>\n",
       "      <th>namespace</th>\n",
       "      <th>is_a</th>\n",
       "      <th>part_of</th>\n",
       "    </tr>\n",
       "  </thead>\n",
       "  <tbody>\n",
       "    <tr>\n",
       "      <th>16</th>\n",
       "      <td>GO:0000015</td>\n",
       "      <td>phosphopyruvate hydratase complex</td>\n",
       "      <td>cellular_component</td>\n",
       "      <td>[GO:1902494]</td>\n",
       "      <td>GO:0005829</td>\n",
       "    </tr>\n",
       "    <tr>\n",
       "      <th>22</th>\n",
       "      <td>GO:0000022</td>\n",
       "      <td>mitotic spindle elongation</td>\n",
       "      <td>biological_process</td>\n",
       "      <td>[GO:0051231, GO:1903047]</td>\n",
       "      <td>GO:0000070</td>\n",
       "    </tr>\n",
       "    <tr>\n",
       "      <th>22</th>\n",
       "      <td>GO:0000022</td>\n",
       "      <td>mitotic spindle elongation</td>\n",
       "      <td>biological_process</td>\n",
       "      <td>[GO:0051231, GO:1903047]</td>\n",
       "      <td>GO:0007052</td>\n",
       "    </tr>\n",
       "    <tr>\n",
       "      <th>23</th>\n",
       "      <td>GO:1905121</td>\n",
       "      <td>mitotic spindle elongation</td>\n",
       "      <td>biological_process</td>\n",
       "      <td>[GO:0051231, GO:1903047]</td>\n",
       "      <td>GO:0000070</td>\n",
       "    </tr>\n",
       "    <tr>\n",
       "      <th>23</th>\n",
       "      <td>GO:1905121</td>\n",
       "      <td>mitotic spindle elongation</td>\n",
       "      <td>biological_process</td>\n",
       "      <td>[GO:0051231, GO:1903047]</td>\n",
       "      <td>GO:0007052</td>\n",
       "    </tr>\n",
       "  </tbody>\n",
       "</table>\n",
       "</div>"
      ],
      "text/plain": [
       "            id                               name           namespace  \\\n",
       "16  GO:0000015  phosphopyruvate hydratase complex  cellular_component   \n",
       "22  GO:0000022         mitotic spindle elongation  biological_process   \n",
       "22  GO:0000022         mitotic spindle elongation  biological_process   \n",
       "23  GO:1905121         mitotic spindle elongation  biological_process   \n",
       "23  GO:1905121         mitotic spindle elongation  biological_process   \n",
       "\n",
       "                        is_a     part_of  \n",
       "16              [GO:1902494]  GO:0005829  \n",
       "22  [GO:0051231, GO:1903047]  GO:0000070  \n",
       "22  [GO:0051231, GO:1903047]  GO:0007052  \n",
       "23  [GO:0051231, GO:1903047]  GO:0000070  \n",
       "23  [GO:0051231, GO:1903047]  GO:0007052  "
      ]
     },
     "execution_count": 20,
     "metadata": {},
     "output_type": "execute_result"
    }
   ],
   "source": [
    "print(\"'part_of' relationships:\")\n",
    "df_part_of.head()"
   ]
  },
  {
   "cell_type": "markdown",
   "metadata": {},
   "source": [
    "## Merging all previous extractions"
   ]
  },
  {
   "cell_type": "markdown",
   "metadata": {},
   "source": [
    "Let us collect the dataframes and check lengths. Noting that:\n",
    "- _train_set.tsv_ contains the proteins, their GO annotations and their corresponding aspects which will be used to subdivde it into three separate datasets\n",
    "- _train.fasta_\n",
    "- _train_embeddings.h5_\n",
    "- _train_protein2ipr.dat_\n",
    "- _go-basic.obo_"
   ]
  },
  {
   "cell_type": "code",
   "execution_count": 30,
   "metadata": {},
   "outputs": [
    {
     "name": "stdout",
     "output_type": "stream",
     "text": [
      "Cellular Component (83064):\n"
     ]
    },
    {
     "data": {
      "text/html": [
       "<div>\n",
       "<style scoped>\n",
       "    .dataframe tbody tr th:only-of-type {\n",
       "        vertical-align: middle;\n",
       "    }\n",
       "\n",
       "    .dataframe tbody tr th {\n",
       "        vertical-align: top;\n",
       "    }\n",
       "\n",
       "    .dataframe thead th {\n",
       "        text-align: right;\n",
       "    }\n",
       "</style>\n",
       "<table border=\"1\" class=\"dataframe\">\n",
       "  <thead>\n",
       "    <tr style=\"text-align: right;\">\n",
       "      <th></th>\n",
       "      <th>ID</th>\n",
       "      <th>GO_term</th>\n",
       "    </tr>\n",
       "  </thead>\n",
       "  <tbody>\n",
       "    <tr>\n",
       "      <th>0</th>\n",
       "      <td>A0A021WW32</td>\n",
       "      <td>[GO:0005575, GO:0110165, GO:0000785, GO:003299...</td>\n",
       "    </tr>\n",
       "    <tr>\n",
       "      <th>1</th>\n",
       "      <td>A0A021WZA4</td>\n",
       "      <td>[GO:0005575, GO:0110165, GO:0071944, GO:000588...</td>\n",
       "    </tr>\n",
       "    <tr>\n",
       "      <th>2</th>\n",
       "      <td>A0A023GPJ3</td>\n",
       "      <td>[GO:0005575, GO:0110165, GO:0005622, GO:000582...</td>\n",
       "    </tr>\n",
       "    <tr>\n",
       "      <th>3</th>\n",
       "      <td>A0A023GUT0</td>\n",
       "      <td>[GO:0005575, GO:0110165, GO:0005576, GO:0005615]</td>\n",
       "    </tr>\n",
       "    <tr>\n",
       "      <th>4</th>\n",
       "      <td>A0A023IM54</td>\n",
       "      <td>[GO:0005575, GO:0005737, GO:0042175, GO:003299...</td>\n",
       "    </tr>\n",
       "  </tbody>\n",
       "</table>\n",
       "</div>"
      ],
      "text/plain": [
       "           ID                                            GO_term\n",
       "0  A0A021WW32  [GO:0005575, GO:0110165, GO:0000785, GO:003299...\n",
       "1  A0A021WZA4  [GO:0005575, GO:0110165, GO:0071944, GO:000588...\n",
       "2  A0A023GPJ3  [GO:0005575, GO:0110165, GO:0005622, GO:000582...\n",
       "3  A0A023GUT0   [GO:0005575, GO:0110165, GO:0005576, GO:0005615]\n",
       "4  A0A023IM54  [GO:0005575, GO:0005737, GO:0042175, GO:003299..."
      ]
     },
     "execution_count": 30,
     "metadata": {},
     "output_type": "execute_result"
    }
   ],
   "source": [
    "# Create a function to group by ID and combine GO_terms into a list\n",
    "def group_and_combine(df, sub_ontology_value):\n",
    "    return df[df['sub_ontology'] == sub_ontology_value].groupby('ID')['GO_term'].apply(list).reset_index()\n",
    "\n",
    "# Create three dataframes for each sub_ontology value\n",
    "df_CC = group_and_combine(train_set, 'cellular_component')\n",
    "df_MF = group_and_combine(train_set, 'molecular_function')\n",
    "df_BP = group_and_combine(train_set, 'biological_process')\n",
    "\n",
    "# Display the first few rows of each dataframe to verify\n",
    "print(f\"Cellular Component ({df_BP.shape[0]}):\")\n",
    "df_CC.head()"
   ]
  },
  {
   "cell_type": "code",
   "execution_count": 31,
   "metadata": {},
   "outputs": [
    {
     "name": "stdout",
     "output_type": "stream",
     "text": [
      "Molecular Function (55698):\n"
     ]
    },
    {
     "data": {
      "text/html": [
       "<div>\n",
       "<style scoped>\n",
       "    .dataframe tbody tr th:only-of-type {\n",
       "        vertical-align: middle;\n",
       "    }\n",
       "\n",
       "    .dataframe tbody tr th {\n",
       "        vertical-align: top;\n",
       "    }\n",
       "\n",
       "    .dataframe thead th {\n",
       "        text-align: right;\n",
       "    }\n",
       "</style>\n",
       "<table border=\"1\" class=\"dataframe\">\n",
       "  <thead>\n",
       "    <tr style=\"text-align: right;\">\n",
       "      <th></th>\n",
       "      <th>ID</th>\n",
       "      <th>GO_term</th>\n",
       "    </tr>\n",
       "  </thead>\n",
       "  <tbody>\n",
       "    <tr>\n",
       "      <th>0</th>\n",
       "      <td>A0A009IHW8</td>\n",
       "      <td>[GO:0016798, GO:0003824, GO:0016799, GO:001678...</td>\n",
       "    </tr>\n",
       "    <tr>\n",
       "      <th>1</th>\n",
       "      <td>A0A023FBW4</td>\n",
       "      <td>[GO:0005515, GO:0019955, GO:0019956, GO:000367...</td>\n",
       "    </tr>\n",
       "    <tr>\n",
       "      <th>2</th>\n",
       "      <td>A0A023FBW7</td>\n",
       "      <td>[GO:0005515, GO:0019955, GO:0019956, GO:000367...</td>\n",
       "    </tr>\n",
       "    <tr>\n",
       "      <th>3</th>\n",
       "      <td>A0A023FDY8</td>\n",
       "      <td>[GO:0005515, GO:0019955, GO:0019956, GO:000367...</td>\n",
       "    </tr>\n",
       "    <tr>\n",
       "      <th>4</th>\n",
       "      <td>A0A023FF81</td>\n",
       "      <td>[GO:0005515, GO:0019955, GO:0019956, GO:000367...</td>\n",
       "    </tr>\n",
       "  </tbody>\n",
       "</table>\n",
       "</div>"
      ],
      "text/plain": [
       "           ID                                            GO_term\n",
       "0  A0A009IHW8  [GO:0016798, GO:0003824, GO:0016799, GO:001678...\n",
       "1  A0A023FBW4  [GO:0005515, GO:0019955, GO:0019956, GO:000367...\n",
       "2  A0A023FBW7  [GO:0005515, GO:0019955, GO:0019956, GO:000367...\n",
       "3  A0A023FDY8  [GO:0005515, GO:0019955, GO:0019956, GO:000367...\n",
       "4  A0A023FF81  [GO:0005515, GO:0019955, GO:0019956, GO:000367..."
      ]
     },
     "execution_count": 31,
     "metadata": {},
     "output_type": "execute_result"
    }
   ],
   "source": [
    "print(f\"Molecular Function ({df_MF.shape[0]}):\")\n",
    "df_MF.head()"
   ]
  },
  {
   "cell_type": "code",
   "execution_count": 32,
   "metadata": {},
   "outputs": [
    {
     "name": "stdout",
     "output_type": "stream",
     "text": [
      "Biological Process (83064):\n"
     ]
    },
    {
     "data": {
      "text/html": [
       "<div>\n",
       "<style scoped>\n",
       "    .dataframe tbody tr th:only-of-type {\n",
       "        vertical-align: middle;\n",
       "    }\n",
       "\n",
       "    .dataframe tbody tr th {\n",
       "        vertical-align: top;\n",
       "    }\n",
       "\n",
       "    .dataframe thead th {\n",
       "        text-align: right;\n",
       "    }\n",
       "</style>\n",
       "<table border=\"1\" class=\"dataframe\">\n",
       "  <thead>\n",
       "    <tr style=\"text-align: right;\">\n",
       "      <th></th>\n",
       "      <th>ID</th>\n",
       "      <th>GO_term</th>\n",
       "    </tr>\n",
       "  </thead>\n",
       "  <tbody>\n",
       "    <tr>\n",
       "      <th>0</th>\n",
       "      <td>A0A009IHW8</td>\n",
       "      <td>[GO:0072524, GO:0006796, GO:1901361, GO:000905...</td>\n",
       "    </tr>\n",
       "    <tr>\n",
       "      <th>1</th>\n",
       "      <td>A0A021WW32</td>\n",
       "      <td>[GO:0009891, GO:0019222, GO:0010556, GO:000989...</td>\n",
       "    </tr>\n",
       "    <tr>\n",
       "      <th>2</th>\n",
       "      <td>A0A023FFD0</td>\n",
       "      <td>[GO:0030336, GO:0050920, GO:0048523, GO:000996...</td>\n",
       "    </tr>\n",
       "    <tr>\n",
       "      <th>3</th>\n",
       "      <td>A0A023GPJ3</td>\n",
       "      <td>[GO:1903530, GO:0051051, GO:0046883, GO:004852...</td>\n",
       "    </tr>\n",
       "    <tr>\n",
       "      <th>4</th>\n",
       "      <td>A0A023GPK8</td>\n",
       "      <td>[GO:0008150, GO:2000027, GO:0050789, GO:002260...</td>\n",
       "    </tr>\n",
       "  </tbody>\n",
       "</table>\n",
       "</div>"
      ],
      "text/plain": [
       "           ID                                            GO_term\n",
       "0  A0A009IHW8  [GO:0072524, GO:0006796, GO:1901361, GO:000905...\n",
       "1  A0A021WW32  [GO:0009891, GO:0019222, GO:0010556, GO:000989...\n",
       "2  A0A023FFD0  [GO:0030336, GO:0050920, GO:0048523, GO:000996...\n",
       "3  A0A023GPJ3  [GO:1903530, GO:0051051, GO:0046883, GO:004852...\n",
       "4  A0A023GPK8  [GO:0008150, GO:2000027, GO:0050789, GO:002260..."
      ]
     },
     "execution_count": 32,
     "metadata": {},
     "output_type": "execute_result"
    }
   ],
   "source": [
    "print(f\"Biological Process ({df_BP.shape[0]}):\")\n",
    "df_BP.head()"
   ]
  },
  {
   "cell_type": "code",
   "execution_count": null,
   "metadata": {},
   "outputs": [],
   "source": []
  },
  {
   "cell_type": "code",
   "execution_count": 24,
   "metadata": {},
   "outputs": [
    {
     "name": "stdout",
     "output_type": "stream",
     "text": [
      "(4277047, 3)\n",
      "(1103545, 6)\n",
      "(123969, 2)\n",
      "(123969, 2)\n"
     ]
    }
   ],
   "source": [
    "print(train_set.shape)\n",
    "print(train_protein2ipr.shape)\n",
    "print(train_fasta.shape)\n",
    "print(train_embeddings.shape)"
   ]
  },
  {
   "cell_type": "markdown",
   "metadata": {},
   "source": [
    "# Test set\n",
    "\n",
    "In this section we are **creating the Test set**, fusing togheter the data from:\n",
    "- _test_ids.txt_\n",
    "- _test.fasta_\n",
    "- _test_embeddings.h5_\n",
    "- _test_protein2ipr.dat_\n",
    "- _blast_test_results.tsv_"
   ]
  },
  {
   "cell_type": "markdown",
   "metadata": {},
   "source": [
    "### Extracting `test_ids.txt`"
   ]
  },
  {
   "cell_type": "markdown",
   "metadata": {},
   "source": [
    "### Extracting `test.fasta`"
   ]
  },
  {
   "cell_type": "markdown",
   "metadata": {},
   "source": [
    "### Extracting `test_embeddings.h5`"
   ]
  },
  {
   "cell_type": "markdown",
   "metadata": {},
   "source": [
    "### Extracting `test_protein2ipr.dat`"
   ]
  },
  {
   "cell_type": "markdown",
   "metadata": {},
   "source": [
    "### Extracting `blast_test_results.tsv`"
   ]
  },
  {
   "cell_type": "markdown",
   "metadata": {},
   "source": []
  }
 ],
 "metadata": {
  "kernelspec": {
   "display_name": "base",
   "language": "python",
   "name": "python3"
  },
  "language_info": {
   "codemirror_mode": {
    "name": "ipython",
    "version": 3
   },
   "file_extension": ".py",
   "mimetype": "text/x-python",
   "name": "python",
   "nbconvert_exporter": "python",
   "pygments_lexer": "ipython3",
   "version": "3.11.7"
  }
 },
 "nbformat": 4,
 "nbformat_minor": 2
}
