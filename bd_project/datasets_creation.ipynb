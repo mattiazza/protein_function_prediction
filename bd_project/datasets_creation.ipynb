{
 "cells": [
  {
   "cell_type": "markdown",
   "metadata": {},
   "source": [
    "### Libraries"
   ]
  },
  {
   "cell_type": "code",
   "execution_count": 2,
   "metadata": {},
   "outputs": [
    {
     "name": "stderr",
     "output_type": "stream",
     "text": [
      "c:\\ProgramData\\anaconda3\\Lib\\site-packages\\Bio\\pairwise2.py:278: BiopythonDeprecationWarning: Bio.pairwise2 has been deprecated, and we intend to remove it in a future release of Biopython. As an alternative, please consider using Bio.Align.PairwiseAligner as a replacement, and contact the Biopython developers if you still need the Bio.pairwise2 module.\n",
      "  warnings.warn(\n"
     ]
    }
   ],
   "source": [
    "import pandas as pd \n",
    "import numpy as np\n",
    "import matplotlib.pyplot as plt\n",
    "\n",
    "from Bio.Seq import Seq\n",
    "from Bio import SeqIO\n",
    "from Bio import Align\n",
    "from Bio import AlignIO\n",
    "from Bio.Align import substitution_matrices\n",
    "from Bio.Data import IUPACData\n",
    "from Bio.Blast import NCBIWWW, NCBIXML\n",
    "from Bio.SeqRecord import SeqRecord\n",
    "from Bio import pairwise2\n",
    "from Bio.pairwise2 import format_alignment\n",
    "\n",
    "import cafaeval\n",
    "from cafaeval.evaluation import cafa_eval\n",
    "from cafaeval.parser import obo_parser, gt_parser\n",
    "\n",
    "from pathlib import Path\n",
    "import os\n",
    "\n",
    "import h5py"
   ]
  },
  {
   "cell_type": "markdown",
   "metadata": {},
   "source": [
    "Creating the path to the main folder we are going to use to create our datasets"
   ]
  },
  {
   "cell_type": "code",
   "execution_count": 3,
   "metadata": {},
   "outputs": [],
   "source": [
    "# Path to train data\n",
    "training_data_path = Path('../data/train')\n",
    "\n",
    "# Path to test data\n",
    "test_data_path = Path('../data/test')\n",
    "\n",
    "# Path to baseline data\n",
    "baseline_data_path = Path('../data/baseline')\n"
   ]
  },
  {
   "cell_type": "markdown",
   "metadata": {},
   "source": [
    "# Training Set\n",
    "\n",
    "In this section we are **creating the Training Set**, fusing togheter the data from:\n",
    "- _train_set.tsv_\n",
    "- _train_ids.txt_\n",
    "- _train.fasta_\n",
    "- _train_embeddings.h5_\n",
    "- _train_protein2ipr.dat_\n",
    "- _go-basic.obo_"
   ]
  },
  {
   "cell_type": "markdown",
   "metadata": {},
   "source": [
    "### Extracting `train_set.tsv`"
   ]
  },
  {
   "cell_type": "code",
   "execution_count": 4,
   "metadata": {},
   "outputs": [
    {
     "data": {
      "text/html": [
       "<div>\n",
       "<style scoped>\n",
       "    .dataframe tbody tr th:only-of-type {\n",
       "        vertical-align: middle;\n",
       "    }\n",
       "\n",
       "    .dataframe tbody tr th {\n",
       "        vertical-align: top;\n",
       "    }\n",
       "\n",
       "    .dataframe thead th {\n",
       "        text-align: right;\n",
       "    }\n",
       "</style>\n",
       "<table border=\"1\" class=\"dataframe\">\n",
       "  <thead>\n",
       "    <tr style=\"text-align: right;\">\n",
       "      <th></th>\n",
       "      <th>ID</th>\n",
       "      <th>sub_ontology</th>\n",
       "      <th>GO_term</th>\n",
       "    </tr>\n",
       "  </thead>\n",
       "  <tbody>\n",
       "    <tr>\n",
       "      <th>0</th>\n",
       "      <td>P91124</td>\n",
       "      <td>cellular_component</td>\n",
       "      <td>GO:0005575</td>\n",
       "    </tr>\n",
       "    <tr>\n",
       "      <th>1</th>\n",
       "      <td>P91124</td>\n",
       "      <td>cellular_component</td>\n",
       "      <td>GO:0110165</td>\n",
       "    </tr>\n",
       "    <tr>\n",
       "      <th>2</th>\n",
       "      <td>P91124</td>\n",
       "      <td>cellular_component</td>\n",
       "      <td>GO:0005737</td>\n",
       "    </tr>\n",
       "    <tr>\n",
       "      <th>3</th>\n",
       "      <td>P91124</td>\n",
       "      <td>cellular_component</td>\n",
       "      <td>GO:0005622</td>\n",
       "    </tr>\n",
       "    <tr>\n",
       "      <th>4</th>\n",
       "      <td>P91124</td>\n",
       "      <td>cellular_component</td>\n",
       "      <td>GO:0043226</td>\n",
       "    </tr>\n",
       "  </tbody>\n",
       "</table>\n",
       "</div>"
      ],
      "text/plain": [
       "       ID        sub_ontology     GO_term\n",
       "0  P91124  cellular_component  GO:0005575\n",
       "1  P91124  cellular_component  GO:0110165\n",
       "2  P91124  cellular_component  GO:0005737\n",
       "3  P91124  cellular_component  GO:0005622\n",
       "4  P91124  cellular_component  GO:0043226"
      ]
     },
     "execution_count": 4,
     "metadata": {},
     "output_type": "execute_result"
    }
   ],
   "source": [
    "train_set = pd.read_csv(training_data_path / 'train_set.tsv', sep='\\t')\n",
    "\n",
    "# Rename Protein_ID and aspect columns\n",
    "train_set.rename(columns={'Protein_ID': 'ID', 'aspect' : 'sub_ontology'}, inplace=True)\n",
    "\n",
    "# Display the first few rows of the train set\n",
    "train_set.head()"
   ]
  },
  {
   "cell_type": "markdown",
   "metadata": {},
   "source": [
    "### Extracting `train_ids.txt`"
   ]
  },
  {
   "cell_type": "code",
   "execution_count": 5,
   "metadata": {},
   "outputs": [
    {
     "name": "stdout",
     "output_type": "stream",
     "text": [
      "['P91124', 'Q55DL5', 'O81027', 'Q04418', 'Q8IXT2']\n"
     ]
    }
   ],
   "source": [
    "# Extracting train_ids.txt\n",
    "with open(training_data_path / 'train_ids.txt', 'r') as file:\n",
    "    train_ids = file.read().splitlines()\n",
    "\n",
    "# Display the first few IDs to verify\n",
    "print(train_ids[:5])"
   ]
  },
  {
   "cell_type": "code",
   "execution_count": 6,
   "metadata": {},
   "outputs": [
    {
     "name": "stdout",
     "output_type": "stream",
     "text": [
      "The number of IDs in train_ids.txt is equal to the number of unique IDs in the train set (123969).\n",
      "Proceeding with the analysis.\n"
     ]
    }
   ],
   "source": [
    "if len(train_ids) == len(train_set['ID'].unique()):\n",
    "    print(f\"The number of IDs in train_ids.txt is equal to the number of unique IDs in the train set ({len(train_ids)}).\\n\"\n",
    "          \"Proceeding with the analysis.\")"
   ]
  },
  {
   "cell_type": "markdown",
   "metadata": {},
   "source": [
    "### Extracting `train.fasta`"
   ]
  },
  {
   "cell_type": "code",
   "execution_count": 7,
   "metadata": {},
   "outputs": [
    {
     "name": "stdout",
     "output_type": "stream",
     "text": [
      "ID: P91124\n",
      "Name: P91124\n",
      "Description: P91124\n",
      "Number of features: 0\n",
      "Seq('MAAQFYERNTSGMNADRFMTRLTDESTVNTMQRHYWTARQFIRTKLGKKEDEHL...NLL')\n"
     ]
    }
   ],
   "source": [
    "train_fasta_list = list(SeqIO.parse(training_data_path / 'train.fasta', 'fasta'))\n",
    "\n",
    "# Print the first sequence to verify\n",
    "print(train_fasta_list[0])"
   ]
  },
  {
   "cell_type": "markdown",
   "metadata": {},
   "source": [
    "Let's transform it into a DataFrame"
   ]
  },
  {
   "cell_type": "code",
   "execution_count": 8,
   "metadata": {},
   "outputs": [
    {
     "data": {
      "text/html": [
       "<div>\n",
       "<style scoped>\n",
       "    .dataframe tbody tr th:only-of-type {\n",
       "        vertical-align: middle;\n",
       "    }\n",
       "\n",
       "    .dataframe tbody tr th {\n",
       "        vertical-align: top;\n",
       "    }\n",
       "\n",
       "    .dataframe thead th {\n",
       "        text-align: right;\n",
       "    }\n",
       "</style>\n",
       "<table border=\"1\" class=\"dataframe\">\n",
       "  <thead>\n",
       "    <tr style=\"text-align: right;\">\n",
       "      <th></th>\n",
       "      <th>id</th>\n",
       "      <th>name</th>\n",
       "      <th>description</th>\n",
       "      <th>num_features</th>\n",
       "      <th>sequence</th>\n",
       "    </tr>\n",
       "  </thead>\n",
       "  <tbody>\n",
       "    <tr>\n",
       "      <th>0</th>\n",
       "      <td>P91124</td>\n",
       "      <td>P91124</td>\n",
       "      <td>P91124</td>\n",
       "      <td>0</td>\n",
       "      <td>(M, A, A, Q, F, Y, E, R, N, T, S, G, M, N, A, ...</td>\n",
       "    </tr>\n",
       "    <tr>\n",
       "      <th>1</th>\n",
       "      <td>Q55DL5</td>\n",
       "      <td>Q55DL5</td>\n",
       "      <td>Q55DL5</td>\n",
       "      <td>0</td>\n",
       "      <td>(M, S, E, I, L, I, D, S, E, L, L, S, C, P, I, ...</td>\n",
       "    </tr>\n",
       "    <tr>\n",
       "      <th>2</th>\n",
       "      <td>O81027</td>\n",
       "      <td>O81027</td>\n",
       "      <td>O81027</td>\n",
       "      <td>0</td>\n",
       "      <td>(M, Q, W, N, G, V, R, R, A, H, S, I, W, C, K, ...</td>\n",
       "    </tr>\n",
       "    <tr>\n",
       "      <th>3</th>\n",
       "      <td>Q04418</td>\n",
       "      <td>Q04418</td>\n",
       "      <td>Q04418</td>\n",
       "      <td>0</td>\n",
       "      <td>(M, D, L, L, G, D, I, V, E, K, D, T, S, D, S, ...</td>\n",
       "    </tr>\n",
       "    <tr>\n",
       "      <th>4</th>\n",
       "      <td>Q8IXT2</td>\n",
       "      <td>Q8IXT2</td>\n",
       "      <td>Q8IXT2</td>\n",
       "      <td>0</td>\n",
       "      <td>(M, E, P, S, D, M, P, A, G, Y, H, C, P, L, D, ...</td>\n",
       "    </tr>\n",
       "  </tbody>\n",
       "</table>\n",
       "</div>"
      ],
      "text/plain": [
       "       id    name description  num_features  \\\n",
       "0  P91124  P91124      P91124             0   \n",
       "1  Q55DL5  Q55DL5      Q55DL5             0   \n",
       "2  O81027  O81027      O81027             0   \n",
       "3  Q04418  Q04418      Q04418             0   \n",
       "4  Q8IXT2  Q8IXT2      Q8IXT2             0   \n",
       "\n",
       "                                            sequence  \n",
       "0  (M, A, A, Q, F, Y, E, R, N, T, S, G, M, N, A, ...  \n",
       "1  (M, S, E, I, L, I, D, S, E, L, L, S, C, P, I, ...  \n",
       "2  (M, Q, W, N, G, V, R, R, A, H, S, I, W, C, K, ...  \n",
       "3  (M, D, L, L, G, D, I, V, E, K, D, T, S, D, S, ...  \n",
       "4  (M, E, P, S, D, M, P, A, G, Y, H, C, P, L, D, ...  "
      ]
     },
     "execution_count": 8,
     "metadata": {},
     "output_type": "execute_result"
    }
   ],
   "source": [
    "# Extract relevant information from SeqRecord\n",
    "train_fasta_dict = [{\n",
    "    'id': record.id,\n",
    "    'name': record.name,\n",
    "    'description': record.description,\n",
    "    'num_features': len(record.features),\n",
    "    'sequence': record.seq,\n",
    "} for record in train_fasta_list]\n",
    "\n",
    "# Create a DataFrame from the extracted data\n",
    "train_fasta = pd.DataFrame(train_fasta_dict)\n",
    "\n",
    "# Display the DataFrame\n",
    "train_fasta.head()"
   ]
  },
  {
   "cell_type": "markdown",
   "metadata": {},
   "source": [
    "Checking if `id`, `name` and `description` have the same information"
   ]
  },
  {
   "cell_type": "code",
   "execution_count": 9,
   "metadata": {},
   "outputs": [
    {
     "name": "stdout",
     "output_type": "stream",
     "text": [
      "We have a total of 0 differences between the id and name columns.\n",
      "We have a total of 0 differences between the id and description columns.\n"
     ]
    }
   ],
   "source": [
    "# Checking for differences between the id and name columns\n",
    "diff_id_name = sum(train_fasta['id'] != train_fasta['name'])\n",
    "\n",
    "# Checking for differences between the id and description columns\n",
    "diff_id_description = sum(train_fasta['id'] != train_fasta['description'])\n",
    "\n",
    "print(f\"We have a total of {diff_id_name} differences between the id and name columns.\\nWe have a total of {diff_id_description} differences between the id and description columns.\")"
   ]
  },
  {
   "cell_type": "markdown",
   "metadata": {},
   "source": [
    "Checking if `num_features` has value different from 0"
   ]
  },
  {
   "cell_type": "code",
   "execution_count": 10,
   "metadata": {},
   "outputs": [
    {
     "name": "stdout",
     "output_type": "stream",
     "text": [
      "We have a total of 0 sequences with features.\n"
     ]
    }
   ],
   "source": [
    "num_features_values = sum(train_fasta['num_features'] != 0)\n",
    "\n",
    "print(f\"We have a total of {num_features_values} sequences with features.\")"
   ]
  },
  {
   "cell_type": "markdown",
   "metadata": {},
   "source": [
    "**Nice!**\n",
    "\n",
    "We found that `id`, `name` and `description` columns are the same. We can remove two of them (`name`, `descritpion`). \n",
    "\n",
    "In the same way we saw that `num_features` is not very informative since it has only 0, let's remove it as well\n",
    "\n"
   ]
  },
  {
   "cell_type": "code",
   "execution_count": 11,
   "metadata": {},
   "outputs": [
    {
     "data": {
      "text/html": [
       "<div>\n",
       "<style scoped>\n",
       "    .dataframe tbody tr th:only-of-type {\n",
       "        vertical-align: middle;\n",
       "    }\n",
       "\n",
       "    .dataframe tbody tr th {\n",
       "        vertical-align: top;\n",
       "    }\n",
       "\n",
       "    .dataframe thead th {\n",
       "        text-align: right;\n",
       "    }\n",
       "</style>\n",
       "<table border=\"1\" class=\"dataframe\">\n",
       "  <thead>\n",
       "    <tr style=\"text-align: right;\">\n",
       "      <th></th>\n",
       "      <th>id</th>\n",
       "      <th>sequence</th>\n",
       "    </tr>\n",
       "  </thead>\n",
       "  <tbody>\n",
       "    <tr>\n",
       "      <th>0</th>\n",
       "      <td>P91124</td>\n",
       "      <td>(M, A, A, Q, F, Y, E, R, N, T, S, G, M, N, A, ...</td>\n",
       "    </tr>\n",
       "    <tr>\n",
       "      <th>1</th>\n",
       "      <td>Q55DL5</td>\n",
       "      <td>(M, S, E, I, L, I, D, S, E, L, L, S, C, P, I, ...</td>\n",
       "    </tr>\n",
       "    <tr>\n",
       "      <th>2</th>\n",
       "      <td>O81027</td>\n",
       "      <td>(M, Q, W, N, G, V, R, R, A, H, S, I, W, C, K, ...</td>\n",
       "    </tr>\n",
       "    <tr>\n",
       "      <th>3</th>\n",
       "      <td>Q04418</td>\n",
       "      <td>(M, D, L, L, G, D, I, V, E, K, D, T, S, D, S, ...</td>\n",
       "    </tr>\n",
       "    <tr>\n",
       "      <th>4</th>\n",
       "      <td>Q8IXT2</td>\n",
       "      <td>(M, E, P, S, D, M, P, A, G, Y, H, C, P, L, D, ...</td>\n",
       "    </tr>\n",
       "  </tbody>\n",
       "</table>\n",
       "</div>"
      ],
      "text/plain": [
       "       id                                           sequence\n",
       "0  P91124  (M, A, A, Q, F, Y, E, R, N, T, S, G, M, N, A, ...\n",
       "1  Q55DL5  (M, S, E, I, L, I, D, S, E, L, L, S, C, P, I, ...\n",
       "2  O81027  (M, Q, W, N, G, V, R, R, A, H, S, I, W, C, K, ...\n",
       "3  Q04418  (M, D, L, L, G, D, I, V, E, K, D, T, S, D, S, ...\n",
       "4  Q8IXT2  (M, E, P, S, D, M, P, A, G, Y, H, C, P, L, D, ..."
      ]
     },
     "execution_count": 11,
     "metadata": {},
     "output_type": "execute_result"
    }
   ],
   "source": [
    "train_fasta.drop(columns=['name', 'description', 'num_features'], inplace=True)\n",
    "\n",
    "\n",
    "train_fasta.head()"
   ]
  },
  {
   "cell_type": "markdown",
   "metadata": {},
   "source": [
    "### Extracting `train_embeddings.h5`"
   ]
  },
  {
   "cell_type": "code",
   "execution_count": 24,
   "metadata": {},
   "outputs": [
    {
     "data": {
      "text/html": [
       "<div>\n",
       "<style scoped>\n",
       "    .dataframe tbody tr th:only-of-type {\n",
       "        vertical-align: middle;\n",
       "    }\n",
       "\n",
       "    .dataframe tbody tr th {\n",
       "        vertical-align: top;\n",
       "    }\n",
       "\n",
       "    .dataframe thead th {\n",
       "        text-align: right;\n",
       "    }\n",
       "</style>\n",
       "<table border=\"1\" class=\"dataframe\">\n",
       "  <thead>\n",
       "    <tr style=\"text-align: right;\">\n",
       "      <th></th>\n",
       "      <th>id</th>\n",
       "      <th>embeddings</th>\n",
       "    </tr>\n",
       "  </thead>\n",
       "  <tbody>\n",
       "    <tr>\n",
       "      <th>0</th>\n",
       "      <td>A0A009IHW8</td>\n",
       "      <td>[0.0682, -0.04648, 0.001752, -0.00858, 0.00376...</td>\n",
       "    </tr>\n",
       "    <tr>\n",
       "      <th>1</th>\n",
       "      <td>A0A021WW32</td>\n",
       "      <td>[-0.01643, -0.001583, 0.00389, 0.0734, 0.01243...</td>\n",
       "    </tr>\n",
       "    <tr>\n",
       "      <th>2</th>\n",
       "      <td>A0A021WZA4</td>\n",
       "      <td>[0.007904, 0.0877, -0.001715, 0.03766, 0.01788...</td>\n",
       "    </tr>\n",
       "    <tr>\n",
       "      <th>3</th>\n",
       "      <td>A0A023FBW4</td>\n",
       "      <td>[0.002447, 0.007053, 0.06445, 0.00727, -0.0335...</td>\n",
       "    </tr>\n",
       "    <tr>\n",
       "      <th>4</th>\n",
       "      <td>A0A023FBW7</td>\n",
       "      <td>[0.04932, 0.02069, 0.10864, 0.01634, -0.05106,...</td>\n",
       "    </tr>\n",
       "  </tbody>\n",
       "</table>\n",
       "</div>"
      ],
      "text/plain": [
       "           id                                         embeddings\n",
       "0  A0A009IHW8  [0.0682, -0.04648, 0.001752, -0.00858, 0.00376...\n",
       "1  A0A021WW32  [-0.01643, -0.001583, 0.00389, 0.0734, 0.01243...\n",
       "2  A0A021WZA4  [0.007904, 0.0877, -0.001715, 0.03766, 0.01788...\n",
       "3  A0A023FBW4  [0.002447, 0.007053, 0.06445, 0.00727, -0.0335...\n",
       "4  A0A023FBW7  [0.04932, 0.02069, 0.10864, 0.01634, -0.05106,..."
      ]
     },
     "execution_count": 24,
     "metadata": {},
     "output_type": "execute_result"
    }
   ],
   "source": [
    "filename = \"train_embeddings.h5\"\n",
    "\n",
    "data_list = []\n",
    "\n",
    "with h5py.File(training_data_path / filename, \"r\") as f:\n",
    "    for dataset_name in f.keys():\n",
    "        dataset = f[dataset_name][:]\n",
    "        data_list.append([dataset_name, dataset])\n",
    "\n",
    "train_embeddings = pd.DataFrame(data_list, columns=[\"id\", \"embeddings\"])\n",
    "\n",
    "train_embeddings.head()"
   ]
  },
  {
   "cell_type": "markdown",
   "metadata": {},
   "source": [
    "### Extracting `train_protein2ipr.dat`"
   ]
  },
  {
   "cell_type": "code",
   "execution_count": null,
   "metadata": {},
   "outputs": [
    {
     "data": {
      "text/html": [
       "<div>\n",
       "<style scoped>\n",
       "    .dataframe tbody tr th:only-of-type {\n",
       "        vertical-align: middle;\n",
       "    }\n",
       "\n",
       "    .dataframe tbody tr th {\n",
       "        vertical-align: top;\n",
       "    }\n",
       "\n",
       "    .dataframe thead th {\n",
       "        text-align: right;\n",
       "    }\n",
       "</style>\n",
       "<table border=\"1\" class=\"dataframe\">\n",
       "  <thead>\n",
       "    <tr style=\"text-align: right;\">\n",
       "      <th></th>\n",
       "      <th>id</th>\n",
       "      <th>ipr</th>\n",
       "      <th>domain</th>\n",
       "      <th>tizio</th>\n",
       "      <th>caio</th>\n",
       "      <th>sempronio</th>\n",
       "    </tr>\n",
       "  </thead>\n",
       "  <tbody>\n",
       "    <tr>\n",
       "      <th>0</th>\n",
       "      <td>A0A009IHW8</td>\n",
       "      <td>IPR000157</td>\n",
       "      <td>Toll/interleukin-1 receptor homology (TIR) domain</td>\n",
       "      <td>PS50104</td>\n",
       "      <td>133</td>\n",
       "      <td>266</td>\n",
       "    </tr>\n",
       "    <tr>\n",
       "      <th>1</th>\n",
       "      <td>A0A009IHW8</td>\n",
       "      <td>IPR000157</td>\n",
       "      <td>Toll/interleukin-1 receptor homology (TIR) domain</td>\n",
       "      <td>SM00255</td>\n",
       "      <td>134</td>\n",
       "      <td>258</td>\n",
       "    </tr>\n",
       "    <tr>\n",
       "      <th>2</th>\n",
       "      <td>A0A009IHW8</td>\n",
       "      <td>IPR035897</td>\n",
       "      <td>Toll/interleukin-1 receptor homology (TIR) dom...</td>\n",
       "      <td>G3DSA:3.40.50.10140</td>\n",
       "      <td>80</td>\n",
       "      <td>266</td>\n",
       "    </tr>\n",
       "    <tr>\n",
       "      <th>3</th>\n",
       "      <td>A0A009IHW8</td>\n",
       "      <td>IPR035897</td>\n",
       "      <td>Toll/interleukin-1 receptor homology (TIR) dom...</td>\n",
       "      <td>SSF52200</td>\n",
       "      <td>128</td>\n",
       "      <td>249</td>\n",
       "    </tr>\n",
       "    <tr>\n",
       "      <th>4</th>\n",
       "      <td>A0A021WW32</td>\n",
       "      <td>IPR006910</td>\n",
       "      <td>Rad21/Rec8-like protein, N-terminal</td>\n",
       "      <td>PF04825</td>\n",
       "      <td>1</td>\n",
       "      <td>103</td>\n",
       "    </tr>\n",
       "  </tbody>\n",
       "</table>\n",
       "</div>"
      ],
      "text/plain": [
       "           id        ipr                                             domain  \\\n",
       "0  A0A009IHW8  IPR000157  Toll/interleukin-1 receptor homology (TIR) domain   \n",
       "1  A0A009IHW8  IPR000157  Toll/interleukin-1 receptor homology (TIR) domain   \n",
       "2  A0A009IHW8  IPR035897  Toll/interleukin-1 receptor homology (TIR) dom...   \n",
       "3  A0A009IHW8  IPR035897  Toll/interleukin-1 receptor homology (TIR) dom...   \n",
       "4  A0A021WW32  IPR006910                Rad21/Rec8-like protein, N-terminal   \n",
       "\n",
       "                 tizio  caio  sempronio  \n",
       "0              PS50104   133        266  \n",
       "1              SM00255   134        258  \n",
       "2  G3DSA:3.40.50.10140    80        266  \n",
       "3             SSF52200   128        249  \n",
       "4              PF04825     1        103  "
      ]
     },
     "execution_count": 27,
     "metadata": {},
     "output_type": "execute_result"
    }
   ],
   "source": [
    "train_protein2ipr = pd.read_csv(training_data_path / 'train_protein2ipr.dat', sep='\\t')\n",
    "\n",
    "# Rename Protein_ID and aspect columns\n",
    "train_protein2ipr.columns = ['id', 'ipr', 'domain', 'tizio', 'caio', 'sempronio']\n",
    "\n",
    "# Display the first few rows of the train set\n",
    "train_protein2ipr.head()"
   ]
  },
  {
   "cell_type": "markdown",
   "metadata": {},
   "source": [
    "Still have to understand what *tizio, caio, sempronio* are."
   ]
  },
  {
   "cell_type": "markdown",
   "metadata": {},
   "source": [
    "### Extracting `go-basic.obo`"
   ]
  },
  {
   "cell_type": "markdown",
   "metadata": {},
   "source": [
    "I think it's just a description."
   ]
  },
  {
   "cell_type": "markdown",
   "metadata": {},
   "source": [
    "## Merging all previous extractions"
   ]
  },
  {
   "cell_type": "code",
   "execution_count": null,
   "metadata": {},
   "outputs": [],
   "source": []
  },
  {
   "cell_type": "markdown",
   "metadata": {},
   "source": [
    "# Test set\n",
    "\n",
    "In this section we are **creating the Test set**, fusing togheter the data from:\n",
    "- _test_ids.txt_\n",
    "- _test.fasta_\n",
    "- _test_embeddings.h5_\n",
    "- _test_protein2ipr.dat_\n",
    "- _blast_test_results.tsv_"
   ]
  },
  {
   "cell_type": "markdown",
   "metadata": {},
   "source": [
    "### Extracting `test_ids.txt`"
   ]
  },
  {
   "cell_type": "markdown",
   "metadata": {},
   "source": [
    "### Extracting `test.fasta`"
   ]
  },
  {
   "cell_type": "markdown",
   "metadata": {},
   "source": [
    "### Extracting `test_embeddings.h5`"
   ]
  },
  {
   "cell_type": "markdown",
   "metadata": {},
   "source": [
    "### Extracting `test_protein2ipr.dat`"
   ]
  },
  {
   "cell_type": "markdown",
   "metadata": {},
   "source": [
    "### Extracting `blast_test_results.tsv`"
   ]
  },
  {
   "cell_type": "markdown",
   "metadata": {},
   "source": []
  }
 ],
 "metadata": {
  "kernelspec": {
   "display_name": "base",
   "language": "python",
   "name": "python3"
  },
  "language_info": {
   "codemirror_mode": {
    "name": "ipython",
    "version": 3
   },
   "file_extension": ".py",
   "mimetype": "text/x-python",
   "name": "python",
   "nbconvert_exporter": "python",
   "pygments_lexer": "ipython3",
   "version": "3.11.7"
  }
 },
 "nbformat": 4,
 "nbformat_minor": 2
}
