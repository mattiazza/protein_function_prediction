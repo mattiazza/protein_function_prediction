{
 "cells": [
  {
   "cell_type": "markdown",
   "metadata": {},
   "source": [
    "### Libraries"
   ]
  },
  {
   "cell_type": "code",
   "execution_count": 1,
   "metadata": {},
   "outputs": [
    {
     "name": "stderr",
     "output_type": "stream",
     "text": [
      "c:\\ProgramData\\anaconda3\\Lib\\site-packages\\Bio\\pairwise2.py:278: BiopythonDeprecationWarning: Bio.pairwise2 has been deprecated, and we intend to remove it in a future release of Biopython. As an alternative, please consider using Bio.Align.PairwiseAligner as a replacement, and contact the Biopython developers if you still need the Bio.pairwise2 module.\n",
      "  warnings.warn(\n"
     ]
    }
   ],
   "source": [
    "import pandas as pd \n",
    "import numpy as np\n",
    "import matplotlib.pyplot as plt\n",
    "\n",
    "from Bio.Seq import Seq\n",
    "from Bio import SeqIO\n",
    "from Bio import Align\n",
    "from Bio import AlignIO\n",
    "from Bio.Align import substitution_matrices\n",
    "from Bio.Data import IUPACData\n",
    "from Bio.Blast import NCBIWWW, NCBIXML\n",
    "from Bio.SeqRecord import SeqRecord\n",
    "from Bio import pairwise2\n",
    "from Bio.pairwise2 import format_alignment\n",
    "\n",
    "import cafaeval\n",
    "from cafaeval.evaluation import cafa_eval\n",
    "from cafaeval.parser import obo_parser, gt_parser\n",
    "\n",
    "from pathlib import Path\n",
    "import os\n",
    "\n",
    "import h5py\n",
    "from sklearn.preprocessing import StandardScaler\n",
    "from sklearn.decomposition import PCA\n"
   ]
  },
  {
   "cell_type": "markdown",
   "metadata": {},
   "source": [
    "Creating the path to the main folder we are going to use to create our datasets"
   ]
  },
  {
   "cell_type": "code",
   "execution_count": 2,
   "metadata": {},
   "outputs": [],
   "source": [
    "# Path to train data\n",
    "training_data_path = Path('../data/train')\n",
    "\n",
    "# Path to test data\n",
    "test_data_path = Path('../data/test')\n",
    "\n",
    "# Path to baseline data\n",
    "baseline_data_path = Path('../data/baseline')\n",
    "\n",
    "# Path tp output folder\n",
    "output_folder = Path('../output')"
   ]
  },
  {
   "cell_type": "markdown",
   "metadata": {},
   "source": [
    "# Training Set\n",
    "\n",
    "In this section we are **creating the Training Set**, fusing togheter the data from:\n",
    "- _train_set.tsv_\n",
    "- _train_ids.txt_\n",
    "- _train.fasta_\n",
    "- _train_embeddings.h5_\n",
    "- _train_protein2ipr.dat_\n",
    "- _go-basic.obo_"
   ]
  },
  {
   "cell_type": "markdown",
   "metadata": {},
   "source": [
    "### Extracting `train_set.tsv`"
   ]
  },
  {
   "cell_type": "code",
   "execution_count": 3,
   "metadata": {},
   "outputs": [
    {
     "data": {
      "text/html": [
       "<div>\n",
       "<style scoped>\n",
       "    .dataframe tbody tr th:only-of-type {\n",
       "        vertical-align: middle;\n",
       "    }\n",
       "\n",
       "    .dataframe tbody tr th {\n",
       "        vertical-align: top;\n",
       "    }\n",
       "\n",
       "    .dataframe thead th {\n",
       "        text-align: right;\n",
       "    }\n",
       "</style>\n",
       "<table border=\"1\" class=\"dataframe\">\n",
       "  <thead>\n",
       "    <tr style=\"text-align: right;\">\n",
       "      <th></th>\n",
       "      <th>ID</th>\n",
       "      <th>sub_ontology</th>\n",
       "      <th>GO_term</th>\n",
       "    </tr>\n",
       "  </thead>\n",
       "  <tbody>\n",
       "    <tr>\n",
       "      <th>0</th>\n",
       "      <td>P91124</td>\n",
       "      <td>cellular_component</td>\n",
       "      <td>GO:0005575</td>\n",
       "    </tr>\n",
       "    <tr>\n",
       "      <th>1</th>\n",
       "      <td>P91124</td>\n",
       "      <td>cellular_component</td>\n",
       "      <td>GO:0110165</td>\n",
       "    </tr>\n",
       "    <tr>\n",
       "      <th>2</th>\n",
       "      <td>P91124</td>\n",
       "      <td>cellular_component</td>\n",
       "      <td>GO:0005737</td>\n",
       "    </tr>\n",
       "    <tr>\n",
       "      <th>3</th>\n",
       "      <td>P91124</td>\n",
       "      <td>cellular_component</td>\n",
       "      <td>GO:0005622</td>\n",
       "    </tr>\n",
       "    <tr>\n",
       "      <th>4</th>\n",
       "      <td>P91124</td>\n",
       "      <td>cellular_component</td>\n",
       "      <td>GO:0043226</td>\n",
       "    </tr>\n",
       "  </tbody>\n",
       "</table>\n",
       "</div>"
      ],
      "text/plain": [
       "       ID        sub_ontology     GO_term\n",
       "0  P91124  cellular_component  GO:0005575\n",
       "1  P91124  cellular_component  GO:0110165\n",
       "2  P91124  cellular_component  GO:0005737\n",
       "3  P91124  cellular_component  GO:0005622\n",
       "4  P91124  cellular_component  GO:0043226"
      ]
     },
     "execution_count": 3,
     "metadata": {},
     "output_type": "execute_result"
    }
   ],
   "source": [
    "train_set = pd.read_csv(training_data_path / 'train_set.tsv', sep='\\t')\n",
    "\n",
    "# Rename Protein_ID and aspect columns\n",
    "train_set.rename(columns={'Protein_ID': 'ID', 'aspect' : 'sub_ontology'}, inplace=True)\n",
    "\n",
    "# Display the first few rows of the train set\n",
    "train_set.head()"
   ]
  },
  {
   "cell_type": "markdown",
   "metadata": {},
   "source": [
    "### Extracting `train_ids.txt`"
   ]
  },
  {
   "cell_type": "code",
   "execution_count": 4,
   "metadata": {},
   "outputs": [
    {
     "name": "stdout",
     "output_type": "stream",
     "text": [
      "['P91124', 'Q55DL5', 'O81027', 'Q04418', 'Q8IXT2']\n"
     ]
    }
   ],
   "source": [
    "# Extracting train_ids.txt\n",
    "with open(training_data_path / 'train_ids.txt', 'r') as file:\n",
    "    train_ids = file.read().splitlines()\n",
    "\n",
    "# Display the first few IDs to verify\n",
    "print(train_ids[:5])"
   ]
  },
  {
   "cell_type": "code",
   "execution_count": 5,
   "metadata": {},
   "outputs": [
    {
     "name": "stdout",
     "output_type": "stream",
     "text": [
      "The number of IDs in train_ids.txt is equal to the number of unique IDs in the train set (123969).\n",
      "Proceeding with the analysis.\n"
     ]
    }
   ],
   "source": [
    "if len(train_ids) == len(train_set['ID'].unique()):\n",
    "    print(f\"The number of IDs in train_ids.txt is equal to the number of unique IDs in the train set ({len(train_ids)}).\\n\"\n",
    "          \"Proceeding with the analysis.\")"
   ]
  },
  {
   "cell_type": "markdown",
   "metadata": {},
   "source": [
    "### Extracting `train.fasta`"
   ]
  },
  {
   "cell_type": "code",
   "execution_count": 6,
   "metadata": {},
   "outputs": [
    {
     "name": "stdout",
     "output_type": "stream",
     "text": [
      "ID: P91124\n",
      "Name: P91124\n",
      "Description: P91124\n",
      "Number of features: 0\n",
      "Seq('MAAQFYERNTSGMNADRFMTRLTDESTVNTMQRHYWTARQFIRTKLGKKEDEHL...NLL')\n"
     ]
    }
   ],
   "source": [
    "train_fasta_list = list(SeqIO.parse(training_data_path / 'train.fasta', 'fasta'))\n",
    "\n",
    "# Print the first sequence to verify\n",
    "print(train_fasta_list[0])"
   ]
  },
  {
   "cell_type": "markdown",
   "metadata": {},
   "source": [
    "Let's transform it into a DataFrame"
   ]
  },
  {
   "cell_type": "code",
   "execution_count": 7,
   "metadata": {},
   "outputs": [
    {
     "data": {
      "text/html": [
       "<div>\n",
       "<style scoped>\n",
       "    .dataframe tbody tr th:only-of-type {\n",
       "        vertical-align: middle;\n",
       "    }\n",
       "\n",
       "    .dataframe tbody tr th {\n",
       "        vertical-align: top;\n",
       "    }\n",
       "\n",
       "    .dataframe thead th {\n",
       "        text-align: right;\n",
       "    }\n",
       "</style>\n",
       "<table border=\"1\" class=\"dataframe\">\n",
       "  <thead>\n",
       "    <tr style=\"text-align: right;\">\n",
       "      <th></th>\n",
       "      <th>ID</th>\n",
       "      <th>name</th>\n",
       "      <th>description</th>\n",
       "      <th>num_features</th>\n",
       "      <th>sequence</th>\n",
       "    </tr>\n",
       "  </thead>\n",
       "  <tbody>\n",
       "    <tr>\n",
       "      <th>0</th>\n",
       "      <td>P91124</td>\n",
       "      <td>P91124</td>\n",
       "      <td>P91124</td>\n",
       "      <td>0</td>\n",
       "      <td>(M, A, A, Q, F, Y, E, R, N, T, S, G, M, N, A, ...</td>\n",
       "    </tr>\n",
       "    <tr>\n",
       "      <th>1</th>\n",
       "      <td>Q55DL5</td>\n",
       "      <td>Q55DL5</td>\n",
       "      <td>Q55DL5</td>\n",
       "      <td>0</td>\n",
       "      <td>(M, S, E, I, L, I, D, S, E, L, L, S, C, P, I, ...</td>\n",
       "    </tr>\n",
       "    <tr>\n",
       "      <th>2</th>\n",
       "      <td>O81027</td>\n",
       "      <td>O81027</td>\n",
       "      <td>O81027</td>\n",
       "      <td>0</td>\n",
       "      <td>(M, Q, W, N, G, V, R, R, A, H, S, I, W, C, K, ...</td>\n",
       "    </tr>\n",
       "    <tr>\n",
       "      <th>3</th>\n",
       "      <td>Q04418</td>\n",
       "      <td>Q04418</td>\n",
       "      <td>Q04418</td>\n",
       "      <td>0</td>\n",
       "      <td>(M, D, L, L, G, D, I, V, E, K, D, T, S, D, S, ...</td>\n",
       "    </tr>\n",
       "    <tr>\n",
       "      <th>4</th>\n",
       "      <td>Q8IXT2</td>\n",
       "      <td>Q8IXT2</td>\n",
       "      <td>Q8IXT2</td>\n",
       "      <td>0</td>\n",
       "      <td>(M, E, P, S, D, M, P, A, G, Y, H, C, P, L, D, ...</td>\n",
       "    </tr>\n",
       "  </tbody>\n",
       "</table>\n",
       "</div>"
      ],
      "text/plain": [
       "       ID    name description  num_features  \\\n",
       "0  P91124  P91124      P91124             0   \n",
       "1  Q55DL5  Q55DL5      Q55DL5             0   \n",
       "2  O81027  O81027      O81027             0   \n",
       "3  Q04418  Q04418      Q04418             0   \n",
       "4  Q8IXT2  Q8IXT2      Q8IXT2             0   \n",
       "\n",
       "                                            sequence  \n",
       "0  (M, A, A, Q, F, Y, E, R, N, T, S, G, M, N, A, ...  \n",
       "1  (M, S, E, I, L, I, D, S, E, L, L, S, C, P, I, ...  \n",
       "2  (M, Q, W, N, G, V, R, R, A, H, S, I, W, C, K, ...  \n",
       "3  (M, D, L, L, G, D, I, V, E, K, D, T, S, D, S, ...  \n",
       "4  (M, E, P, S, D, M, P, A, G, Y, H, C, P, L, D, ...  "
      ]
     },
     "execution_count": 7,
     "metadata": {},
     "output_type": "execute_result"
    }
   ],
   "source": [
    "# Extract relevant information from SeqRecord\n",
    "train_fasta_dict = [{\n",
    "    'ID': record.id,\n",
    "    'name': record.name,\n",
    "    'description': record.description,\n",
    "    'num_features': len(record.features),\n",
    "    'sequence': record.seq,\n",
    "} for record in train_fasta_list]\n",
    "\n",
    "# Create a DataFrame from the extracted data\n",
    "train_fasta = pd.DataFrame(train_fasta_dict)\n",
    "\n",
    "# Display the DataFrame\n",
    "train_fasta.head()"
   ]
  },
  {
   "cell_type": "markdown",
   "metadata": {},
   "source": [
    "Checking if `ID`, `name` and `description` have the same information"
   ]
  },
  {
   "cell_type": "code",
   "execution_count": 8,
   "metadata": {},
   "outputs": [
    {
     "name": "stdout",
     "output_type": "stream",
     "text": [
      "We have a total of 0 differences between the ID and name columns.\n",
      "We have a total of 0 differences between the ID and description columns.\n"
     ]
    }
   ],
   "source": [
    "# Checking for differences between the ID and name columns\n",
    "diff_id_name = sum(train_fasta['ID'] != train_fasta['name'])\n",
    "\n",
    "# Checking for differences between the ID and description columns\n",
    "diff_id_description = sum(train_fasta['ID'] != train_fasta['description'])\n",
    "\n",
    "print(f\"We have a total of {diff_id_name} differences between the ID and name columns.\\nWe have a total of {diff_id_description} differences between the ID and description columns.\")"
   ]
  },
  {
   "cell_type": "markdown",
   "metadata": {},
   "source": [
    "Checking if `num_features` has value different from 0"
   ]
  },
  {
   "cell_type": "code",
   "execution_count": 9,
   "metadata": {},
   "outputs": [
    {
     "name": "stdout",
     "output_type": "stream",
     "text": [
      "We have a total of 0 sequences with features.\n"
     ]
    }
   ],
   "source": [
    "num_features_values = sum(train_fasta['num_features'] != 0)\n",
    "\n",
    "print(f\"We have a total of {num_features_values} sequences with features.\")"
   ]
  },
  {
   "cell_type": "markdown",
   "metadata": {},
   "source": [
    "**Nice!**\n",
    "\n",
    "We found that `ID`, `name` and `description` columns are the same. We can remove two of them (`name`, `descritpion`). \n",
    "\n",
    "In the same way we saw that `num_features` is not very informative since it has only 0, let's remove it as well\n",
    "\n"
   ]
  },
  {
   "cell_type": "code",
   "execution_count": 10,
   "metadata": {},
   "outputs": [
    {
     "data": {
      "text/html": [
       "<div>\n",
       "<style scoped>\n",
       "    .dataframe tbody tr th:only-of-type {\n",
       "        vertical-align: middle;\n",
       "    }\n",
       "\n",
       "    .dataframe tbody tr th {\n",
       "        vertical-align: top;\n",
       "    }\n",
       "\n",
       "    .dataframe thead th {\n",
       "        text-align: right;\n",
       "    }\n",
       "</style>\n",
       "<table border=\"1\" class=\"dataframe\">\n",
       "  <thead>\n",
       "    <tr style=\"text-align: right;\">\n",
       "      <th></th>\n",
       "      <th>ID</th>\n",
       "      <th>sequence</th>\n",
       "    </tr>\n",
       "  </thead>\n",
       "  <tbody>\n",
       "    <tr>\n",
       "      <th>0</th>\n",
       "      <td>P91124</td>\n",
       "      <td>(M, A, A, Q, F, Y, E, R, N, T, S, G, M, N, A, ...</td>\n",
       "    </tr>\n",
       "    <tr>\n",
       "      <th>1</th>\n",
       "      <td>Q55DL5</td>\n",
       "      <td>(M, S, E, I, L, I, D, S, E, L, L, S, C, P, I, ...</td>\n",
       "    </tr>\n",
       "    <tr>\n",
       "      <th>2</th>\n",
       "      <td>O81027</td>\n",
       "      <td>(M, Q, W, N, G, V, R, R, A, H, S, I, W, C, K, ...</td>\n",
       "    </tr>\n",
       "    <tr>\n",
       "      <th>3</th>\n",
       "      <td>Q04418</td>\n",
       "      <td>(M, D, L, L, G, D, I, V, E, K, D, T, S, D, S, ...</td>\n",
       "    </tr>\n",
       "    <tr>\n",
       "      <th>4</th>\n",
       "      <td>Q8IXT2</td>\n",
       "      <td>(M, E, P, S, D, M, P, A, G, Y, H, C, P, L, D, ...</td>\n",
       "    </tr>\n",
       "  </tbody>\n",
       "</table>\n",
       "</div>"
      ],
      "text/plain": [
       "       ID                                           sequence\n",
       "0  P91124  (M, A, A, Q, F, Y, E, R, N, T, S, G, M, N, A, ...\n",
       "1  Q55DL5  (M, S, E, I, L, I, D, S, E, L, L, S, C, P, I, ...\n",
       "2  O81027  (M, Q, W, N, G, V, R, R, A, H, S, I, W, C, K, ...\n",
       "3  Q04418  (M, D, L, L, G, D, I, V, E, K, D, T, S, D, S, ...\n",
       "4  Q8IXT2  (M, E, P, S, D, M, P, A, G, Y, H, C, P, L, D, ..."
      ]
     },
     "execution_count": 10,
     "metadata": {},
     "output_type": "execute_result"
    }
   ],
   "source": [
    "train_fasta.drop(columns=['name', 'description', 'num_features'], inplace=True)\n",
    "\n",
    "\n",
    "train_fasta.head()"
   ]
  },
  {
   "cell_type": "markdown",
   "metadata": {},
   "source": [
    "### Extracting `train_embeddings.h5`"
   ]
  },
  {
   "cell_type": "code",
   "execution_count": 11,
   "metadata": {},
   "outputs": [
    {
     "data": {
      "text/html": [
       "<div>\n",
       "<style scoped>\n",
       "    .dataframe tbody tr th:only-of-type {\n",
       "        vertical-align: middle;\n",
       "    }\n",
       "\n",
       "    .dataframe tbody tr th {\n",
       "        vertical-align: top;\n",
       "    }\n",
       "\n",
       "    .dataframe thead th {\n",
       "        text-align: right;\n",
       "    }\n",
       "</style>\n",
       "<table border=\"1\" class=\"dataframe\">\n",
       "  <thead>\n",
       "    <tr style=\"text-align: right;\">\n",
       "      <th></th>\n",
       "      <th>ID</th>\n",
       "      <th>embeddings</th>\n",
       "    </tr>\n",
       "  </thead>\n",
       "  <tbody>\n",
       "    <tr>\n",
       "      <th>0</th>\n",
       "      <td>A0A009IHW8</td>\n",
       "      <td>[0.0682, -0.04648, 0.001752, -0.00858, 0.00376...</td>\n",
       "    </tr>\n",
       "    <tr>\n",
       "      <th>1</th>\n",
       "      <td>A0A021WW32</td>\n",
       "      <td>[-0.01643, -0.001583, 0.00389, 0.0734, 0.01243...</td>\n",
       "    </tr>\n",
       "    <tr>\n",
       "      <th>2</th>\n",
       "      <td>A0A021WZA4</td>\n",
       "      <td>[0.007904, 0.0877, -0.001715, 0.03766, 0.01788...</td>\n",
       "    </tr>\n",
       "    <tr>\n",
       "      <th>3</th>\n",
       "      <td>A0A023FBW4</td>\n",
       "      <td>[0.002447, 0.007053, 0.06445, 0.00727, -0.0335...</td>\n",
       "    </tr>\n",
       "    <tr>\n",
       "      <th>4</th>\n",
       "      <td>A0A023FBW7</td>\n",
       "      <td>[0.04932, 0.02069, 0.10864, 0.01634, -0.05106,...</td>\n",
       "    </tr>\n",
       "  </tbody>\n",
       "</table>\n",
       "</div>"
      ],
      "text/plain": [
       "           ID                                         embeddings\n",
       "0  A0A009IHW8  [0.0682, -0.04648, 0.001752, -0.00858, 0.00376...\n",
       "1  A0A021WW32  [-0.01643, -0.001583, 0.00389, 0.0734, 0.01243...\n",
       "2  A0A021WZA4  [0.007904, 0.0877, -0.001715, 0.03766, 0.01788...\n",
       "3  A0A023FBW4  [0.002447, 0.007053, 0.06445, 0.00727, -0.0335...\n",
       "4  A0A023FBW7  [0.04932, 0.02069, 0.10864, 0.01634, -0.05106,..."
      ]
     },
     "execution_count": 11,
     "metadata": {},
     "output_type": "execute_result"
    }
   ],
   "source": [
    "filename = \"train_embeddings.h5\"\n",
    "\n",
    "data_list = []\n",
    "\n",
    "with h5py.File(training_data_path / filename, \"r\") as f:\n",
    "    for dataset_name in f.keys():\n",
    "        dataset = f[dataset_name][:]\n",
    "        data_list.append([dataset_name, dataset])\n",
    "\n",
    "train_embeddings = pd.DataFrame(data_list, columns=[\"ID\", \"embeddings\"])\n",
    "\n",
    "train_embeddings.head()"
   ]
  },
  {
   "cell_type": "code",
   "execution_count": 12,
   "metadata": {},
   "outputs": [
    {
     "name": "stdout",
     "output_type": "stream",
     "text": [
      "(123969, 1024)\n"
     ]
    }
   ],
   "source": [
    "train_embeddings_np = np.array(train_embeddings['embeddings'].tolist())\n",
    "print(train_embeddings_np.shape)"
   ]
  },
  {
   "cell_type": "markdown",
   "metadata": {},
   "source": [
    "### Extracting `train_protein2ipr.dat`"
   ]
  },
  {
   "cell_type": "code",
   "execution_count": 13,
   "metadata": {},
   "outputs": [
    {
     "data": {
      "text/html": [
       "<div>\n",
       "<style scoped>\n",
       "    .dataframe tbody tr th:only-of-type {\n",
       "        vertical-align: middle;\n",
       "    }\n",
       "\n",
       "    .dataframe tbody tr th {\n",
       "        vertical-align: top;\n",
       "    }\n",
       "\n",
       "    .dataframe thead th {\n",
       "        text-align: right;\n",
       "    }\n",
       "</style>\n",
       "<table border=\"1\" class=\"dataframe\">\n",
       "  <thead>\n",
       "    <tr style=\"text-align: right;\">\n",
       "      <th></th>\n",
       "      <th>ID</th>\n",
       "      <th>ipr</th>\n",
       "      <th>domain</th>\n",
       "      <th>familyID</th>\n",
       "      <th>start</th>\n",
       "      <th>end</th>\n",
       "    </tr>\n",
       "  </thead>\n",
       "  <tbody>\n",
       "    <tr>\n",
       "      <th>0</th>\n",
       "      <td>A0A009IHW8</td>\n",
       "      <td>IPR000157</td>\n",
       "      <td>Toll/interleukin-1 receptor homology (TIR) domain</td>\n",
       "      <td>PS50104</td>\n",
       "      <td>133</td>\n",
       "      <td>266</td>\n",
       "    </tr>\n",
       "    <tr>\n",
       "      <th>1</th>\n",
       "      <td>A0A009IHW8</td>\n",
       "      <td>IPR000157</td>\n",
       "      <td>Toll/interleukin-1 receptor homology (TIR) domain</td>\n",
       "      <td>SM00255</td>\n",
       "      <td>134</td>\n",
       "      <td>258</td>\n",
       "    </tr>\n",
       "    <tr>\n",
       "      <th>2</th>\n",
       "      <td>A0A009IHW8</td>\n",
       "      <td>IPR035897</td>\n",
       "      <td>Toll/interleukin-1 receptor homology (TIR) dom...</td>\n",
       "      <td>G3DSA:3.40.50.10140</td>\n",
       "      <td>80</td>\n",
       "      <td>266</td>\n",
       "    </tr>\n",
       "    <tr>\n",
       "      <th>3</th>\n",
       "      <td>A0A009IHW8</td>\n",
       "      <td>IPR035897</td>\n",
       "      <td>Toll/interleukin-1 receptor homology (TIR) dom...</td>\n",
       "      <td>SSF52200</td>\n",
       "      <td>128</td>\n",
       "      <td>249</td>\n",
       "    </tr>\n",
       "    <tr>\n",
       "      <th>4</th>\n",
       "      <td>A0A021WW32</td>\n",
       "      <td>IPR006910</td>\n",
       "      <td>Rad21/Rec8-like protein, N-terminal</td>\n",
       "      <td>PF04825</td>\n",
       "      <td>1</td>\n",
       "      <td>103</td>\n",
       "    </tr>\n",
       "  </tbody>\n",
       "</table>\n",
       "</div>"
      ],
      "text/plain": [
       "           ID        ipr                                             domain  \\\n",
       "0  A0A009IHW8  IPR000157  Toll/interleukin-1 receptor homology (TIR) domain   \n",
       "1  A0A009IHW8  IPR000157  Toll/interleukin-1 receptor homology (TIR) domain   \n",
       "2  A0A009IHW8  IPR035897  Toll/interleukin-1 receptor homology (TIR) dom...   \n",
       "3  A0A009IHW8  IPR035897  Toll/interleukin-1 receptor homology (TIR) dom...   \n",
       "4  A0A021WW32  IPR006910                Rad21/Rec8-like protein, N-terminal   \n",
       "\n",
       "              familyID  start  end  \n",
       "0              PS50104    133  266  \n",
       "1              SM00255    134  258  \n",
       "2  G3DSA:3.40.50.10140     80  266  \n",
       "3             SSF52200    128  249  \n",
       "4              PF04825      1  103  "
      ]
     },
     "execution_count": 13,
     "metadata": {},
     "output_type": "execute_result"
    }
   ],
   "source": [
    "train_protein2ipr = pd.read_csv(training_data_path / 'train_protein2ipr.dat', sep='\\t')\n",
    "\n",
    "# Rename Protein_ID and aspect columns\n",
    "train_protein2ipr.columns = ['ID', 'ipr', 'domain', 'familyID', 'start', 'end']\n",
    "\n",
    "# Display the first few rows of the train set\n",
    "train_protein2ipr.head()"
   ]
  },
  {
   "cell_type": "code",
   "execution_count": 14,
   "metadata": {},
   "outputs": [
    {
     "name": "stdout",
     "output_type": "stream",
     "text": [
      "Train protein2ipr ((1103545, 6)):\n"
     ]
    },
    {
     "data": {
      "text/html": [
       "<div>\n",
       "<style scoped>\n",
       "    .dataframe tbody tr th:only-of-type {\n",
       "        vertical-align: middle;\n",
       "    }\n",
       "\n",
       "    .dataframe tbody tr th {\n",
       "        vertical-align: top;\n",
       "    }\n",
       "\n",
       "    .dataframe thead th {\n",
       "        text-align: right;\n",
       "    }\n",
       "</style>\n",
       "<table border=\"1\" class=\"dataframe\">\n",
       "  <thead>\n",
       "    <tr style=\"text-align: right;\">\n",
       "      <th></th>\n",
       "      <th>ID</th>\n",
       "      <th>ipr</th>\n",
       "      <th>domain</th>\n",
       "      <th>familyID</th>\n",
       "      <th>start</th>\n",
       "      <th>end</th>\n",
       "    </tr>\n",
       "  </thead>\n",
       "  <tbody>\n",
       "    <tr>\n",
       "      <th>0</th>\n",
       "      <td>A0A009IHW8</td>\n",
       "      <td>(IPR000157, IPR000157, IPR035897, IPR035897)</td>\n",
       "      <td>(Toll/interleukin-1 receptor homology (TIR) do...</td>\n",
       "      <td>(PS50104, SM00255, G3DSA:3.40.50.10140, SSF52200)</td>\n",
       "      <td>(133, 134, 80, 128)</td>\n",
       "      <td>(266, 258, 266, 249)</td>\n",
       "    </tr>\n",
       "    <tr>\n",
       "      <th>1</th>\n",
       "      <td>A0A021WW32</td>\n",
       "      <td>(IPR006910, IPR039781, IPR049589)</td>\n",
       "      <td>(Rad21/Rec8-like protein, N-terminal, Rad21/Re...</td>\n",
       "      <td>(PF04825, PTHR12585, cd21792)</td>\n",
       "      <td>(1, 1, 327)</td>\n",
       "      <td>(103, 607, 404)</td>\n",
       "    </tr>\n",
       "    <tr>\n",
       "      <th>2</th>\n",
       "      <td>A0A021WZA4</td>\n",
       "      <td>(IPR004481, IPR004481, IPR004837, IPR004837, I...</td>\n",
       "      <td>(Sodium/potassium/calcium exchanger, Sodium/po...</td>\n",
       "      <td>(PTHR10846, TIGR00367, PF01699, PF01699, G3DSA...</td>\n",
       "      <td>(6, 31, 33, 329, 64, 286)</td>\n",
       "      <td>(496, 476, 175, 480, 258, 482)</td>\n",
       "    </tr>\n",
       "    <tr>\n",
       "      <th>3</th>\n",
       "      <td>A0A023FBW7</td>\n",
       "      <td>(IPR045797,)</td>\n",
       "      <td>(Evasins Class A,)</td>\n",
       "      <td>(PF19429,)</td>\n",
       "      <td>(38,)</td>\n",
       "      <td>(110,)</td>\n",
       "    </tr>\n",
       "    <tr>\n",
       "      <th>4</th>\n",
       "      <td>A0A023FDY8</td>\n",
       "      <td>(IPR045797,)</td>\n",
       "      <td>(Evasins Class A,)</td>\n",
       "      <td>(PF19429,)</td>\n",
       "      <td>(38,)</td>\n",
       "      <td>(110,)</td>\n",
       "    </tr>\n",
       "  </tbody>\n",
       "</table>\n",
       "</div>"
      ],
      "text/plain": [
       "           ID                                                ipr  \\\n",
       "0  A0A009IHW8       (IPR000157, IPR000157, IPR035897, IPR035897)   \n",
       "1  A0A021WW32                  (IPR006910, IPR039781, IPR049589)   \n",
       "2  A0A021WZA4  (IPR004481, IPR004481, IPR004837, IPR004837, I...   \n",
       "3  A0A023FBW7                                       (IPR045797,)   \n",
       "4  A0A023FDY8                                       (IPR045797,)   \n",
       "\n",
       "                                              domain  \\\n",
       "0  (Toll/interleukin-1 receptor homology (TIR) do...   \n",
       "1  (Rad21/Rec8-like protein, N-terminal, Rad21/Re...   \n",
       "2  (Sodium/potassium/calcium exchanger, Sodium/po...   \n",
       "3                                 (Evasins Class A,)   \n",
       "4                                 (Evasins Class A,)   \n",
       "\n",
       "                                            familyID  \\\n",
       "0  (PS50104, SM00255, G3DSA:3.40.50.10140, SSF52200)   \n",
       "1                      (PF04825, PTHR12585, cd21792)   \n",
       "2  (PTHR10846, TIGR00367, PF01699, PF01699, G3DSA...   \n",
       "3                                         (PF19429,)   \n",
       "4                                         (PF19429,)   \n",
       "\n",
       "                       start                             end  \n",
       "0        (133, 134, 80, 128)            (266, 258, 266, 249)  \n",
       "1                (1, 1, 327)                 (103, 607, 404)  \n",
       "2  (6, 31, 33, 329, 64, 286)  (496, 476, 175, 480, 258, 482)  \n",
       "3                      (38,)                          (110,)  \n",
       "4                      (38,)                          (110,)  "
      ]
     },
     "execution_count": 14,
     "metadata": {},
     "output_type": "execute_result"
    }
   ],
   "source": [
    "# Group by 'ID' and aggregate other columns into lists\n",
    "train_protein2ipr_grouped = train_protein2ipr.groupby('ID').agg(lambda x: tuple(x)).reset_index()\n",
    "\n",
    "print(f\"Train protein2ipr ({train_protein2ipr.shape}):\")\n",
    "train_protein2ipr_grouped.head()"
   ]
  },
  {
   "cell_type": "markdown",
   "metadata": {},
   "source": [
    "Still have to understand what *tizio, caio, sempronio* are."
   ]
  },
  {
   "cell_type": "markdown",
   "metadata": {},
   "source": [
    "### Extracting `go-basic.obo`"
   ]
  },
  {
   "cell_type": "code",
   "execution_count": 15,
   "metadata": {},
   "outputs": [
    {
     "name": "stdout",
     "output_type": "stream",
     "text": [
      "All IDs with namespaces:\n"
     ]
    },
    {
     "data": {
      "text/html": [
       "<div>\n",
       "<style scoped>\n",
       "    .dataframe tbody tr th:only-of-type {\n",
       "        vertical-align: middle;\n",
       "    }\n",
       "\n",
       "    .dataframe tbody tr th {\n",
       "        vertical-align: top;\n",
       "    }\n",
       "\n",
       "    .dataframe thead th {\n",
       "        text-align: right;\n",
       "    }\n",
       "</style>\n",
       "<table border=\"1\" class=\"dataframe\">\n",
       "  <thead>\n",
       "    <tr style=\"text-align: right;\">\n",
       "      <th></th>\n",
       "      <th>ID</th>\n",
       "      <th>name</th>\n",
       "      <th>namespace</th>\n",
       "      <th>is_a</th>\n",
       "      <th>part_of</th>\n",
       "    </tr>\n",
       "  </thead>\n",
       "  <tbody>\n",
       "    <tr>\n",
       "      <th>0</th>\n",
       "      <td>GO:0000001</td>\n",
       "      <td>mitochondrion inheritance</td>\n",
       "      <td>biological_process</td>\n",
       "      <td>[GO:0048308, GO:0048311]</td>\n",
       "      <td>[]</td>\n",
       "    </tr>\n",
       "    <tr>\n",
       "      <th>1</th>\n",
       "      <td>GO:0000002</td>\n",
       "      <td>mitochondrial genome maintenance</td>\n",
       "      <td>biological_process</td>\n",
       "      <td>[GO:0007005]</td>\n",
       "      <td>[]</td>\n",
       "    </tr>\n",
       "    <tr>\n",
       "      <th>2</th>\n",
       "      <td>GO:0000003</td>\n",
       "      <td>reproduction</td>\n",
       "      <td>biological_process</td>\n",
       "      <td>[GO:0008150]</td>\n",
       "      <td>[]</td>\n",
       "    </tr>\n",
       "    <tr>\n",
       "      <th>3</th>\n",
       "      <td>GO:0019952</td>\n",
       "      <td>reproduction</td>\n",
       "      <td>biological_process</td>\n",
       "      <td>[GO:0008150]</td>\n",
       "      <td>[]</td>\n",
       "    </tr>\n",
       "    <tr>\n",
       "      <th>4</th>\n",
       "      <td>GO:0050876</td>\n",
       "      <td>reproduction</td>\n",
       "      <td>biological_process</td>\n",
       "      <td>[GO:0008150]</td>\n",
       "      <td>[]</td>\n",
       "    </tr>\n",
       "  </tbody>\n",
       "</table>\n",
       "</div>"
      ],
      "text/plain": [
       "           ID                              name           namespace  \\\n",
       "0  GO:0000001         mitochondrion inheritance  biological_process   \n",
       "1  GO:0000002  mitochondrial genome maintenance  biological_process   \n",
       "2  GO:0000003                      reproduction  biological_process   \n",
       "3  GO:0019952                      reproduction  biological_process   \n",
       "4  GO:0050876                      reproduction  biological_process   \n",
       "\n",
       "                       is_a part_of  \n",
       "0  [GO:0048308, GO:0048311]      []  \n",
       "1              [GO:0007005]      []  \n",
       "2              [GO:0008150]      []  \n",
       "3              [GO:0008150]      []  \n",
       "4              [GO:0008150]      []  "
      ]
     },
     "execution_count": 15,
     "metadata": {},
     "output_type": "execute_result"
    }
   ],
   "source": [
    "import re\n",
    "\n",
    "file_path = \"../data/train/go-basic.obo\"  # Replace with your file path\n",
    "\n",
    "# Step 1: Initialize storage for GO terms\n",
    "go_terms = []\n",
    "\n",
    "# Step 2: Parse the .obo file\n",
    "with open(file_path, 'r') as file:\n",
    "    current_term = {}\n",
    "    for line in file:\n",
    "        line = line.strip()\n",
    "        \n",
    "        # Start of a new term\n",
    "        if line == \"[Term]\":\n",
    "            if current_term:  # Save the previous term\n",
    "                go_terms.append(current_term)\n",
    "            current_term = {}  # Start a new term\n",
    "            \n",
    "        elif line.startswith(\"id:\"):\n",
    "            current_term['ID'] = line.split(\"id: \")[1]\n",
    "            \n",
    "        elif line.startswith(\"alt_id:\"):\n",
    "            alt_id = line.split(\"alt_id: \")[1]\n",
    "            current_term.setdefault('alt_ids', []).append(alt_id)\n",
    "            \n",
    "        elif line.startswith(\"name:\"):\n",
    "            current_term['name'] = line.split(\"name: \")[1]\n",
    "            \n",
    "        elif line.startswith(\"namespace:\"):\n",
    "            current_term['namespace'] = line.split(\"namespace: \")[1]\n",
    "            \n",
    "        elif line.startswith(\"is_a\"):\n",
    "            match = re.search(r\"GO:\\d+\", line)  # Search for GO ID\n",
    "            if match:  # Check if a match was found\n",
    "                is_a_id = match.group()\n",
    "                current_term.setdefault('is_a', []).append(is_a_id)\n",
    "                \n",
    "        elif line.startswith(\"relationship: part_of\"):\n",
    "            match = re.search(r\"GO:\\d+\", line)  # Search for GO ID\n",
    "            if match:  # Check if a match was found\n",
    "                part_of_id = match.group()\n",
    "                current_term.setdefault('part_of', []).append(part_of_id)\n",
    "\n",
    "            \n",
    "    # Add the last term\n",
    "    if current_term:\n",
    "        go_terms.append(current_term)\n",
    "\n",
    "# Step 3: Create a unified list of all IDs (primary and alt_ids)\n",
    "expanded_terms = []\n",
    "for term in go_terms:\n",
    "    primary_id = term['ID']\n",
    "    alt_ids = term.get('alt_ids', [])\n",
    "    all_ids = [primary_id] + alt_ids\n",
    "    \n",
    "    for term_id in all_ids:\n",
    "        expanded_terms.append({\n",
    "            'ID': term_id,\n",
    "            'name': term.get('name'),\n",
    "            'namespace': term.get('namespace'),\n",
    "            'is_a': term.get('is_a', []),\n",
    "            'part_of': term.get('part_of', [])\n",
    "        })\n",
    "\n",
    "# Step 4: Convert to a DataFrame\n",
    "df = pd.DataFrame(expanded_terms)\n",
    "\n",
    "# Step 5: Filter by namespace and explode relationships\n",
    "df_is_a = df.explode('is_a').dropna(subset=['is_a'])\n",
    "df_part_of = df.explode('part_of').dropna(subset=['part_of'])\n",
    "\n",
    "\n",
    "print(\"All IDs with namespaces:\")\n",
    "df.head()"
   ]
  },
  {
   "cell_type": "code",
   "execution_count": 16,
   "metadata": {},
   "outputs": [
    {
     "name": "stdout",
     "output_type": "stream",
     "text": [
      "'is_a' relationships:\n"
     ]
    },
    {
     "data": {
      "text/html": [
       "<div>\n",
       "<style scoped>\n",
       "    .dataframe tbody tr th:only-of-type {\n",
       "        vertical-align: middle;\n",
       "    }\n",
       "\n",
       "    .dataframe tbody tr th {\n",
       "        vertical-align: top;\n",
       "    }\n",
       "\n",
       "    .dataframe thead th {\n",
       "        text-align: right;\n",
       "    }\n",
       "</style>\n",
       "<table border=\"1\" class=\"dataframe\">\n",
       "  <thead>\n",
       "    <tr style=\"text-align: right;\">\n",
       "      <th></th>\n",
       "      <th>ID</th>\n",
       "      <th>name</th>\n",
       "      <th>namespace</th>\n",
       "      <th>is_a</th>\n",
       "      <th>part_of</th>\n",
       "    </tr>\n",
       "  </thead>\n",
       "  <tbody>\n",
       "    <tr>\n",
       "      <th>0</th>\n",
       "      <td>GO:0000001</td>\n",
       "      <td>mitochondrion inheritance</td>\n",
       "      <td>biological_process</td>\n",
       "      <td>GO:0048308</td>\n",
       "      <td>[]</td>\n",
       "    </tr>\n",
       "    <tr>\n",
       "      <th>0</th>\n",
       "      <td>GO:0000001</td>\n",
       "      <td>mitochondrion inheritance</td>\n",
       "      <td>biological_process</td>\n",
       "      <td>GO:0048311</td>\n",
       "      <td>[]</td>\n",
       "    </tr>\n",
       "    <tr>\n",
       "      <th>1</th>\n",
       "      <td>GO:0000002</td>\n",
       "      <td>mitochondrial genome maintenance</td>\n",
       "      <td>biological_process</td>\n",
       "      <td>GO:0007005</td>\n",
       "      <td>[]</td>\n",
       "    </tr>\n",
       "    <tr>\n",
       "      <th>2</th>\n",
       "      <td>GO:0000003</td>\n",
       "      <td>reproduction</td>\n",
       "      <td>biological_process</td>\n",
       "      <td>GO:0008150</td>\n",
       "      <td>[]</td>\n",
       "    </tr>\n",
       "    <tr>\n",
       "      <th>3</th>\n",
       "      <td>GO:0019952</td>\n",
       "      <td>reproduction</td>\n",
       "      <td>biological_process</td>\n",
       "      <td>GO:0008150</td>\n",
       "      <td>[]</td>\n",
       "    </tr>\n",
       "  </tbody>\n",
       "</table>\n",
       "</div>"
      ],
      "text/plain": [
       "           ID                              name           namespace  \\\n",
       "0  GO:0000001         mitochondrion inheritance  biological_process   \n",
       "0  GO:0000001         mitochondrion inheritance  biological_process   \n",
       "1  GO:0000002  mitochondrial genome maintenance  biological_process   \n",
       "2  GO:0000003                      reproduction  biological_process   \n",
       "3  GO:0019952                      reproduction  biological_process   \n",
       "\n",
       "         is_a part_of  \n",
       "0  GO:0048308      []  \n",
       "0  GO:0048311      []  \n",
       "1  GO:0007005      []  \n",
       "2  GO:0008150      []  \n",
       "3  GO:0008150      []  "
      ]
     },
     "execution_count": 16,
     "metadata": {},
     "output_type": "execute_result"
    }
   ],
   "source": [
    "print(\"'is_a' relationships:\")\n",
    "df_is_a.head()"
   ]
  },
  {
   "cell_type": "code",
   "execution_count": 17,
   "metadata": {},
   "outputs": [
    {
     "name": "stdout",
     "output_type": "stream",
     "text": [
      "'part_of' relationships:\n"
     ]
    },
    {
     "data": {
      "text/html": [
       "<div>\n",
       "<style scoped>\n",
       "    .dataframe tbody tr th:only-of-type {\n",
       "        vertical-align: middle;\n",
       "    }\n",
       "\n",
       "    .dataframe tbody tr th {\n",
       "        vertical-align: top;\n",
       "    }\n",
       "\n",
       "    .dataframe thead th {\n",
       "        text-align: right;\n",
       "    }\n",
       "</style>\n",
       "<table border=\"1\" class=\"dataframe\">\n",
       "  <thead>\n",
       "    <tr style=\"text-align: right;\">\n",
       "      <th></th>\n",
       "      <th>ID</th>\n",
       "      <th>name</th>\n",
       "      <th>namespace</th>\n",
       "      <th>is_a</th>\n",
       "      <th>part_of</th>\n",
       "    </tr>\n",
       "  </thead>\n",
       "  <tbody>\n",
       "    <tr>\n",
       "      <th>16</th>\n",
       "      <td>GO:0000015</td>\n",
       "      <td>phosphopyruvate hydratase complex</td>\n",
       "      <td>cellular_component</td>\n",
       "      <td>[GO:1902494]</td>\n",
       "      <td>GO:0005829</td>\n",
       "    </tr>\n",
       "    <tr>\n",
       "      <th>22</th>\n",
       "      <td>GO:0000022</td>\n",
       "      <td>mitotic spindle elongation</td>\n",
       "      <td>biological_process</td>\n",
       "      <td>[GO:0051231, GO:1903047]</td>\n",
       "      <td>GO:0000070</td>\n",
       "    </tr>\n",
       "    <tr>\n",
       "      <th>22</th>\n",
       "      <td>GO:0000022</td>\n",
       "      <td>mitotic spindle elongation</td>\n",
       "      <td>biological_process</td>\n",
       "      <td>[GO:0051231, GO:1903047]</td>\n",
       "      <td>GO:0007052</td>\n",
       "    </tr>\n",
       "    <tr>\n",
       "      <th>23</th>\n",
       "      <td>GO:1905121</td>\n",
       "      <td>mitotic spindle elongation</td>\n",
       "      <td>biological_process</td>\n",
       "      <td>[GO:0051231, GO:1903047]</td>\n",
       "      <td>GO:0000070</td>\n",
       "    </tr>\n",
       "    <tr>\n",
       "      <th>23</th>\n",
       "      <td>GO:1905121</td>\n",
       "      <td>mitotic spindle elongation</td>\n",
       "      <td>biological_process</td>\n",
       "      <td>[GO:0051231, GO:1903047]</td>\n",
       "      <td>GO:0007052</td>\n",
       "    </tr>\n",
       "  </tbody>\n",
       "</table>\n",
       "</div>"
      ],
      "text/plain": [
       "            ID                               name           namespace  \\\n",
       "16  GO:0000015  phosphopyruvate hydratase complex  cellular_component   \n",
       "22  GO:0000022         mitotic spindle elongation  biological_process   \n",
       "22  GO:0000022         mitotic spindle elongation  biological_process   \n",
       "23  GO:1905121         mitotic spindle elongation  biological_process   \n",
       "23  GO:1905121         mitotic spindle elongation  biological_process   \n",
       "\n",
       "                        is_a     part_of  \n",
       "16              [GO:1902494]  GO:0005829  \n",
       "22  [GO:0051231, GO:1903047]  GO:0000070  \n",
       "22  [GO:0051231, GO:1903047]  GO:0007052  \n",
       "23  [GO:0051231, GO:1903047]  GO:0000070  \n",
       "23  [GO:0051231, GO:1903047]  GO:0007052  "
      ]
     },
     "execution_count": 17,
     "metadata": {},
     "output_type": "execute_result"
    }
   ],
   "source": [
    "print(\"'part_of' relationships:\")\n",
    "df_part_of.head()"
   ]
  },
  {
   "cell_type": "markdown",
   "metadata": {},
   "source": [
    "## Merging all previous extractions"
   ]
  },
  {
   "cell_type": "markdown",
   "metadata": {},
   "source": [
    "Let us collect the dataframes and check lengths. Noting that:\n",
    "- _train_set.tsv_ contains the proteins, their GO annotations and their corresponding aspects which will be used to subdivde it into three separate datasets\n",
    "- _train.fasta_ and _train_embeddings.h5_ can be grouped together since they refers to the whole input\n",
    "- _train_protein2ipr.dat_\n",
    "- _go-basic.obo_"
   ]
  },
  {
   "cell_type": "code",
   "execution_count": 18,
   "metadata": {},
   "outputs": [
    {
     "name": "stdout",
     "output_type": "stream",
     "text": [
      "Shapes: CC (84638, 2), MF (55698, 2), BP (83064, 2)\n",
      "Cellular Component (84638):\n"
     ]
    },
    {
     "data": {
      "text/html": [
       "<div>\n",
       "<style scoped>\n",
       "    .dataframe tbody tr th:only-of-type {\n",
       "        vertical-align: middle;\n",
       "    }\n",
       "\n",
       "    .dataframe tbody tr th {\n",
       "        vertical-align: top;\n",
       "    }\n",
       "\n",
       "    .dataframe thead th {\n",
       "        text-align: right;\n",
       "    }\n",
       "</style>\n",
       "<table border=\"1\" class=\"dataframe\">\n",
       "  <thead>\n",
       "    <tr style=\"text-align: right;\">\n",
       "      <th></th>\n",
       "      <th>ID</th>\n",
       "      <th>GO_term</th>\n",
       "    </tr>\n",
       "  </thead>\n",
       "  <tbody>\n",
       "    <tr>\n",
       "      <th>0</th>\n",
       "      <td>A0A021WW32</td>\n",
       "      <td>(GO:0005575, GO:0110165, GO:0000785, GO:003299...</td>\n",
       "    </tr>\n",
       "    <tr>\n",
       "      <th>1</th>\n",
       "      <td>A0A021WZA4</td>\n",
       "      <td>(GO:0005575, GO:0110165, GO:0071944, GO:000588...</td>\n",
       "    </tr>\n",
       "    <tr>\n",
       "      <th>2</th>\n",
       "      <td>A0A023GPJ3</td>\n",
       "      <td>(GO:0005575, GO:0110165, GO:0005622, GO:000582...</td>\n",
       "    </tr>\n",
       "    <tr>\n",
       "      <th>3</th>\n",
       "      <td>A0A023GUT0</td>\n",
       "      <td>(GO:0005575, GO:0110165, GO:0005576, GO:0005615)</td>\n",
       "    </tr>\n",
       "    <tr>\n",
       "      <th>4</th>\n",
       "      <td>A0A023IM54</td>\n",
       "      <td>(GO:0005575, GO:0005737, GO:0042175, GO:003299...</td>\n",
       "    </tr>\n",
       "  </tbody>\n",
       "</table>\n",
       "</div>"
      ],
      "text/plain": [
       "           ID                                            GO_term\n",
       "0  A0A021WW32  (GO:0005575, GO:0110165, GO:0000785, GO:003299...\n",
       "1  A0A021WZA4  (GO:0005575, GO:0110165, GO:0071944, GO:000588...\n",
       "2  A0A023GPJ3  (GO:0005575, GO:0110165, GO:0005622, GO:000582...\n",
       "3  A0A023GUT0   (GO:0005575, GO:0110165, GO:0005576, GO:0005615)\n",
       "4  A0A023IM54  (GO:0005575, GO:0005737, GO:0042175, GO:003299..."
      ]
     },
     "execution_count": 18,
     "metadata": {},
     "output_type": "execute_result"
    }
   ],
   "source": [
    "def group_and_combine(df, sub_ontology_value):\n",
    "    return df[df['sub_ontology'] == sub_ontology_value].groupby('ID')['GO_term'].apply(tuple).reset_index()\n",
    "\n",
    "# Create three dataframes for each sub_ontology value\n",
    "df_CC = group_and_combine(train_set, 'cellular_component')\n",
    "df_MF = group_and_combine(train_set, 'molecular_function')\n",
    "df_BP = group_and_combine(train_set, 'biological_process')\n",
    "\n",
    "print(f\"Shapes: CC {df_CC.shape}, MF {df_MF.shape}, BP {df_BP.shape}\")\n",
    "\n",
    "print(f\"Cellular Component ({df_CC.shape[0]}):\")\n",
    "df_CC.head()"
   ]
  },
  {
   "cell_type": "code",
   "execution_count": 19,
   "metadata": {},
   "outputs": [
    {
     "name": "stdout",
     "output_type": "stream",
     "text": [
      "Number of rows missing from train_protein2ipr_grouped: 6522\n",
      "Combined DataFrame shape: (123969, 7)\n"
     ]
    },
    {
     "data": {
      "text/html": [
       "<div>\n",
       "<style scoped>\n",
       "    .dataframe tbody tr th:only-of-type {\n",
       "        vertical-align: middle;\n",
       "    }\n",
       "\n",
       "    .dataframe tbody tr th {\n",
       "        vertical-align: top;\n",
       "    }\n",
       "\n",
       "    .dataframe thead th {\n",
       "        text-align: right;\n",
       "    }\n",
       "</style>\n",
       "<table border=\"1\" class=\"dataframe\">\n",
       "  <thead>\n",
       "    <tr style=\"text-align: right;\">\n",
       "      <th></th>\n",
       "      <th>ID</th>\n",
       "      <th>sequence</th>\n",
       "      <th>ipr</th>\n",
       "      <th>domain</th>\n",
       "      <th>familyID</th>\n",
       "      <th>start</th>\n",
       "      <th>end</th>\n",
       "    </tr>\n",
       "  </thead>\n",
       "  <tbody>\n",
       "    <tr>\n",
       "      <th>0</th>\n",
       "      <td>P91124</td>\n",
       "      <td>(M, A, A, Q, F, Y, E, R, N, T, S, G, M, N, A, ...</td>\n",
       "      <td>(IPR010504, IPR010504, IPR010504, IPR024114, I...</td>\n",
       "      <td>(Arfaptin homology (AH) domain, Arfaptin homol...</td>\n",
       "      <td>(PF06456, PS50870, SM01015, PTHR10164, G3DSA:1...</td>\n",
       "      <td>(28, 56, 27, 15, 54, 56)</td>\n",
       "      <td>(255, 260, 255, 329, 257, 256)</td>\n",
       "    </tr>\n",
       "    <tr>\n",
       "      <th>1</th>\n",
       "      <td>Q55DL5</td>\n",
       "      <td>(M, S, E, I, L, I, D, S, E, L, L, S, C, P, I, ...</td>\n",
       "      <td>(IPR001841, IPR001841, IPR011990, IPR011990, I...</td>\n",
       "      <td>(Zinc finger, RING-type, Zinc finger, RING-typ...</td>\n",
       "      <td>(PS50089, SM00184, G3DSA:1.25.40.10, SSF48452,...</td>\n",
       "      <td>(13, 13, 74, 84, 3, 28, 13, 156, 121, 83, 121,...</td>\n",
       "      <td>(52, 51, 221, 186, 73, 37, 51, 182, 154, 116, ...</td>\n",
       "    </tr>\n",
       "    <tr>\n",
       "      <th>2</th>\n",
       "      <td>O81027</td>\n",
       "      <td>(M, Q, W, N, G, V, R, R, A, H, S, I, W, C, K, ...</td>\n",
       "      <td>(IPR000891, IPR000891, IPR013785, IPR043594)</td>\n",
       "      <td>(Pyruvate carboxyltransferase, Pyruvate carbox...</td>\n",
       "      <td>(PF00682, PS50991, G3DSA:3.20.20.70, PTHR42738)</td>\n",
       "      <td>(168, 168, 162, 151)</td>\n",
       "      <td>(441, 435, 461, 459)</td>\n",
       "    </tr>\n",
       "    <tr>\n",
       "      <th>3</th>\n",
       "      <td>Q04418</td>\n",
       "      <td>(M, D, L, L, G, D, I, V, E, K, D, T, S, D, S, ...</td>\n",
       "      <td>(IPR013929, IPR013930, IPR039913)</td>\n",
       "      <td>(RNA polymerase II-associated protein 1, C-ter...</td>\n",
       "      <td>(PF08620, PF08621, PTHR21483)</td>\n",
       "      <td>(289, 79, 4)</td>\n",
       "      <td>(356, 123, 364)</td>\n",
       "    </tr>\n",
       "    <tr>\n",
       "      <th>4</th>\n",
       "      <td>Q8IXT2</td>\n",
       "      <td>(M, E, P, S, D, M, P, A, G, Y, H, C, P, L, D, ...</td>\n",
       "      <td>(IPR001275, IPR001275, IPR001275, IPR001275, I...</td>\n",
       "      <td>(DM DNA-binding domain, DM DNA-binding domain,...</td>\n",
       "      <td>(PF00751, PS40000, PS50809, SM00301, PTHR12322...</td>\n",
       "      <td>(38, 42, 42, 38, 1, 240, 35, 37)</td>\n",
       "      <td>(84, 71, 89, 91, 357, 366, 84, 84)</td>\n",
       "    </tr>\n",
       "  </tbody>\n",
       "</table>\n",
       "</div>"
      ],
      "text/plain": [
       "       ID                                           sequence  \\\n",
       "0  P91124  (M, A, A, Q, F, Y, E, R, N, T, S, G, M, N, A, ...   \n",
       "1  Q55DL5  (M, S, E, I, L, I, D, S, E, L, L, S, C, P, I, ...   \n",
       "2  O81027  (M, Q, W, N, G, V, R, R, A, H, S, I, W, C, K, ...   \n",
       "3  Q04418  (M, D, L, L, G, D, I, V, E, K, D, T, S, D, S, ...   \n",
       "4  Q8IXT2  (M, E, P, S, D, M, P, A, G, Y, H, C, P, L, D, ...   \n",
       "\n",
       "                                                 ipr  \\\n",
       "0  (IPR010504, IPR010504, IPR010504, IPR024114, I...   \n",
       "1  (IPR001841, IPR001841, IPR011990, IPR011990, I...   \n",
       "2       (IPR000891, IPR000891, IPR013785, IPR043594)   \n",
       "3                  (IPR013929, IPR013930, IPR039913)   \n",
       "4  (IPR001275, IPR001275, IPR001275, IPR001275, I...   \n",
       "\n",
       "                                              domain  \\\n",
       "0  (Arfaptin homology (AH) domain, Arfaptin homol...   \n",
       "1  (Zinc finger, RING-type, Zinc finger, RING-typ...   \n",
       "2  (Pyruvate carboxyltransferase, Pyruvate carbox...   \n",
       "3  (RNA polymerase II-associated protein 1, C-ter...   \n",
       "4  (DM DNA-binding domain, DM DNA-binding domain,...   \n",
       "\n",
       "                                            familyID  \\\n",
       "0  (PF06456, PS50870, SM01015, PTHR10164, G3DSA:1...   \n",
       "1  (PS50089, SM00184, G3DSA:1.25.40.10, SSF48452,...   \n",
       "2    (PF00682, PS50991, G3DSA:3.20.20.70, PTHR42738)   \n",
       "3                      (PF08620, PF08621, PTHR21483)   \n",
       "4  (PF00751, PS40000, PS50809, SM00301, PTHR12322...   \n",
       "\n",
       "                                               start  \\\n",
       "0                           (28, 56, 27, 15, 54, 56)   \n",
       "1  (13, 13, 74, 84, 3, 28, 13, 156, 121, 83, 121,...   \n",
       "2                               (168, 168, 162, 151)   \n",
       "3                                       (289, 79, 4)   \n",
       "4                   (38, 42, 42, 38, 1, 240, 35, 37)   \n",
       "\n",
       "                                                 end  \n",
       "0                     (255, 260, 255, 329, 257, 256)  \n",
       "1  (52, 51, 221, 186, 73, 37, 51, 182, 154, 116, ...  \n",
       "2                               (441, 435, 461, 459)  \n",
       "3                                    (356, 123, 364)  \n",
       "4                 (84, 71, 89, 91, 357, 366, 84, 84)  "
      ]
     },
     "execution_count": 19,
     "metadata": {},
     "output_type": "execute_result"
    }
   ],
   "source": [
    "## TRY NOT COMBINE EMBEDDINGS\n",
    "# combined_train = pd.merge(train_embeddings, train_fasta, on='ID')\n",
    "# combined_train = pd.merge(combined_train, train_protein2ipr_grouped, on='ID', how='left')\n",
    "\n",
    "combined_train = pd.merge(train_fasta, train_protein2ipr_grouped, on='ID', how='left')\n",
    "\n",
    "missing_rows = combined_train[combined_train['ipr'].isna()].shape[0]\n",
    "print(f\"Number of rows missing from train_protein2ipr_grouped: {missing_rows}\")\n",
    "\n",
    "# combined_train = combined_train.drop('domain', axis=1)\n",
    "\n",
    "print(f\"Combined DataFrame shape: {combined_train.shape}\")\n",
    "combined_train.head()"
   ]
  },
  {
   "cell_type": "code",
   "execution_count": 20,
   "metadata": {},
   "outputs": [
    {
     "name": "stdout",
     "output_type": "stream",
     "text": [
      "Shapes: CC (84638, 8), MF (55698, 8), BP (83064, 8)\n",
      "Full df CC (84638, 8):\n"
     ]
    },
    {
     "data": {
      "text/html": [
       "<div>\n",
       "<style scoped>\n",
       "    .dataframe tbody tr th:only-of-type {\n",
       "        vertical-align: middle;\n",
       "    }\n",
       "\n",
       "    .dataframe tbody tr th {\n",
       "        vertical-align: top;\n",
       "    }\n",
       "\n",
       "    .dataframe thead th {\n",
       "        text-align: right;\n",
       "    }\n",
       "</style>\n",
       "<table border=\"1\" class=\"dataframe\">\n",
       "  <thead>\n",
       "    <tr style=\"text-align: right;\">\n",
       "      <th></th>\n",
       "      <th>ID</th>\n",
       "      <th>sequence</th>\n",
       "      <th>ipr</th>\n",
       "      <th>domain</th>\n",
       "      <th>familyID</th>\n",
       "      <th>start</th>\n",
       "      <th>end</th>\n",
       "      <th>GO_term</th>\n",
       "    </tr>\n",
       "  </thead>\n",
       "  <tbody>\n",
       "    <tr>\n",
       "      <th>0</th>\n",
       "      <td>A0A021WW32</td>\n",
       "      <td>(M, F, Y, E, H, I, I, L, A, K, K, G, P, L, A, ...</td>\n",
       "      <td>(IPR006910, IPR039781, IPR049589)</td>\n",
       "      <td>(Rad21/Rec8-like protein, N-terminal, Rad21/Re...</td>\n",
       "      <td>(PF04825, PTHR12585, cd21792)</td>\n",
       "      <td>(1, 1, 327)</td>\n",
       "      <td>(103, 607, 404)</td>\n",
       "      <td>(GO:0005575, GO:0110165, GO:0000785, GO:003299...</td>\n",
       "    </tr>\n",
       "    <tr>\n",
       "      <th>1</th>\n",
       "      <td>A0A021WZA4</td>\n",
       "      <td>(M, K, Y, I, N, C, T, Q, P, A, I, D, D, F, P, ...</td>\n",
       "      <td>(IPR004481, IPR004481, IPR004837, IPR004837, I...</td>\n",
       "      <td>(Sodium/potassium/calcium exchanger, Sodium/po...</td>\n",
       "      <td>(PTHR10846, TIGR00367, PF01699, PF01699, G3DSA...</td>\n",
       "      <td>(6, 31, 33, 329, 64, 286)</td>\n",
       "      <td>(496, 476, 175, 480, 258, 482)</td>\n",
       "      <td>(GO:0005575, GO:0110165, GO:0071944, GO:000588...</td>\n",
       "    </tr>\n",
       "    <tr>\n",
       "      <th>2</th>\n",
       "      <td>A0A023GPJ3</td>\n",
       "      <td>(M, D, R, D, A, E, E, G, R, P, L, S, L, V, N, ...</td>\n",
       "      <td>(IPR013087, IPR013087, IPR013087, IPR013087, I...</td>\n",
       "      <td>(Zinc finger C2H2-type, Zinc finger C2H2-type,...</td>\n",
       "      <td>(PF00096, PF00096, PF00096, PF00096, PS00028, ...</td>\n",
       "      <td>(644, 956, 983, 1013, 197, 646, 674, 957, 985,...</td>\n",
       "      <td>(666, 977, 1005, 1034, 218, 666, 694, 977, 100...</td>\n",
       "      <td>(GO:0005575, GO:0110165, GO:0005622, GO:000582...</td>\n",
       "    </tr>\n",
       "    <tr>\n",
       "      <th>3</th>\n",
       "      <td>A0A023GUT0</td>\n",
       "      <td>(M, R, C, P, G, V, S, L, W, G, L, L, C, L, G, ...</td>\n",
       "      <td>(IPR000065, IPR000065, IPR009079, IPR009079)</td>\n",
       "      <td>(Leptin, Leptin, Four-helical cytokine-like, c...</td>\n",
       "      <td>(PF02024, PTHR11724, G3DSA:1.20.1250.10, SSF47...</td>\n",
       "      <td>(28, 7, 24, 29)</td>\n",
       "      <td>(172, 172, 172, 172)</td>\n",
       "      <td>(GO:0005575, GO:0110165, GO:0005576, GO:0005615)</td>\n",
       "    </tr>\n",
       "    <tr>\n",
       "      <th>4</th>\n",
       "      <td>A0A023IM54</td>\n",
       "      <td>(M, K, L, L, P, L, L, V, V, V, A, L, G, L, A, ...</td>\n",
       "      <td>(IPR003006, IPR003597, IPR003597, IPR007110, I...</td>\n",
       "      <td>(Immunoglobulin/major histocompatibility compl...</td>\n",
       "      <td>(PS00290, PF07654, SM00407, PS50835, PR01669, ...</td>\n",
       "      <td>(382, 312, 312, 294, 55, 135, 199, 247, 271, 3...</td>\n",
       "      <td>(388, 391, 394, 401, 63, 146, 216, 261, 287, 3...</td>\n",
       "      <td>(GO:0005575, GO:0005737, GO:0042175, GO:003299...</td>\n",
       "    </tr>\n",
       "  </tbody>\n",
       "</table>\n",
       "</div>"
      ],
      "text/plain": [
       "           ID                                           sequence  \\\n",
       "0  A0A021WW32  (M, F, Y, E, H, I, I, L, A, K, K, G, P, L, A, ...   \n",
       "1  A0A021WZA4  (M, K, Y, I, N, C, T, Q, P, A, I, D, D, F, P, ...   \n",
       "2  A0A023GPJ3  (M, D, R, D, A, E, E, G, R, P, L, S, L, V, N, ...   \n",
       "3  A0A023GUT0  (M, R, C, P, G, V, S, L, W, G, L, L, C, L, G, ...   \n",
       "4  A0A023IM54  (M, K, L, L, P, L, L, V, V, V, A, L, G, L, A, ...   \n",
       "\n",
       "                                                 ipr  \\\n",
       "0                  (IPR006910, IPR039781, IPR049589)   \n",
       "1  (IPR004481, IPR004481, IPR004837, IPR004837, I...   \n",
       "2  (IPR013087, IPR013087, IPR013087, IPR013087, I...   \n",
       "3       (IPR000065, IPR000065, IPR009079, IPR009079)   \n",
       "4  (IPR003006, IPR003597, IPR003597, IPR007110, I...   \n",
       "\n",
       "                                              domain  \\\n",
       "0  (Rad21/Rec8-like protein, N-terminal, Rad21/Re...   \n",
       "1  (Sodium/potassium/calcium exchanger, Sodium/po...   \n",
       "2  (Zinc finger C2H2-type, Zinc finger C2H2-type,...   \n",
       "3  (Leptin, Leptin, Four-helical cytokine-like, c...   \n",
       "4  (Immunoglobulin/major histocompatibility compl...   \n",
       "\n",
       "                                            familyID  \\\n",
       "0                      (PF04825, PTHR12585, cd21792)   \n",
       "1  (PTHR10846, TIGR00367, PF01699, PF01699, G3DSA...   \n",
       "2  (PF00096, PF00096, PF00096, PF00096, PS00028, ...   \n",
       "3  (PF02024, PTHR11724, G3DSA:1.20.1250.10, SSF47...   \n",
       "4  (PS00290, PF07654, SM00407, PS50835, PR01669, ...   \n",
       "\n",
       "                                               start  \\\n",
       "0                                        (1, 1, 327)   \n",
       "1                          (6, 31, 33, 329, 64, 286)   \n",
       "2  (644, 956, 983, 1013, 197, 646, 674, 957, 985,...   \n",
       "3                                    (28, 7, 24, 29)   \n",
       "4  (382, 312, 312, 294, 55, 135, 199, 247, 271, 3...   \n",
       "\n",
       "                                                 end  \\\n",
       "0                                    (103, 607, 404)   \n",
       "1                     (496, 476, 175, 480, 258, 482)   \n",
       "2  (666, 977, 1005, 1034, 218, 666, 694, 977, 100...   \n",
       "3                               (172, 172, 172, 172)   \n",
       "4  (388, 391, 394, 401, 63, 146, 216, 261, 287, 3...   \n",
       "\n",
       "                                             GO_term  \n",
       "0  (GO:0005575, GO:0110165, GO:0000785, GO:003299...  \n",
       "1  (GO:0005575, GO:0110165, GO:0071944, GO:000588...  \n",
       "2  (GO:0005575, GO:0110165, GO:0005622, GO:000582...  \n",
       "3   (GO:0005575, GO:0110165, GO:0005576, GO:0005615)  \n",
       "4  (GO:0005575, GO:0005737, GO:0042175, GO:003299...  "
      ]
     },
     "execution_count": 20,
     "metadata": {},
     "output_type": "execute_result"
    }
   ],
   "source": [
    "# Merge combined_train with df_ab\n",
    "df_CC_full= pd.merge(combined_train, df_CC, on='ID', how='right')\n",
    "df_MF_full= pd.merge(combined_train, df_MF, on='ID', how='right')\n",
    "df_BP_full= pd.merge(combined_train, df_BP, on='ID', how='right')\n",
    "\n",
    "print(f\"Shapes: CC {df_CC_full.shape}, MF {df_MF_full.shape}, BP {df_BP_full.shape}\")\n",
    "\n",
    "print(f\"Full df CC {df_CC_full.shape}:\")\n",
    "df_CC_full.head()"
   ]
  },
  {
   "cell_type": "code",
   "execution_count": 21,
   "metadata": {},
   "outputs": [
    {
     "name": "stdout",
     "output_type": "stream",
     "text": [
      "Shapes: x_df_CC (84638, 7), y_df_CC (84638,), x_df_MF (55698, 7), y_df_MF (55698,), x_df_BP (83064, 7), y_df_BP (83064,)\n",
      "CC Input:\n"
     ]
    },
    {
     "data": {
      "text/html": [
       "<div>\n",
       "<style scoped>\n",
       "    .dataframe tbody tr th:only-of-type {\n",
       "        vertical-align: middle;\n",
       "    }\n",
       "\n",
       "    .dataframe tbody tr th {\n",
       "        vertical-align: top;\n",
       "    }\n",
       "\n",
       "    .dataframe thead th {\n",
       "        text-align: right;\n",
       "    }\n",
       "</style>\n",
       "<table border=\"1\" class=\"dataframe\">\n",
       "  <thead>\n",
       "    <tr style=\"text-align: right;\">\n",
       "      <th></th>\n",
       "      <th>ID</th>\n",
       "      <th>sequence</th>\n",
       "      <th>ipr</th>\n",
       "      <th>domain</th>\n",
       "      <th>familyID</th>\n",
       "      <th>start</th>\n",
       "      <th>end</th>\n",
       "    </tr>\n",
       "  </thead>\n",
       "  <tbody>\n",
       "    <tr>\n",
       "      <th>0</th>\n",
       "      <td>A0A021WW32</td>\n",
       "      <td>(M, F, Y, E, H, I, I, L, A, K, K, G, P, L, A, ...</td>\n",
       "      <td>(IPR006910, IPR039781, IPR049589)</td>\n",
       "      <td>(Rad21/Rec8-like protein, N-terminal, Rad21/Re...</td>\n",
       "      <td>(PF04825, PTHR12585, cd21792)</td>\n",
       "      <td>(1, 1, 327)</td>\n",
       "      <td>(103, 607, 404)</td>\n",
       "    </tr>\n",
       "    <tr>\n",
       "      <th>1</th>\n",
       "      <td>A0A021WZA4</td>\n",
       "      <td>(M, K, Y, I, N, C, T, Q, P, A, I, D, D, F, P, ...</td>\n",
       "      <td>(IPR004481, IPR004481, IPR004837, IPR004837, I...</td>\n",
       "      <td>(Sodium/potassium/calcium exchanger, Sodium/po...</td>\n",
       "      <td>(PTHR10846, TIGR00367, PF01699, PF01699, G3DSA...</td>\n",
       "      <td>(6, 31, 33, 329, 64, 286)</td>\n",
       "      <td>(496, 476, 175, 480, 258, 482)</td>\n",
       "    </tr>\n",
       "    <tr>\n",
       "      <th>2</th>\n",
       "      <td>A0A023GPJ3</td>\n",
       "      <td>(M, D, R, D, A, E, E, G, R, P, L, S, L, V, N, ...</td>\n",
       "      <td>(IPR013087, IPR013087, IPR013087, IPR013087, I...</td>\n",
       "      <td>(Zinc finger C2H2-type, Zinc finger C2H2-type,...</td>\n",
       "      <td>(PF00096, PF00096, PF00096, PF00096, PS00028, ...</td>\n",
       "      <td>(644, 956, 983, 1013, 197, 646, 674, 957, 985,...</td>\n",
       "      <td>(666, 977, 1005, 1034, 218, 666, 694, 977, 100...</td>\n",
       "    </tr>\n",
       "    <tr>\n",
       "      <th>3</th>\n",
       "      <td>A0A023GUT0</td>\n",
       "      <td>(M, R, C, P, G, V, S, L, W, G, L, L, C, L, G, ...</td>\n",
       "      <td>(IPR000065, IPR000065, IPR009079, IPR009079)</td>\n",
       "      <td>(Leptin, Leptin, Four-helical cytokine-like, c...</td>\n",
       "      <td>(PF02024, PTHR11724, G3DSA:1.20.1250.10, SSF47...</td>\n",
       "      <td>(28, 7, 24, 29)</td>\n",
       "      <td>(172, 172, 172, 172)</td>\n",
       "    </tr>\n",
       "    <tr>\n",
       "      <th>4</th>\n",
       "      <td>A0A023IM54</td>\n",
       "      <td>(M, K, L, L, P, L, L, V, V, V, A, L, G, L, A, ...</td>\n",
       "      <td>(IPR003006, IPR003597, IPR003597, IPR007110, I...</td>\n",
       "      <td>(Immunoglobulin/major histocompatibility compl...</td>\n",
       "      <td>(PS00290, PF07654, SM00407, PS50835, PR01669, ...</td>\n",
       "      <td>(382, 312, 312, 294, 55, 135, 199, 247, 271, 3...</td>\n",
       "      <td>(388, 391, 394, 401, 63, 146, 216, 261, 287, 3...</td>\n",
       "    </tr>\n",
       "  </tbody>\n",
       "</table>\n",
       "</div>"
      ],
      "text/plain": [
       "           ID                                           sequence  \\\n",
       "0  A0A021WW32  (M, F, Y, E, H, I, I, L, A, K, K, G, P, L, A, ...   \n",
       "1  A0A021WZA4  (M, K, Y, I, N, C, T, Q, P, A, I, D, D, F, P, ...   \n",
       "2  A0A023GPJ3  (M, D, R, D, A, E, E, G, R, P, L, S, L, V, N, ...   \n",
       "3  A0A023GUT0  (M, R, C, P, G, V, S, L, W, G, L, L, C, L, G, ...   \n",
       "4  A0A023IM54  (M, K, L, L, P, L, L, V, V, V, A, L, G, L, A, ...   \n",
       "\n",
       "                                                 ipr  \\\n",
       "0                  (IPR006910, IPR039781, IPR049589)   \n",
       "1  (IPR004481, IPR004481, IPR004837, IPR004837, I...   \n",
       "2  (IPR013087, IPR013087, IPR013087, IPR013087, I...   \n",
       "3       (IPR000065, IPR000065, IPR009079, IPR009079)   \n",
       "4  (IPR003006, IPR003597, IPR003597, IPR007110, I...   \n",
       "\n",
       "                                              domain  \\\n",
       "0  (Rad21/Rec8-like protein, N-terminal, Rad21/Re...   \n",
       "1  (Sodium/potassium/calcium exchanger, Sodium/po...   \n",
       "2  (Zinc finger C2H2-type, Zinc finger C2H2-type,...   \n",
       "3  (Leptin, Leptin, Four-helical cytokine-like, c...   \n",
       "4  (Immunoglobulin/major histocompatibility compl...   \n",
       "\n",
       "                                            familyID  \\\n",
       "0                      (PF04825, PTHR12585, cd21792)   \n",
       "1  (PTHR10846, TIGR00367, PF01699, PF01699, G3DSA...   \n",
       "2  (PF00096, PF00096, PF00096, PF00096, PS00028, ...   \n",
       "3  (PF02024, PTHR11724, G3DSA:1.20.1250.10, SSF47...   \n",
       "4  (PS00290, PF07654, SM00407, PS50835, PR01669, ...   \n",
       "\n",
       "                                               start  \\\n",
       "0                                        (1, 1, 327)   \n",
       "1                          (6, 31, 33, 329, 64, 286)   \n",
       "2  (644, 956, 983, 1013, 197, 646, 674, 957, 985,...   \n",
       "3                                    (28, 7, 24, 29)   \n",
       "4  (382, 312, 312, 294, 55, 135, 199, 247, 271, 3...   \n",
       "\n",
       "                                                 end  \n",
       "0                                    (103, 607, 404)  \n",
       "1                     (496, 476, 175, 480, 258, 482)  \n",
       "2  (666, 977, 1005, 1034, 218, 666, 694, 977, 100...  \n",
       "3                               (172, 172, 172, 172)  \n",
       "4  (388, 391, 394, 401, 63, 146, 216, 261, 287, 3...  "
      ]
     },
     "execution_count": 21,
     "metadata": {},
     "output_type": "execute_result"
    }
   ],
   "source": [
    "x_df_CC = df_CC_full.iloc[:, :-1]\n",
    "y_df_CC = df_CC_full.iloc[:, -1]\n",
    "x_df_MF = df_MF_full.iloc[:, :-1]\n",
    "y_df_MF = df_MF_full.iloc[:, -1]\n",
    "x_df_BP = df_BP_full.iloc[:, :-1]\n",
    "y_df_BP = df_BP_full.iloc[:, -1]\n",
    "\n",
    "print(f\"Shapes: x_df_CC {x_df_CC.shape}, y_df_CC {y_df_CC.shape}, x_df_MF {x_df_MF.shape}, y_df_MF {y_df_MF.shape}, x_df_BP {x_df_BP.shape}, y_df_BP {y_df_BP.shape}\")\n",
    "\n",
    "print(\"CC Input:\")\n",
    "x_df_CC.head()"
   ]
  },
  {
   "cell_type": "code",
   "execution_count": 22,
   "metadata": {},
   "outputs": [
    {
     "name": "stdout",
     "output_type": "stream",
     "text": [
      "CC Target:\n"
     ]
    },
    {
     "data": {
      "text/plain": [
       "0    (GO:0005575, GO:0110165, GO:0000785, GO:003299...\n",
       "1    (GO:0005575, GO:0110165, GO:0071944, GO:000588...\n",
       "2    (GO:0005575, GO:0110165, GO:0005622, GO:000582...\n",
       "3     (GO:0005575, GO:0110165, GO:0005576, GO:0005615)\n",
       "4    (GO:0005575, GO:0005737, GO:0042175, GO:003299...\n",
       "Name: GO_term, dtype: object"
      ]
     },
     "execution_count": 22,
     "metadata": {},
     "output_type": "execute_result"
    }
   ],
   "source": [
    "print(\"CC Target:\")\n",
    "y_df_CC.head()"
   ]
  },
  {
   "cell_type": "code",
   "execution_count": 23,
   "metadata": {},
   "outputs": [
    {
     "name": "stdout",
     "output_type": "stream",
     "text": [
      "x_emb_CC shape: (84638, 1024)\n",
      "x_emb_MF shape: (55698, 1024)\n",
      "x_emb_BP shape: (83064, 1024)\n"
     ]
    }
   ],
   "source": [
    "# Filter the IDs based on sub_ontology\n",
    "cc_ids = train_set[train_set['sub_ontology'] == 'cellular_component']['ID'].unique()\n",
    "mf_ids = train_set[train_set['sub_ontology'] == 'molecular_function']['ID'].unique()\n",
    "bp_ids = train_set[train_set['sub_ontology'] == 'biological_process']['ID'].unique()\n",
    "\n",
    "# Create a dictionary to map IDs to their index in train_embeddings\n",
    "id_to_index = {id_: idx for idx, id_ in enumerate(train_embeddings['ID'])}\n",
    "\n",
    "# Get the indices for each sub_ontology\n",
    "cc_indices = [id_to_index[id_] for id_ in cc_ids if id_ in id_to_index]\n",
    "mf_indices = [id_to_index[id_] for id_ in mf_ids if id_ in id_to_index]\n",
    "bp_indices = [id_to_index[id_] for id_ in bp_ids if id_ in id_to_index]\n",
    "\n",
    "# Create the numpy matrices\n",
    "x_emb_CC = train_embeddings_np[cc_indices]\n",
    "x_emb_MF = train_embeddings_np[mf_indices]\n",
    "x_emb_BP = train_embeddings_np[bp_indices]\n",
    "\n",
    "print(f\"x_emb_CC shape: {x_emb_CC.shape}\")\n",
    "print(f\"x_emb_MF shape: {x_emb_MF.shape}\")\n",
    "print(f\"x_emb_BP shape: {x_emb_BP.shape}\")"
   ]
  },
  {
   "cell_type": "markdown",
   "metadata": {},
   "source": [
    "Now, let us export the dataframe so that we don't have to run this code each time."
   ]
  },
  {
   "cell_type": "code",
   "execution_count": 24,
   "metadata": {},
   "outputs": [
    {
     "name": "stdout",
     "output_type": "stream",
     "text": [
      "DataFrames have been exported successfully.\n"
     ]
    }
   ],
   "source": [
    "import filecmp\n",
    "\n",
    "# Function to export DataFrame to CSV with check\n",
    "def export_dataframe(df, filename, check=False):\n",
    "    output_path = output_folder / filename\n",
    "    temp_path = output_folder / f'temp_{filename}'\n",
    "    \n",
    "    # Save DataFrame to a temporary file\n",
    "    df.to_csv(temp_path, index=False)\n",
    "    \n",
    "    # Check if the file already exists\n",
    "    if output_path.exists():\n",
    "        # Compare the temporary file with the existing file\n",
    "        if filecmp.cmp(temp_path, output_path, shallow=False):\n",
    "            print(f\"{filename} is already up-to-date.\")\n",
    "            temp_path.unlink()  # Remove the temporary file\n",
    "        else:\n",
    "            if check:\n",
    "                # Ask the user if they want to overwrite the file\n",
    "                response = input(f\"{filename} already exists and is different. Do you want to overwrite it? (yes/no): \")\n",
    "            if not check or response.lower() == 'yes':\n",
    "                os.remove(output_path)\n",
    "                temp_path.rename(output_path)\n",
    "                print(f\"{filename} has been overwritten.\")\n",
    "            else:\n",
    "                temp_path.unlink()  # Remove the temporary file\n",
    "                print(f\"{filename} has not been overwritten.\")\n",
    "    else:\n",
    "        temp_path.rename(output_path)\n",
    "        print(f\"{filename} has been created.\")\n",
    "\n",
    "# Export DataFrames to CSV files with check\n",
    "#export_dataframe(x_df_CC, 'x_df_CC.csv')\n",
    "#export_dataframe(y_df_CC, 'y_df_CC.csv')\n",
    "#export_dataframe(x_df_MF, 'x_df_MF.csv')\n",
    "#export_dataframe(y_df_MF, 'y_df_MF.csv')\n",
    "#export_dataframe(x_df_BP, 'x_df_BP.csv')\n",
    "#export_dataframe(y_df_BP, 'y_df_BP.csv')\n",
    "\n",
    "print(\"DataFrames have been exported successfully.\")"
   ]
  },
  {
   "cell_type": "code",
   "execution_count": 25,
   "metadata": {},
   "outputs": [
    {
     "name": "stdout",
     "output_type": "stream",
     "text": [
      "Numpy arrays have been exported successfully.\n"
     ]
    }
   ],
   "source": [
    "# Function to export numpy array to .npy file\n",
    "def export_numpy_array(np_array, filename):\n",
    "    output_path = output_folder / filename\n",
    "    np.save(output_path, np_array)\n",
    "    print(f\"{filename} has been created.\")\n",
    "\n",
    "### Export numpy arrays to .npy files\n",
    "#export_numpy_array(x_emb_CC, 'x_emb_CC.npy')\n",
    "#export_numpy_array(x_emb_MF, 'x_emb_MF.npy')\n",
    "#export_numpy_array(x_emb_BP, 'x_emb_BP.npy')\n",
    "\n",
    "print(\"Numpy arrays have been exported successfully.\")"
   ]
  },
  {
   "cell_type": "markdown",
   "metadata": {},
   "source": [
    "# Test set\n",
    "\n",
    "In this section we are **creating the Test set**, fusing togheter the data from:\n",
    "- _test_ids.txt_\n",
    "- _test.fasta_\n",
    "- _test_embeddings.h5_\n",
    "- _test_protein2ipr.dat_\n",
    "- _blast_test_results.tsv_"
   ]
  },
  {
   "cell_type": "markdown",
   "metadata": {},
   "source": [
    "### Extracting `test_ids.txt`"
   ]
  },
  {
   "cell_type": "code",
   "execution_count": 26,
   "metadata": {},
   "outputs": [
    {
     "name": "stdout",
     "output_type": "stream",
     "text": [
      "['O43747', 'Q969H0', 'Q9JMA2', 'P18065', 'A0A8I6AN32']\n"
     ]
    }
   ],
   "source": [
    "# Extracting test_ids.txt\n",
    "with open(test_data_path / 'test_ids.txt', 'r') as file:\n",
    "    test_ids = file.read().splitlines()\n",
    "\n",
    "# Display the first few IDs to verify\n",
    "print(test_ids[:5])"
   ]
  },
  {
   "cell_type": "markdown",
   "metadata": {},
   "source": [
    "### Extracting `test.fasta`"
   ]
  },
  {
   "cell_type": "code",
   "execution_count": 27,
   "metadata": {},
   "outputs": [
    {
     "name": "stdout",
     "output_type": "stream",
     "text": [
      "ID: O43747\n",
      "Name: O43747\n",
      "Description: O43747\n",
      "Number of features: 0\n",
      "Seq('MPAPIRLRELIRTIRTARTQAEEREMIQKECAAIRSSFREEDNTYRCRNVAKLL...SWQ')\n"
     ]
    }
   ],
   "source": [
    "test_fasta_list = list(SeqIO.parse(test_data_path / 'test.fasta', 'fasta'))\n",
    "\n",
    "# Print the first sequence to verify\n",
    "print(test_fasta_list[0])"
   ]
  },
  {
   "cell_type": "code",
   "execution_count": 28,
   "metadata": {},
   "outputs": [
    {
     "data": {
      "text/html": [
       "<div>\n",
       "<style scoped>\n",
       "    .dataframe tbody tr th:only-of-type {\n",
       "        vertical-align: middle;\n",
       "    }\n",
       "\n",
       "    .dataframe tbody tr th {\n",
       "        vertical-align: top;\n",
       "    }\n",
       "\n",
       "    .dataframe thead th {\n",
       "        text-align: right;\n",
       "    }\n",
       "</style>\n",
       "<table border=\"1\" class=\"dataframe\">\n",
       "  <thead>\n",
       "    <tr style=\"text-align: right;\">\n",
       "      <th></th>\n",
       "      <th>ID</th>\n",
       "      <th>name</th>\n",
       "      <th>description</th>\n",
       "      <th>num_features</th>\n",
       "      <th>sequence</th>\n",
       "    </tr>\n",
       "  </thead>\n",
       "  <tbody>\n",
       "    <tr>\n",
       "      <th>0</th>\n",
       "      <td>O43747</td>\n",
       "      <td>O43747</td>\n",
       "      <td>O43747</td>\n",
       "      <td>0</td>\n",
       "      <td>(M, P, A, P, I, R, L, R, E, L, I, R, T, I, R, ...</td>\n",
       "    </tr>\n",
       "    <tr>\n",
       "      <th>1</th>\n",
       "      <td>Q969H0</td>\n",
       "      <td>Q969H0</td>\n",
       "      <td>Q969H0</td>\n",
       "      <td>0</td>\n",
       "      <td>(M, N, Q, E, L, L, S, V, G, S, K, R, R, R, T, ...</td>\n",
       "    </tr>\n",
       "    <tr>\n",
       "      <th>2</th>\n",
       "      <td>Q9JMA2</td>\n",
       "      <td>Q9JMA2</td>\n",
       "      <td>Q9JMA2</td>\n",
       "      <td>0</td>\n",
       "      <td>(M, A, A, V, G, S, P, G, S, L, E, S, A, P, R, ...</td>\n",
       "    </tr>\n",
       "    <tr>\n",
       "      <th>3</th>\n",
       "      <td>P18065</td>\n",
       "      <td>P18065</td>\n",
       "      <td>P18065</td>\n",
       "      <td>0</td>\n",
       "      <td>(M, L, P, R, V, G, C, P, A, L, P, L, P, P, P, ...</td>\n",
       "    </tr>\n",
       "    <tr>\n",
       "      <th>4</th>\n",
       "      <td>A0A8I6AN32</td>\n",
       "      <td>A0A8I6AN32</td>\n",
       "      <td>A0A8I6AN32</td>\n",
       "      <td>0</td>\n",
       "      <td>(M, A, S, N, D, Y, T, Q, Q, A, T, Q, S, Y, G, ...</td>\n",
       "    </tr>\n",
       "  </tbody>\n",
       "</table>\n",
       "</div>"
      ],
      "text/plain": [
       "           ID        name description  num_features  \\\n",
       "0      O43747      O43747      O43747             0   \n",
       "1      Q969H0      Q969H0      Q969H0             0   \n",
       "2      Q9JMA2      Q9JMA2      Q9JMA2             0   \n",
       "3      P18065      P18065      P18065             0   \n",
       "4  A0A8I6AN32  A0A8I6AN32  A0A8I6AN32             0   \n",
       "\n",
       "                                            sequence  \n",
       "0  (M, P, A, P, I, R, L, R, E, L, I, R, T, I, R, ...  \n",
       "1  (M, N, Q, E, L, L, S, V, G, S, K, R, R, R, T, ...  \n",
       "2  (M, A, A, V, G, S, P, G, S, L, E, S, A, P, R, ...  \n",
       "3  (M, L, P, R, V, G, C, P, A, L, P, L, P, P, P, ...  \n",
       "4  (M, A, S, N, D, Y, T, Q, Q, A, T, Q, S, Y, G, ...  "
      ]
     },
     "execution_count": 28,
     "metadata": {},
     "output_type": "execute_result"
    }
   ],
   "source": [
    "# Extract relevant information from SeqRecord\n",
    "test_fasta_dict = [{\n",
    "    'ID': record.id,\n",
    "    'name': record.name,\n",
    "    'description': record.description,\n",
    "    'num_features': len(record.features),\n",
    "    'sequence': record.seq,\n",
    "} for record in test_fasta_list]\n",
    "\n",
    "# Create a DataFrame from the extracted data\n",
    "test_fasta = pd.DataFrame(test_fasta_dict)\n",
    "\n",
    "# Display the DataFrame\n",
    "test_fasta.head()"
   ]
  },
  {
   "cell_type": "markdown",
   "metadata": {},
   "source": [
    "Let's check if ID, name and description are the same thing, as well as seeing if num_features has relevant information."
   ]
  },
  {
   "cell_type": "code",
   "execution_count": 29,
   "metadata": {},
   "outputs": [
    {
     "name": "stdout",
     "output_type": "stream",
     "text": [
      "We have a total of 0 differences between the ID and name columns.\n",
      "We have a total of 0 differences between the ID and description columns.\n"
     ]
    }
   ],
   "source": [
    "# Checking for differences between the ID and name columns\n",
    "diff_id_name = sum(test_fasta['ID'] != test_fasta['name'])\n",
    "\n",
    "# Checking for differences between the ID and description columns\n",
    "diff_id_description = sum(test_fasta['ID'] != test_fasta['description'])\n",
    "\n",
    "print(f\"We have a total of {diff_id_name} differences between the ID and name columns.\\nWe have a total of {diff_id_description} differences between the ID and description columns.\")"
   ]
  },
  {
   "cell_type": "code",
   "execution_count": 30,
   "metadata": {},
   "outputs": [
    {
     "name": "stdout",
     "output_type": "stream",
     "text": [
      "We have a total of 0 sequences with features.\n"
     ]
    }
   ],
   "source": [
    "num_features_values = sum(test_fasta['num_features'] != 0)\n",
    "\n",
    "print(f\"We have a total of {num_features_values} sequences with features.\")"
   ]
  },
  {
   "cell_type": "markdown",
   "metadata": {},
   "source": [
    "Let's drop the useless columns, as before"
   ]
  },
  {
   "cell_type": "code",
   "execution_count": 31,
   "metadata": {},
   "outputs": [
    {
     "data": {
      "text/html": [
       "<div>\n",
       "<style scoped>\n",
       "    .dataframe tbody tr th:only-of-type {\n",
       "        vertical-align: middle;\n",
       "    }\n",
       "\n",
       "    .dataframe tbody tr th {\n",
       "        vertical-align: top;\n",
       "    }\n",
       "\n",
       "    .dataframe thead th {\n",
       "        text-align: right;\n",
       "    }\n",
       "</style>\n",
       "<table border=\"1\" class=\"dataframe\">\n",
       "  <thead>\n",
       "    <tr style=\"text-align: right;\">\n",
       "      <th></th>\n",
       "      <th>ID</th>\n",
       "      <th>sequence</th>\n",
       "    </tr>\n",
       "  </thead>\n",
       "  <tbody>\n",
       "    <tr>\n",
       "      <th>0</th>\n",
       "      <td>O43747</td>\n",
       "      <td>(M, P, A, P, I, R, L, R, E, L, I, R, T, I, R, ...</td>\n",
       "    </tr>\n",
       "    <tr>\n",
       "      <th>1</th>\n",
       "      <td>Q969H0</td>\n",
       "      <td>(M, N, Q, E, L, L, S, V, G, S, K, R, R, R, T, ...</td>\n",
       "    </tr>\n",
       "    <tr>\n",
       "      <th>2</th>\n",
       "      <td>Q9JMA2</td>\n",
       "      <td>(M, A, A, V, G, S, P, G, S, L, E, S, A, P, R, ...</td>\n",
       "    </tr>\n",
       "    <tr>\n",
       "      <th>3</th>\n",
       "      <td>P18065</td>\n",
       "      <td>(M, L, P, R, V, G, C, P, A, L, P, L, P, P, P, ...</td>\n",
       "    </tr>\n",
       "    <tr>\n",
       "      <th>4</th>\n",
       "      <td>A0A8I6AN32</td>\n",
       "      <td>(M, A, S, N, D, Y, T, Q, Q, A, T, Q, S, Y, G, ...</td>\n",
       "    </tr>\n",
       "  </tbody>\n",
       "</table>\n",
       "</div>"
      ],
      "text/plain": [
       "           ID                                           sequence\n",
       "0      O43747  (M, P, A, P, I, R, L, R, E, L, I, R, T, I, R, ...\n",
       "1      Q969H0  (M, N, Q, E, L, L, S, V, G, S, K, R, R, R, T, ...\n",
       "2      Q9JMA2  (M, A, A, V, G, S, P, G, S, L, E, S, A, P, R, ...\n",
       "3      P18065  (M, L, P, R, V, G, C, P, A, L, P, L, P, P, P, ...\n",
       "4  A0A8I6AN32  (M, A, S, N, D, Y, T, Q, Q, A, T, Q, S, Y, G, ..."
      ]
     },
     "execution_count": 31,
     "metadata": {},
     "output_type": "execute_result"
    }
   ],
   "source": [
    "test_fasta.drop(columns=['name', 'description', 'num_features'], inplace=True)\n",
    "\n",
    "\n",
    "test_fasta.head()"
   ]
  },
  {
   "cell_type": "markdown",
   "metadata": {},
   "source": [
    "Let's also check if the IDs are the same as the ones in the txt file"
   ]
  },
  {
   "cell_type": "code",
   "execution_count": 32,
   "metadata": {},
   "outputs": [
    {
     "name": "stdout",
     "output_type": "stream",
     "text": [
      "The number of IDs in train_ids.txt is equal to the number of unique IDs in the train set (1000).\n",
      "Proceeding with the analysis.\n"
     ]
    }
   ],
   "source": [
    "len_ID = len(test_fasta['ID'].unique()) # assigned because gave problem on else statement print\n",
    "\n",
    "if len(test_ids) == len_ID:\n",
    "    print(f\"The number of IDs in train_ids.txt is equal to the number of unique IDs in the train set ({len(test_ids)}).\\n\"\n",
    "          \"Proceeding with the analysis.\")\n",
    "else:\n",
    "    print(f'The numbers are not the same: test_ids are {len(test_ids)}, while the length of the fasta file is {len_ID})')"
   ]
  },
  {
   "cell_type": "markdown",
   "metadata": {},
   "source": [
    "### Extracting `test_embeddings.h5`"
   ]
  },
  {
   "cell_type": "code",
   "execution_count": 33,
   "metadata": {},
   "outputs": [
    {
     "data": {
      "text/html": [
       "<div>\n",
       "<style scoped>\n",
       "    .dataframe tbody tr th:only-of-type {\n",
       "        vertical-align: middle;\n",
       "    }\n",
       "\n",
       "    .dataframe tbody tr th {\n",
       "        vertical-align: top;\n",
       "    }\n",
       "\n",
       "    .dataframe thead th {\n",
       "        text-align: right;\n",
       "    }\n",
       "</style>\n",
       "<table border=\"1\" class=\"dataframe\">\n",
       "  <thead>\n",
       "    <tr style=\"text-align: right;\">\n",
       "      <th></th>\n",
       "      <th>ID</th>\n",
       "      <th>embeddings</th>\n",
       "    </tr>\n",
       "  </thead>\n",
       "  <tbody>\n",
       "    <tr>\n",
       "      <th>0</th>\n",
       "      <td>A0A0B4JCV4</td>\n",
       "      <td>[0.00979, -0.03973, 0.03653, -0.006447, -0.040...</td>\n",
       "    </tr>\n",
       "    <tr>\n",
       "      <th>1</th>\n",
       "      <td>A0A0B4KHT0</td>\n",
       "      <td>[0.02786, -0.01154, 0.008865, -0.01765, 0.0073...</td>\n",
       "    </tr>\n",
       "    <tr>\n",
       "      <th>2</th>\n",
       "      <td>A0A0B4P506</td>\n",
       "      <td>[0.01643, 0.01802, 0.03702, -0.0591, 0.0356, 0...</td>\n",
       "    </tr>\n",
       "    <tr>\n",
       "      <th>3</th>\n",
       "      <td>A0A0G2K1A2</td>\n",
       "      <td>[0.00882, 0.0835, -0.001374, -0.0003645, -0.06...</td>\n",
       "    </tr>\n",
       "    <tr>\n",
       "      <th>4</th>\n",
       "      <td>A0A0G2K1V4</td>\n",
       "      <td>[0.0659, 0.0929, -0.001803, 0.0226, 0.0383, 0....</td>\n",
       "    </tr>\n",
       "  </tbody>\n",
       "</table>\n",
       "</div>"
      ],
      "text/plain": [
       "           ID                                         embeddings\n",
       "0  A0A0B4JCV4  [0.00979, -0.03973, 0.03653, -0.006447, -0.040...\n",
       "1  A0A0B4KHT0  [0.02786, -0.01154, 0.008865, -0.01765, 0.0073...\n",
       "2  A0A0B4P506  [0.01643, 0.01802, 0.03702, -0.0591, 0.0356, 0...\n",
       "3  A0A0G2K1A2  [0.00882, 0.0835, -0.001374, -0.0003645, -0.06...\n",
       "4  A0A0G2K1V4  [0.0659, 0.0929, -0.001803, 0.0226, 0.0383, 0...."
      ]
     },
     "execution_count": 33,
     "metadata": {},
     "output_type": "execute_result"
    }
   ],
   "source": [
    "data_list = []\n",
    "\n",
    "with h5py.File(test_data_path / \"test_embeddings.h5\", \"r\") as f:\n",
    "    for dataset_name in f.keys():\n",
    "        dataset = f[dataset_name][:]\n",
    "        data_list.append([dataset_name, dataset])\n",
    "\n",
    "test_embeddings = pd.DataFrame(data_list, columns=[\"ID\", \"embeddings\"])\n",
    "\n",
    "test_embeddings.head()"
   ]
  },
  {
   "cell_type": "code",
   "execution_count": 34,
   "metadata": {},
   "outputs": [
    {
     "name": "stdout",
     "output_type": "stream",
     "text": [
      "(1000, 1024)\n"
     ]
    }
   ],
   "source": [
    "test_embeddings_np = np.array(test_embeddings['embeddings'].tolist())\n",
    "print(test_embeddings_np.shape)"
   ]
  },
  {
   "cell_type": "markdown",
   "metadata": {},
   "source": [
    "### Extracting `test_protein2ipr.dat`"
   ]
  },
  {
   "cell_type": "code",
   "execution_count": 35,
   "metadata": {},
   "outputs": [
    {
     "data": {
      "text/html": [
       "<div>\n",
       "<style scoped>\n",
       "    .dataframe tbody tr th:only-of-type {\n",
       "        vertical-align: middle;\n",
       "    }\n",
       "\n",
       "    .dataframe tbody tr th {\n",
       "        vertical-align: top;\n",
       "    }\n",
       "\n",
       "    .dataframe thead th {\n",
       "        text-align: right;\n",
       "    }\n",
       "</style>\n",
       "<table border=\"1\" class=\"dataframe\">\n",
       "  <thead>\n",
       "    <tr style=\"text-align: right;\">\n",
       "      <th></th>\n",
       "      <th>ID</th>\n",
       "      <th>ipr</th>\n",
       "      <th>domain</th>\n",
       "      <th>familyID</th>\n",
       "      <th>start</th>\n",
       "      <th>end</th>\n",
       "    </tr>\n",
       "  </thead>\n",
       "  <tbody>\n",
       "    <tr>\n",
       "      <th>0</th>\n",
       "      <td>A0A0B4JCV4</td>\n",
       "      <td>IPR039915</td>\n",
       "      <td>TACC family</td>\n",
       "      <td>PTHR13924</td>\n",
       "      <td>38</td>\n",
       "      <td>1206</td>\n",
       "    </tr>\n",
       "    <tr>\n",
       "      <th>1</th>\n",
       "      <td>A0A0B4KHT0</td>\n",
       "      <td>IPR000315</td>\n",
       "      <td>B-box-type zinc finger</td>\n",
       "      <td>PF00643</td>\n",
       "      <td>177</td>\n",
       "      <td>219</td>\n",
       "    </tr>\n",
       "    <tr>\n",
       "      <th>2</th>\n",
       "      <td>A0A0B4KHT0</td>\n",
       "      <td>IPR000315</td>\n",
       "      <td>B-box-type zinc finger</td>\n",
       "      <td>PF00643</td>\n",
       "      <td>236</td>\n",
       "      <td>274</td>\n",
       "    </tr>\n",
       "    <tr>\n",
       "      <th>3</th>\n",
       "      <td>A0A0B4KHT0</td>\n",
       "      <td>IPR000315</td>\n",
       "      <td>B-box-type zinc finger</td>\n",
       "      <td>PS50119</td>\n",
       "      <td>173</td>\n",
       "      <td>220</td>\n",
       "    </tr>\n",
       "    <tr>\n",
       "      <th>4</th>\n",
       "      <td>A0A0B4KHT0</td>\n",
       "      <td>IPR000315</td>\n",
       "      <td>B-box-type zinc finger</td>\n",
       "      <td>PS50119</td>\n",
       "      <td>235</td>\n",
       "      <td>282</td>\n",
       "    </tr>\n",
       "  </tbody>\n",
       "</table>\n",
       "</div>"
      ],
      "text/plain": [
       "           ID        ipr                  domain   familyID  start   end\n",
       "0  A0A0B4JCV4  IPR039915             TACC family  PTHR13924     38  1206\n",
       "1  A0A0B4KHT0  IPR000315  B-box-type zinc finger    PF00643    177   219\n",
       "2  A0A0B4KHT0  IPR000315  B-box-type zinc finger    PF00643    236   274\n",
       "3  A0A0B4KHT0  IPR000315  B-box-type zinc finger    PS50119    173   220\n",
       "4  A0A0B4KHT0  IPR000315  B-box-type zinc finger    PS50119    235   282"
      ]
     },
     "execution_count": 35,
     "metadata": {},
     "output_type": "execute_result"
    }
   ],
   "source": [
    "test_protein2ipr = pd.read_csv(test_data_path / 'test_protein2ipr.dat', sep='\\t')\n",
    "\n",
    "# Rename Protein_ID and aspect columns\n",
    "test_protein2ipr.columns = ['ID', 'ipr', 'domain', 'familyID', 'start', 'end']\n",
    "\n",
    "# Remove 'domain' that is useless\n",
    "test_protein2ipr.drop('domain', axis=1)\n",
    "\n",
    "test_protein2ipr.head()"
   ]
  },
  {
   "cell_type": "code",
   "execution_count": 36,
   "metadata": {},
   "outputs": [
    {
     "name": "stdout",
     "output_type": "stream",
     "text": [
      "Test protein2ipr ((11263, 6)):\n"
     ]
    },
    {
     "data": {
      "text/html": [
       "<div>\n",
       "<style scoped>\n",
       "    .dataframe tbody tr th:only-of-type {\n",
       "        vertical-align: middle;\n",
       "    }\n",
       "\n",
       "    .dataframe tbody tr th {\n",
       "        vertical-align: top;\n",
       "    }\n",
       "\n",
       "    .dataframe thead th {\n",
       "        text-align: right;\n",
       "    }\n",
       "</style>\n",
       "<table border=\"1\" class=\"dataframe\">\n",
       "  <thead>\n",
       "    <tr style=\"text-align: right;\">\n",
       "      <th></th>\n",
       "      <th>ID</th>\n",
       "      <th>ipr</th>\n",
       "      <th>domain</th>\n",
       "      <th>familyID</th>\n",
       "      <th>start</th>\n",
       "      <th>end</th>\n",
       "    </tr>\n",
       "  </thead>\n",
       "  <tbody>\n",
       "    <tr>\n",
       "      <th>0</th>\n",
       "      <td>A0A0B4JCV4</td>\n",
       "      <td>(IPR039915,)</td>\n",
       "      <td>(TACC family,)</td>\n",
       "      <td>(PTHR13924,)</td>\n",
       "      <td>(38,)</td>\n",
       "      <td>(1206,)</td>\n",
       "    </tr>\n",
       "    <tr>\n",
       "      <th>1</th>\n",
       "      <td>A0A0B4KHT0</td>\n",
       "      <td>(IPR000315, IPR000315, IPR000315, IPR000315, I...</td>\n",
       "      <td>(B-box-type zinc finger, B-box-type zinc finge...</td>\n",
       "      <td>(PF00643, PF00643, PS50119, PS50119, SM00336, ...</td>\n",
       "      <td>(177, 236, 173, 235, 173, 235, 976, 826, 988, ...</td>\n",
       "      <td>(219, 274, 220, 282, 220, 276, 1048, 839, 1004...</td>\n",
       "    </tr>\n",
       "    <tr>\n",
       "      <th>2</th>\n",
       "      <td>A0A0B4P506</td>\n",
       "      <td>(IPR003417, IPR003417, IPR036552, IPR036552)</td>\n",
       "      <td>(Core-binding factor, beta subunit, Core-bindi...</td>\n",
       "      <td>(PF02312, PTHR10276, G3DSA:2.40.250.10, SSF50723)</td>\n",
       "      <td>(1, 1, 1, 4)</td>\n",
       "      <td>(164, 168, 142, 140)</td>\n",
       "    </tr>\n",
       "    <tr>\n",
       "      <th>3</th>\n",
       "      <td>A0A0G2K1A2</td>\n",
       "      <td>(IPR010255, IPR019791, IPR019791, IPR019791, I...</td>\n",
       "      <td>(Haem peroxidase superfamily, Haem peroxidase,...</td>\n",
       "      <td>(SSF48113, PF03098, PR00457, PR00457, PR00457,...</td>\n",
       "      <td>(142, 148, 172, 226, 374, 392, 417, 470, 598, ...</td>\n",
       "      <td>(718, 692, 183, 241, 392, 412, 443, 480, 618, ...</td>\n",
       "    </tr>\n",
       "    <tr>\n",
       "      <th>4</th>\n",
       "      <td>A0A0G2K1V4</td>\n",
       "      <td>(IPR000048, IPR000048, IPR001609, IPR001609, I...</td>\n",
       "      <td>(IQ motif, EF-hand binding site, IQ motif, EF-...</td>\n",
       "      <td>(PS50096, SM00015, PF00063, PR00193, PR00193, ...</td>\n",
       "      <td>(789, 788, 89, 116, 172, 228, 459, 513, 86, 80...</td>\n",
       "      <td>(818, 810, 774, 135, 197, 255, 487, 541, 786, ...</td>\n",
       "    </tr>\n",
       "  </tbody>\n",
       "</table>\n",
       "</div>"
      ],
      "text/plain": [
       "           ID                                                ipr  \\\n",
       "0  A0A0B4JCV4                                       (IPR039915,)   \n",
       "1  A0A0B4KHT0  (IPR000315, IPR000315, IPR000315, IPR000315, I...   \n",
       "2  A0A0B4P506       (IPR003417, IPR003417, IPR036552, IPR036552)   \n",
       "3  A0A0G2K1A2  (IPR010255, IPR019791, IPR019791, IPR019791, I...   \n",
       "4  A0A0G2K1V4  (IPR000048, IPR000048, IPR001609, IPR001609, I...   \n",
       "\n",
       "                                              domain  \\\n",
       "0                                     (TACC family,)   \n",
       "1  (B-box-type zinc finger, B-box-type zinc finge...   \n",
       "2  (Core-binding factor, beta subunit, Core-bindi...   \n",
       "3  (Haem peroxidase superfamily, Haem peroxidase,...   \n",
       "4  (IQ motif, EF-hand binding site, IQ motif, EF-...   \n",
       "\n",
       "                                            familyID  \\\n",
       "0                                       (PTHR13924,)   \n",
       "1  (PF00643, PF00643, PS50119, PS50119, SM00336, ...   \n",
       "2  (PF02312, PTHR10276, G3DSA:2.40.250.10, SSF50723)   \n",
       "3  (SSF48113, PF03098, PR00457, PR00457, PR00457,...   \n",
       "4  (PS50096, SM00015, PF00063, PR00193, PR00193, ...   \n",
       "\n",
       "                                               start  \\\n",
       "0                                              (38,)   \n",
       "1  (177, 236, 173, 235, 173, 235, 976, 826, 988, ...   \n",
       "2                                       (1, 1, 1, 4)   \n",
       "3  (142, 148, 172, 226, 374, 392, 417, 470, 598, ...   \n",
       "4  (789, 788, 89, 116, 172, 228, 459, 513, 86, 80...   \n",
       "\n",
       "                                                 end  \n",
       "0                                            (1206,)  \n",
       "1  (219, 274, 220, 282, 220, 276, 1048, 839, 1004...  \n",
       "2                               (164, 168, 142, 140)  \n",
       "3  (718, 692, 183, 241, 392, 412, 443, 480, 618, ...  \n",
       "4  (818, 810, 774, 135, 197, 255, 487, 541, 786, ...  "
      ]
     },
     "execution_count": 36,
     "metadata": {},
     "output_type": "execute_result"
    }
   ],
   "source": [
    "# Group by 'ID' and aggregate other columns into lists\n",
    "test_protein2ipr_grouped = test_protein2ipr.groupby('ID').agg(lambda x: tuple(x)).reset_index()\n",
    "\n",
    "print(f\"Test protein2ipr ({test_protein2ipr.shape}):\")\n",
    "test_protein2ipr_grouped.head()"
   ]
  },
  {
   "cell_type": "markdown",
   "metadata": {},
   "source": [
    "### Extracting `blast_test_results.tsv`"
   ]
  },
  {
   "cell_type": "markdown",
   "metadata": {},
   "source": []
  },
  {
   "cell_type": "markdown",
   "metadata": {},
   "source": [
    "### Merging"
   ]
  },
  {
   "cell_type": "code",
   "execution_count": 37,
   "metadata": {},
   "outputs": [
    {
     "name": "stdout",
     "output_type": "stream",
     "text": [
      "Number of rows missing from train_protein2ipr_grouped: 19\n",
      "Combined DataFrame shape: (1000, 7)\n"
     ]
    },
    {
     "data": {
      "text/html": [
       "<div>\n",
       "<style scoped>\n",
       "    .dataframe tbody tr th:only-of-type {\n",
       "        vertical-align: middle;\n",
       "    }\n",
       "\n",
       "    .dataframe tbody tr th {\n",
       "        vertical-align: top;\n",
       "    }\n",
       "\n",
       "    .dataframe thead th {\n",
       "        text-align: right;\n",
       "    }\n",
       "</style>\n",
       "<table border=\"1\" class=\"dataframe\">\n",
       "  <thead>\n",
       "    <tr style=\"text-align: right;\">\n",
       "      <th></th>\n",
       "      <th>ID</th>\n",
       "      <th>sequence</th>\n",
       "      <th>ipr</th>\n",
       "      <th>domain</th>\n",
       "      <th>familyID</th>\n",
       "      <th>start</th>\n",
       "      <th>end</th>\n",
       "    </tr>\n",
       "  </thead>\n",
       "  <tbody>\n",
       "    <tr>\n",
       "      <th>0</th>\n",
       "      <td>O43747</td>\n",
       "      <td>(M, P, A, P, I, R, L, R, E, L, I, R, T, I, R, ...</td>\n",
       "      <td>(IPR002553, IPR008152, IPR008152, IPR008153, I...</td>\n",
       "      <td>(Clathrin/coatomer adaptor, adaptin-like, N-te...</td>\n",
       "      <td>(PF01602, PF02883, SM00809, PS50180, G3DSA:1.2...</td>\n",
       "      <td>(23, 706, 699, 702, 1, 695, 22, 3)</td>\n",
       "      <td>(573, 817, 817, 817, 588, 821, 599, 820)</td>\n",
       "    </tr>\n",
       "    <tr>\n",
       "      <th>1</th>\n",
       "      <td>Q969H0</td>\n",
       "      <td>(M, N, Q, E, L, L, S, V, G, S, K, R, R, R, T, ...</td>\n",
       "      <td>(IPR001680, IPR001680, IPR001680, IPR001680, I...</td>\n",
       "      <td>(WD40 repeat, WD40 repeat, WD40 repeat, WD40 r...</td>\n",
       "      <td>(PF00400, PF00400, PF00400, PF00400, PF00400, ...</td>\n",
       "      <td>(373, 411, 451, 491, 532, 571, 611, 391, 417, ...</td>\n",
       "      <td>(407, 447, 487, 527, 567, 607, 650, 416, 456, ...</td>\n",
       "    </tr>\n",
       "    <tr>\n",
       "      <th>2</th>\n",
       "      <td>Q9JMA2</td>\n",
       "      <td>(M, A, A, V, G, S, P, G, S, L, E, S, A, P, R, ...</td>\n",
       "      <td>(IPR002616, IPR002616, IPR004803, IPR004803, I...</td>\n",
       "      <td>(tRNA-guanine(15) transglycosylase-like, tRNA-...</td>\n",
       "      <td>(PF01702, TIGR00449, MF_00168, TIGR00430, G3DS...</td>\n",
       "      <td>(27, 22, 15, 21, 16, 22)</td>\n",
       "      <td>(380, 380, 379, 380, 382, 380)</td>\n",
       "    </tr>\n",
       "    <tr>\n",
       "      <th>3</th>\n",
       "      <td>P18065</td>\n",
       "      <td>(M, L, P, R, V, G, C, P, A, L, P, L, P, P, P, ...</td>\n",
       "      <td>(IPR000716, IPR000716, IPR000716, IPR000716, I...</td>\n",
       "      <td>(Thyroglobulin type-1, Thyroglobulin type-1, T...</td>\n",
       "      <td>(PF00086, PS00484, PS51162, SM00211, cd00191, ...</td>\n",
       "      <td>(227, 257, 224, 258, 226, 42, 38, 40, 39, 87, ...</td>\n",
       "      <td>(306, 291, 306, 310, 306, 111, 134, 133, 136, ...</td>\n",
       "    </tr>\n",
       "    <tr>\n",
       "      <th>4</th>\n",
       "      <td>A0A8I6AN32</td>\n",
       "      <td>(M, A, S, N, D, Y, T, Q, Q, A, T, Q, S, Y, G, ...</td>\n",
       "      <td>(IPR001876, IPR001876, IPR001876, IPR001876, I...</td>\n",
       "      <td>(Zinc finger, RanBP2-type, Zinc finger, RanBP2...</td>\n",
       "      <td>(PF00641, PS01358, PS50199, SM00547, SSF90209)</td>\n",
       "      <td>(177, 181, 177, 179, 170)</td>\n",
       "      <td>(208, 202, 208, 205, 209)</td>\n",
       "    </tr>\n",
       "  </tbody>\n",
       "</table>\n",
       "</div>"
      ],
      "text/plain": [
       "           ID                                           sequence  \\\n",
       "0      O43747  (M, P, A, P, I, R, L, R, E, L, I, R, T, I, R, ...   \n",
       "1      Q969H0  (M, N, Q, E, L, L, S, V, G, S, K, R, R, R, T, ...   \n",
       "2      Q9JMA2  (M, A, A, V, G, S, P, G, S, L, E, S, A, P, R, ...   \n",
       "3      P18065  (M, L, P, R, V, G, C, P, A, L, P, L, P, P, P, ...   \n",
       "4  A0A8I6AN32  (M, A, S, N, D, Y, T, Q, Q, A, T, Q, S, Y, G, ...   \n",
       "\n",
       "                                                 ipr  \\\n",
       "0  (IPR002553, IPR008152, IPR008152, IPR008153, I...   \n",
       "1  (IPR001680, IPR001680, IPR001680, IPR001680, I...   \n",
       "2  (IPR002616, IPR002616, IPR004803, IPR004803, I...   \n",
       "3  (IPR000716, IPR000716, IPR000716, IPR000716, I...   \n",
       "4  (IPR001876, IPR001876, IPR001876, IPR001876, I...   \n",
       "\n",
       "                                              domain  \\\n",
       "0  (Clathrin/coatomer adaptor, adaptin-like, N-te...   \n",
       "1  (WD40 repeat, WD40 repeat, WD40 repeat, WD40 r...   \n",
       "2  (tRNA-guanine(15) transglycosylase-like, tRNA-...   \n",
       "3  (Thyroglobulin type-1, Thyroglobulin type-1, T...   \n",
       "4  (Zinc finger, RanBP2-type, Zinc finger, RanBP2...   \n",
       "\n",
       "                                            familyID  \\\n",
       "0  (PF01602, PF02883, SM00809, PS50180, G3DSA:1.2...   \n",
       "1  (PF00400, PF00400, PF00400, PF00400, PF00400, ...   \n",
       "2  (PF01702, TIGR00449, MF_00168, TIGR00430, G3DS...   \n",
       "3  (PF00086, PS00484, PS51162, SM00211, cd00191, ...   \n",
       "4     (PF00641, PS01358, PS50199, SM00547, SSF90209)   \n",
       "\n",
       "                                               start  \\\n",
       "0                 (23, 706, 699, 702, 1, 695, 22, 3)   \n",
       "1  (373, 411, 451, 491, 532, 571, 611, 391, 417, ...   \n",
       "2                           (27, 22, 15, 21, 16, 22)   \n",
       "3  (227, 257, 224, 258, 226, 42, 38, 40, 39, 87, ...   \n",
       "4                          (177, 181, 177, 179, 170)   \n",
       "\n",
       "                                                 end  \n",
       "0           (573, 817, 817, 817, 588, 821, 599, 820)  \n",
       "1  (407, 447, 487, 527, 567, 607, 650, 416, 456, ...  \n",
       "2                     (380, 380, 379, 380, 382, 380)  \n",
       "3  (306, 291, 306, 310, 306, 111, 134, 133, 136, ...  \n",
       "4                          (208, 202, 208, 205, 209)  "
      ]
     },
     "execution_count": 37,
     "metadata": {},
     "output_type": "execute_result"
    }
   ],
   "source": [
    "# combined_test = pd.merge(test_embeddings, test_fasta, on='ID')\n",
    "# combined_test = pd.merge(combined_test, test_protein2ipr_grouped, on='ID', how='left')\n",
    "\n",
    "combined_test = pd.merge(test_fasta, test_protein2ipr_grouped, on='ID', how='left')\n",
    "\n",
    "missing_rows = combined_test[combined_test['ipr'].isna()].shape[0]\n",
    "print(f\"Number of rows missing from train_protein2ipr_grouped: {missing_rows}\")\n",
    "\n",
    "print(f\"Combined DataFrame shape: {combined_test.shape}\")\n",
    "combined_test.head()"
   ]
  },
  {
   "cell_type": "code",
   "execution_count": 38,
   "metadata": {},
   "outputs": [
    {
     "name": "stdout",
     "output_type": "stream",
     "text": [
      "Combined_train and combined_test have the same columns: True\n"
     ]
    }
   ],
   "source": [
    "# Check if combined_train and combined_test have the same columns\n",
    "print(\"Combined_train and combined_test have the same columns:\" , set(combined_train.columns) == set(combined_test.columns))"
   ]
  },
  {
   "cell_type": "code",
   "execution_count": 39,
   "metadata": {},
   "outputs": [],
   "source": [
    "### EXPORT\n",
    "#export_dataframe(combined_test, 'x_df_test.csv')\n",
    "#export_numpy_array(test_embeddings, 'test_emb.npy')"
   ]
  },
  {
   "cell_type": "markdown",
   "metadata": {},
   "source": [
    "# PCA for embeddings"
   ]
  },
  {
   "cell_type": "code",
   "execution_count": 40,
   "metadata": {},
   "outputs": [
    {
     "data": {
      "text/plain": [
       "'\\n# Standardize\\nscaler = StandardScaler()\\nembeddings_standardized = scaler.fit_transform(train_embeddings_np)\\n\\n# Apply PCA\\n\",\\npca = PCA()\\npca.fit(embeddings_standardized)\\n\\n# Plot cumulative explained variance\\nexplained_variance = pca.explained_variance_ratio_\\nplt.figure(figsize=(10, 6))\\nplt.plot(np.cumsum(explained_variance), marker=\\'o\\')\\nplt.title(\\'Cumulative Explained Variance by PCA Components\\')\\nplt.xlabel(\\'Number of Components\\')\\nplt.ylabel(\\'Cumulative Explained Variance\\')\\nplt.grid(True)\\nplt.show()\\n\\n# Choose the number of components to retain (in our case 90% of variance)\\nn_components = np.argmax(np.cumsum(explained_variance) >= 0.90) + 1\\nprint(f\"Number of components to retain 90% variance: {n_components}\")\\n\\n# Apply PCA with chosen number of components\\npca = PCA(n_components=n_components)\\nreduced_embeddings_np = pca.fit_transform(embeddings_standardized)\\n\\n##Integrate reduced embeddings into combined_df\\n#combined_train[\\'reduced_embeddings\\'] = reduced_embeddings.tolist()\\n#print(combined_train[[\\'embeddings\\', \\'reduced_embeddings\\']].head())\\n'"
      ]
     },
     "execution_count": 40,
     "metadata": {},
     "output_type": "execute_result"
    }
   ],
   "source": [
    "'''\n",
    "# Standardize\n",
    "scaler = StandardScaler()\n",
    "embeddings_standardized = scaler.fit_transform(train_embeddings_np)\n",
    "\n",
    "# Apply PCA\\n\",\n",
    "pca = PCA()\n",
    "pca.fit(embeddings_standardized)\n",
    "\n",
    "# Plot cumulative explained variance\n",
    "explained_variance = pca.explained_variance_ratio_\n",
    "plt.figure(figsize=(10, 6))\n",
    "plt.plot(np.cumsum(explained_variance), marker='o')\n",
    "plt.title('Cumulative Explained Variance by PCA Components')\n",
    "plt.xlabel('Number of Components')\n",
    "plt.ylabel('Cumulative Explained Variance')\n",
    "plt.grid(True)\n",
    "plt.show()\n",
    "\n",
    "# Choose the number of components to retain (in our case 90% of variance)\n",
    "n_components = np.argmax(np.cumsum(explained_variance) >= 0.90) + 1\n",
    "print(f\"Number of components to retain 90% variance: {n_components}\")\n",
    "\n",
    "# Apply PCA with chosen number of components\n",
    "pca = PCA(n_components=n_components)\n",
    "reduced_embeddings_np = pca.fit_transform(embeddings_standardized)\n",
    "\n",
    "##Integrate reduced embeddings into combined_df\n",
    "#combined_train['reduced_embeddings'] = reduced_embeddings.tolist()\n",
    "#print(combined_train[['embeddings', 'reduced_embeddings']].head())\n",
    "'''"
   ]
  },
  {
   "cell_type": "markdown",
   "metadata": {},
   "source": [
    "We'll see that considering each df separately doesn't change much."
   ]
  },
  {
   "cell_type": "code",
   "execution_count": 41,
   "metadata": {},
   "outputs": [
    {
     "data": {
      "image/png": "[encoded data removed]",
      "text/plain": [
       "<Figure size 800x450 with 1 Axes>"
      ]
     },
     "metadata": {},
     "output_type": "display_data"
    },
    {
     "data": {
      "image/png": "[encoded data removed]",
      "text/plain": [
       "<Figure size 800x450 with 1 Axes>"
      ]
     },
     "metadata": {},
     "output_type": "display_data"
    },
    {
     "data": {
      "image/png": "[encoded data removed]",
      "text/plain": [
       "<Figure size 800x450 with 1 Axes>"
      ]
     },
     "metadata": {},
     "output_type": "display_data"
    }
   ],
   "source": [
    "def pca_col(np_mat, name, column_name='embeddings', variance_threshold=0.90):    \n",
    "    scaler = StandardScaler()\n",
    "    embeddings_standardized = scaler.fit_transform(np_mat)\n",
    "    \n",
    "    pca = PCA()\n",
    "    pca.fit(embeddings_standardized)\n",
    "    explained_variance = pca.explained_variance_ratio_\n",
    "\n",
    "    # Components to retain (in our case 90% of variance)\n",
    "    n_components = np.argmax(np.cumsum(explained_variance) >= variance_threshold) + 1\n",
    "        \n",
    "    plt.figure(figsize=(8, 4.5))\n",
    "    plt.axhline(y=variance_threshold, color='r', linestyle='--')\n",
    "    x_value = np.argmax(np.cumsum(explained_variance) >= variance_threshold) + 1\n",
    "    plt.axvline(x=x_value, color='g', linestyle='--')\n",
    "    plt.text(x_value + 10, 0.025, f'{x_value}', color='green', size='large', weight='bold')\n",
    "    plt.text(- 50, variance_threshold + 0.025, f'{variance_threshold:.2f}', color='red', size='large', weight='bold')\n",
    "\n",
    "    plt.plot(np.cumsum(explained_variance), marker='o')\n",
    "    plt.title(f'Cumulative Explained Variance by PCA Components for {name}')\n",
    "    plt.xlabel('Number of Components')\n",
    "    plt.ylabel('Cumulative Explained Variance')\n",
    "    plt.grid(True)\n",
    "    plt.show()\n",
    "    \n",
    "    pca = PCA(n_components=n_components)\n",
    "    reduced_embeddings = pca.fit_transform(embeddings_standardized)\n",
    "    \n",
    "    return reduced_embeddings\n",
    "\n",
    "# Apply PCA and add column for each dataset\n",
    "x_remb_BP = pca_col(x_emb_BP, 'BP')\n",
    "x_remb_CC = pca_col(x_emb_CC, 'CC')\n",
    "x_remb_MF = pca_col(x_emb_MF, 'MF')"
   ]
  },
  {
   "cell_type": "code",
   "execution_count": 42,
   "metadata": {},
   "outputs": [
    {
     "name": "stdout",
     "output_type": "stream",
     "text": [
      "(83064, 274)\n"
     ]
    }
   ],
   "source": [
    "print(x_remb_BP.shape)"
   ]
  },
  {
   "cell_type": "code",
   "execution_count": 43,
   "metadata": {},
   "outputs": [],
   "source": [
    "#export_numpy_array(x_remb_CC, 'x_remb_CC.npy')\n",
    "#export_numpy_array(x_remb_MF, 'x_remb_MF.npy')\n",
    "#export_numpy_array(x_remb_BP, 'x_remb_BP.npy')"
   ]
  },
  {
   "cell_type": "markdown",
   "metadata": {},
   "source": [
    "# CC (Elia)"
   ]
  },
  {
   "cell_type": "code",
   "execution_count": 44,
   "metadata": {},
   "outputs": [
    {
     "ename": "KeyError",
     "evalue": "'reduced_embeddings'",
     "output_type": "error",
     "traceback": [
      "\u001b[1;31m---------------------------------------------------------------------------\u001b[0m",
      "\u001b[1;31mKeyError\u001b[0m                                  Traceback (most recent call last)",
      "File \u001b[1;32mc:\\ProgramData\\anaconda3\\Lib\\site-packages\\pandas\\core\\indexes\\base.py:3791\u001b[0m, in \u001b[0;36mIndex.get_loc\u001b[1;34m(self, key)\u001b[0m\n\u001b[0;32m   3790\u001b[0m \u001b[38;5;28;01mtry\u001b[39;00m:\n\u001b[1;32m-> 3791\u001b[0m     \u001b[38;5;28;01mreturn\u001b[39;00m \u001b[38;5;28mself\u001b[39m\u001b[38;5;241m.\u001b[39m_engine\u001b[38;5;241m.\u001b[39mget_loc(casted_key)\n\u001b[0;32m   3792\u001b[0m \u001b[38;5;28;01mexcept\u001b[39;00m \u001b[38;5;167;01mKeyError\u001b[39;00m \u001b[38;5;28;01mas\u001b[39;00m err:\n",
      "File \u001b[1;32mindex.pyx:152\u001b[0m, in \u001b[0;36mpandas._libs.index.IndexEngine.get_loc\u001b[1;34m()\u001b[0m\n",
      "File \u001b[1;32mindex.pyx:181\u001b[0m, in \u001b[0;36mpandas._libs.index.IndexEngine.get_loc\u001b[1;34m()\u001b[0m\n",
      "File \u001b[1;32mpandas\\_libs\\hashtable_class_helper.pxi:7080\u001b[0m, in \u001b[0;36mpandas._libs.hashtable.PyObjectHashTable.get_item\u001b[1;34m()\u001b[0m\n",
      "File \u001b[1;32mpandas\\_libs\\hashtable_class_helper.pxi:7088\u001b[0m, in \u001b[0;36mpandas._libs.hashtable.PyObjectHashTable.get_item\u001b[1;34m()\u001b[0m\n",
      "\u001b[1;31mKeyError\u001b[0m: 'reduced_embeddings'",
      "\nThe above exception was the direct cause of the following exception:\n",
      "\u001b[1;31mKeyError\u001b[0m                                  Traceback (most recent call last)",
      "Cell \u001b[1;32mIn[44], line 9\u001b[0m\n\u001b[0;32m      6\u001b[0m \u001b[38;5;28;01mfrom\u001b[39;00m \u001b[38;5;21;01mscipy\u001b[39;00m\u001b[38;5;21;01m.\u001b[39;00m\u001b[38;5;21;01msparse\u001b[39;00m \u001b[38;5;28;01mimport\u001b[39;00m csr_matrix  \u001b[38;5;66;03m# For sparse matrix\u001b[39;00m\n\u001b[0;32m      8\u001b[0m \u001b[38;5;66;03m# Load data\u001b[39;00m\n\u001b[1;32m----> 9\u001b[0m X \u001b[38;5;241m=\u001b[39m x_df_CC[\u001b[38;5;124m'\u001b[39m\u001b[38;5;124mreduced_embeddings\u001b[39m\u001b[38;5;124m'\u001b[39m]  \u001b[38;5;66;03m# Assuming embeddings are already reduced\u001b[39;00m\n\u001b[0;32m     10\u001b[0m X \u001b[38;5;241m=\u001b[39m pd\u001b[38;5;241m.\u001b[39mDataFrame(X\u001b[38;5;241m.\u001b[39mtolist())  \u001b[38;5;66;03m# Convert list of lists to DataFrame\u001b[39;00m\n\u001b[0;32m     12\u001b[0m \u001b[38;5;66;03m# Convert to sparse matrix if data is sparse (this can speed up the process)\u001b[39;00m\n",
      "File \u001b[1;32mc:\\ProgramData\\anaconda3\\Lib\\site-packages\\pandas\\core\\frame.py:3893\u001b[0m, in \u001b[0;36mDataFrame.__getitem__\u001b[1;34m(self, key)\u001b[0m\n\u001b[0;32m   3891\u001b[0m \u001b[38;5;28;01mif\u001b[39;00m \u001b[38;5;28mself\u001b[39m\u001b[38;5;241m.\u001b[39mcolumns\u001b[38;5;241m.\u001b[39mnlevels \u001b[38;5;241m>\u001b[39m \u001b[38;5;241m1\u001b[39m:\n\u001b[0;32m   3892\u001b[0m     \u001b[38;5;28;01mreturn\u001b[39;00m \u001b[38;5;28mself\u001b[39m\u001b[38;5;241m.\u001b[39m_getitem_multilevel(key)\n\u001b[1;32m-> 3893\u001b[0m indexer \u001b[38;5;241m=\u001b[39m \u001b[38;5;28mself\u001b[39m\u001b[38;5;241m.\u001b[39mcolumns\u001b[38;5;241m.\u001b[39mget_loc(key)\n\u001b[0;32m   3894\u001b[0m \u001b[38;5;28;01mif\u001b[39;00m is_integer(indexer):\n\u001b[0;32m   3895\u001b[0m     indexer \u001b[38;5;241m=\u001b[39m [indexer]\n",
      "File \u001b[1;32mc:\\ProgramData\\anaconda3\\Lib\\site-packages\\pandas\\core\\indexes\\base.py:3798\u001b[0m, in \u001b[0;36mIndex.get_loc\u001b[1;34m(self, key)\u001b[0m\n\u001b[0;32m   3793\u001b[0m     \u001b[38;5;28;01mif\u001b[39;00m \u001b[38;5;28misinstance\u001b[39m(casted_key, \u001b[38;5;28mslice\u001b[39m) \u001b[38;5;129;01mor\u001b[39;00m (\n\u001b[0;32m   3794\u001b[0m         \u001b[38;5;28misinstance\u001b[39m(casted_key, abc\u001b[38;5;241m.\u001b[39mIterable)\n\u001b[0;32m   3795\u001b[0m         \u001b[38;5;129;01mand\u001b[39;00m \u001b[38;5;28many\u001b[39m(\u001b[38;5;28misinstance\u001b[39m(x, \u001b[38;5;28mslice\u001b[39m) \u001b[38;5;28;01mfor\u001b[39;00m x \u001b[38;5;129;01min\u001b[39;00m casted_key)\n\u001b[0;32m   3796\u001b[0m     ):\n\u001b[0;32m   3797\u001b[0m         \u001b[38;5;28;01mraise\u001b[39;00m InvalidIndexError(key)\n\u001b[1;32m-> 3798\u001b[0m     \u001b[38;5;28;01mraise\u001b[39;00m \u001b[38;5;167;01mKeyError\u001b[39;00m(key) \u001b[38;5;28;01mfrom\u001b[39;00m \u001b[38;5;21;01merr\u001b[39;00m\n\u001b[0;32m   3799\u001b[0m \u001b[38;5;28;01mexcept\u001b[39;00m \u001b[38;5;167;01mTypeError\u001b[39;00m:\n\u001b[0;32m   3800\u001b[0m     \u001b[38;5;66;03m# If we have a listlike key, _check_indexing_error will raise\u001b[39;00m\n\u001b[0;32m   3801\u001b[0m     \u001b[38;5;66;03m#  InvalidIndexError. Otherwise we fall through and re-raise\u001b[39;00m\n\u001b[0;32m   3802\u001b[0m     \u001b[38;5;66;03m#  the TypeError.\u001b[39;00m\n\u001b[0;32m   3803\u001b[0m     \u001b[38;5;28mself\u001b[39m\u001b[38;5;241m.\u001b[39m_check_indexing_error(key)\n",
      "\u001b[1;31mKeyError\u001b[0m: 'reduced_embeddings'"
     ]
    }
   ],
   "source": [
    "from sklearn.model_selection import train_test_split\n",
    "from sklearn.preprocessing import MultiLabelBinarizer\n",
    "from sklearn.metrics import classification_report\n",
    "from sklearn.linear_model import SGDClassifier\n",
    "from sklearn.multiclass import OneVsRestClassifier\n",
    "from scipy.sparse import csr_matrix  # For sparse matrix\n",
    "\n",
    "# Load data\n",
    "X = x_df_CC['reduced_embeddings']  # Assuming embeddings are already reduced\n",
    "X = pd.DataFrame(X.tolist())  # Convert list of lists to DataFrame\n",
    "\n",
    "# Convert to sparse matrix if data is sparse (this can speed up the process)\n",
    "X_sparse = csr_matrix(X)\n",
    "\n",
    "# Preprocess target (MultiLabelBinarizer for multi-label classification)\n",
    "mlb = MultiLabelBinarizer()\n",
    "y = mlb.fit_transform(y_df_CC)\n",
    "\n",
    "# Split data\n",
    "X_train, X_test, y_train, y_test = train_test_split(X_sparse, y, test_size=0.2, random_state=42)\n",
    "\n",
    "# Train SGDClassifier with OneVsRestClassifier and parallel processing\n",
    "sgd = OneVsRestClassifier(SGDClassifier(loss='log_loss', random_state=42, n_jobs=-1, max_iter=100), n_jobs=-1, verbose=5)\n",
    "sgd.fit(X_train, y_train)\n",
    "\n",
    "# Evaluate\n",
    "y_pred = sgd.predict(X_test)\n",
    "print(classification_report(y_test, y_pred, target_names=mlb.classes_))"
   ]
  }
 ],
 "metadata": {
  "kernelspec": {
   "display_name": "base",
   "language": "python",
   "name": "python3"
  },
  "language_info": {
   "codemirror_mode": {
    "name": "ipython",
    "version": 3
   },
   "file_extension": ".py",
   "mimetype": "text/x-python",
   "name": "python",
   "nbconvert_exporter": "python",
   "pygments_lexer": "ipython3",
   "version": "3.11.7"
  }
 },
 "nbformat": 4,
 "nbformat_minor": 2
}
